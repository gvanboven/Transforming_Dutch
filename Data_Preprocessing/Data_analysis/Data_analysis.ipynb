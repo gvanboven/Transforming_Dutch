{
 "cells": [
  {
   "cell_type": "code",
   "execution_count": 1,
   "metadata": {},
   "outputs": [],
   "source": [
    "import json\n",
    "import matplotlib.pyplot as plt\n",
    "import os\n",
    "\n",
    "import pandas as pd\n",
    "import seaborn as sns\n",
    "import numpy as np\n",
    "import matplotlib.pyplot as plt\n",
    "\n",
    "from collections import defaultdict\n",
    "import re"
   ]
  },
  {
   "cell_type": "markdown",
   "metadata": {},
   "source": [
    "### sentence lengths"
   ]
  },
  {
   "cell_type": "code",
   "execution_count": 3,
   "metadata": {},
   "outputs": [
    {
     "data": {
      "text/html": [
       "<div>\n",
       "<style scoped>\n",
       "    .dataframe tbody tr th:only-of-type {\n",
       "        vertical-align: middle;\n",
       "    }\n",
       "\n",
       "    .dataframe tbody tr th {\n",
       "        vertical-align: top;\n",
       "    }\n",
       "\n",
       "    .dataframe thead th {\n",
       "        text-align: right;\n",
       "    }\n",
       "</style>\n",
       "<table border=\"1\" class=\"dataframe\">\n",
       "  <thead>\n",
       "    <tr style=\"text-align: right;\">\n",
       "      <th></th>\n",
       "      <th>doc length</th>\n",
       "    </tr>\n",
       "  </thead>\n",
       "  <tbody>\n",
       "    <tr>\n",
       "      <th>count</th>\n",
       "      <td>861.000000</td>\n",
       "    </tr>\n",
       "    <tr>\n",
       "      <th>mean</th>\n",
       "      <td>69.602787</td>\n",
       "    </tr>\n",
       "    <tr>\n",
       "      <th>std</th>\n",
       "      <td>97.196493</td>\n",
       "    </tr>\n",
       "    <tr>\n",
       "      <th>min</th>\n",
       "      <td>3.000000</td>\n",
       "    </tr>\n",
       "    <tr>\n",
       "      <th>25%</th>\n",
       "      <td>10.000000</td>\n",
       "    </tr>\n",
       "    <tr>\n",
       "      <th>50%</th>\n",
       "      <td>31.000000</td>\n",
       "    </tr>\n",
       "    <tr>\n",
       "      <th>75%</th>\n",
       "      <td>94.000000</td>\n",
       "    </tr>\n",
       "    <tr>\n",
       "      <th>max</th>\n",
       "      <td>950.000000</td>\n",
       "    </tr>\n",
       "  </tbody>\n",
       "</table>\n",
       "</div>"
      ],
      "text/plain": [
       "       doc length\n",
       "count  861.000000\n",
       "mean    69.602787\n",
       "std     97.196493\n",
       "min      3.000000\n",
       "25%     10.000000\n",
       "50%     31.000000\n",
       "75%     94.000000\n",
       "max    950.000000"
      ]
     },
     "execution_count": 3,
     "metadata": {},
     "output_type": "execute_result"
    }
   ],
   "source": [
    "with open(f'doc_lens.json') as json_file:\n",
    "        lens = json.load(json_file)\n",
    "df = pd.DataFrame([[k,v] for k,v in lens.items()], columns=['filename', 'doc length'])\n",
    "df.describe()"
   ]
  },
  {
   "cell_type": "code",
   "execution_count": 4,
   "metadata": {},
   "outputs": [
    {
     "data": {
      "text/plain": [
       "16.99873181150714"
      ]
     },
     "execution_count": 4,
     "metadata": {},
     "output_type": "execute_result"
    }
   ],
   "source": [
    "10187 / sum(lens.values()) * 100"
   ]
  },
  {
   "cell_type": "code",
   "execution_count": 5,
   "metadata": {},
   "outputs": [
    {
     "data": {
      "image/png": "[encoded data removed]",
      "text/plain": [
       "<Figure size 576x360 with 1 Axes>"
      ]
     },
     "metadata": {
      "needs_background": "light"
     },
     "output_type": "display_data"
    }
   ],
   "source": [
    "fig, ax = plt.subplots(figsize=(8.0,5.0))\n",
    "sns.despine(left=True)\n",
    "sns.set_style(\"whitegrid\", {\"grid.color\": \".9\", \"grid.linestyle\": \"-\"})\n",
    "sns.set_context(\"talk\")\n",
    "\n",
    "# creating the bar plot\n",
    "#plt.xticks(rotation=45)\n",
    "sns.histplot(ax=ax, data=df,  x='doc length', color ='steelblue', log_scale=True)\n",
    "\n",
    "plt.xlabel(\"Logged number of sentences per document\", fontweight='bold')\n",
    "plt.ylabel(\"Frequency\", fontweight='bold')\n",
    "\n",
    "plt.savefig(\"doclengths.pdf\", format=\"pdf\", bbox_inches=\"tight\")\n",
    "\n",
    "plt.show()\n",
    "\n",
    "#df.hist(column='doc length')\n"
   ]
  },
  {
   "cell_type": "markdown",
   "metadata": {},
   "source": [
    "### POS counts"
   ]
  },
  {
   "cell_type": "code",
   "execution_count": 6,
   "metadata": {},
   "outputs": [],
   "source": [
    "with open(f'poscounts.json') as json_file:\n",
    "        poscounts_data = json.load(json_file)\n",
    "df = pd.DataFrame([[k,v] for k,v in poscounts_data.items()], columns=['POS', 'count'])\n",
    "df['percentage'] = round((df['count'] / df['count'].sum())*100,2)"
   ]
  },
  {
   "cell_type": "code",
   "execution_count": 7,
   "metadata": {},
   "outputs": [
    {
     "data": {
      "text/html": [
       "<div>\n",
       "<style scoped>\n",
       "    .dataframe tbody tr th:only-of-type {\n",
       "        vertical-align: middle;\n",
       "    }\n",
       "\n",
       "    .dataframe tbody tr th {\n",
       "        vertical-align: top;\n",
       "    }\n",
       "\n",
       "    .dataframe thead th {\n",
       "        text-align: right;\n",
       "    }\n",
       "</style>\n",
       "<table border=\"1\" class=\"dataframe\">\n",
       "  <thead>\n",
       "    <tr style=\"text-align: right;\">\n",
       "      <th></th>\n",
       "      <th>POS</th>\n",
       "      <th>count</th>\n",
       "      <th>percentage</th>\n",
       "    </tr>\n",
       "  </thead>\n",
       "  <tbody>\n",
       "    <tr>\n",
       "      <th>0</th>\n",
       "      <td>NOUN</td>\n",
       "      <td>184749</td>\n",
       "      <td>18.48</td>\n",
       "    </tr>\n",
       "    <tr>\n",
       "      <th>3</th>\n",
       "      <td>ADP</td>\n",
       "      <td>134864</td>\n",
       "      <td>13.49</td>\n",
       "    </tr>\n",
       "    <tr>\n",
       "      <th>4</th>\n",
       "      <td>DET</td>\n",
       "      <td>119618</td>\n",
       "      <td>11.97</td>\n",
       "    </tr>\n",
       "    <tr>\n",
       "      <th>2</th>\n",
       "      <td>PUNCT</td>\n",
       "      <td>110436</td>\n",
       "      <td>11.05</td>\n",
       "    </tr>\n",
       "    <tr>\n",
       "      <th>9</th>\n",
       "      <td>VERB</td>\n",
       "      <td>93474</td>\n",
       "      <td>9.35</td>\n",
       "    </tr>\n",
       "    <tr>\n",
       "      <th>6</th>\n",
       "      <td>ADJ</td>\n",
       "      <td>73742</td>\n",
       "      <td>7.38</td>\n",
       "    </tr>\n",
       "    <tr>\n",
       "      <th>1</th>\n",
       "      <td>PROPN</td>\n",
       "      <td>68451</td>\n",
       "      <td>6.85</td>\n",
       "    </tr>\n",
       "    <tr>\n",
       "      <th>12</th>\n",
       "      <td>ADV</td>\n",
       "      <td>52236</td>\n",
       "      <td>5.23</td>\n",
       "    </tr>\n",
       "    <tr>\n",
       "      <th>5</th>\n",
       "      <td>PRON</td>\n",
       "      <td>45417</td>\n",
       "      <td>4.54</td>\n",
       "    </tr>\n",
       "    <tr>\n",
       "      <th>10</th>\n",
       "      <td>AUX</td>\n",
       "      <td>39275</td>\n",
       "      <td>3.93</td>\n",
       "    </tr>\n",
       "    <tr>\n",
       "      <th>11</th>\n",
       "      <td>CCONJ</td>\n",
       "      <td>28993</td>\n",
       "      <td>2.90</td>\n",
       "    </tr>\n",
       "    <tr>\n",
       "      <th>7</th>\n",
       "      <td>NUM</td>\n",
       "      <td>21078</td>\n",
       "      <td>2.11</td>\n",
       "    </tr>\n",
       "    <tr>\n",
       "      <th>14</th>\n",
       "      <td>SCONJ</td>\n",
       "      <td>15452</td>\n",
       "      <td>1.55</td>\n",
       "    </tr>\n",
       "    <tr>\n",
       "      <th>8</th>\n",
       "      <td>SYM</td>\n",
       "      <td>10865</td>\n",
       "      <td>1.09</td>\n",
       "    </tr>\n",
       "    <tr>\n",
       "      <th>13</th>\n",
       "      <td>X</td>\n",
       "      <td>717</td>\n",
       "      <td>0.07</td>\n",
       "    </tr>\n",
       "    <tr>\n",
       "      <th>15</th>\n",
       "      <td>INTJ</td>\n",
       "      <td>275</td>\n",
       "      <td>0.03</td>\n",
       "    </tr>\n",
       "  </tbody>\n",
       "</table>\n",
       "</div>"
      ],
      "text/plain": [
       "      POS   count  percentage\n",
       "0    NOUN  184749       18.48\n",
       "3     ADP  134864       13.49\n",
       "4     DET  119618       11.97\n",
       "2   PUNCT  110436       11.05\n",
       "9    VERB   93474        9.35\n",
       "6     ADJ   73742        7.38\n",
       "1   PROPN   68451        6.85\n",
       "12    ADV   52236        5.23\n",
       "5    PRON   45417        4.54\n",
       "10    AUX   39275        3.93\n",
       "11  CCONJ   28993        2.90\n",
       "7     NUM   21078        2.11\n",
       "14  SCONJ   15452        1.55\n",
       "8     SYM   10865        1.09\n",
       "13      X     717        0.07\n",
       "15   INTJ     275        0.03"
      ]
     },
     "execution_count": 7,
     "metadata": {},
     "output_type": "execute_result"
    }
   ],
   "source": [
    "df = df.sort_values(by=['count'], ascending=False)\n",
    "df"
   ]
  },
  {
   "cell_type": "code",
   "execution_count": 6,
   "metadata": {},
   "outputs": [],
   "source": [
    "def without_hue(ax, feature):\n",
    "    total = feature.sum()\n",
    "    for p in ax.patches:\n",
    "        percentage = '{:.1f}%'.format(100 * p.get_height()/total)\n",
    "        x = p.get_x() + p.get_width() / 2 - 0.3\n",
    "        y = p.get_y() + p.get_height() \n",
    "        ax.annotate(percentage, (x, y), size = 15, color='dimgrey')"
   ]
  },
  {
   "cell_type": "code",
   "execution_count": 9,
   "metadata": {},
   "outputs": [
    {
     "data": {
      "image/png": "[encoded data removed]",
      "text/plain": [
       "<Figure size 1080x360 with 1 Axes>"
      ]
     },
     "metadata": {},
     "output_type": "display_data"
    }
   ],
   "source": [
    "fig, ax = plt.subplots(figsize=(15.0,5.0))\n",
    "sns.despine(left=True)\n",
    "sns.set_style(\"whitegrid\", {\"grid.color\": \".9\", \"grid.linestyle\": \"-\"})\n",
    "sns.set_context(\"talk\")\n",
    "\n",
    "# creating the bar plot\n",
    "plt.xticks(rotation=45)\n",
    "sns.barplot(ax=ax, data=df, x='POS', y='count', color ='pink')\n",
    "\n",
    "plt.xlabel(\"POS\", fontweight='bold')\n",
    "plt.ylabel(\"Frequency\", fontweight='bold')\n",
    "without_hue(ax,df['count'])\n",
    "plt.savefig(\"posdistribution.pdf\", format=\"pdf\", bbox_inches=\"tight\")\n",
    "plt.show()\n"
   ]
  },
  {
   "cell_type": "code",
   "execution_count": 10,
   "metadata": {},
   "outputs": [],
   "source": [
    "def get_nr_value(nr):\n",
    "    if number == '1': \n",
    "        number_value = \"First person\"\n",
    "    elif number == '2': \n",
    "        number_value = \"Second person\"\n",
    "    elif number == '3': \n",
    "        number_value = \"Third person\"\n",
    "    return number_value"
   ]
  },
  {
   "cell_type": "code",
   "execution_count": 11,
   "metadata": {},
   "outputs": [],
   "source": [
    "number_counts = defaultdict(lambda: defaultdict(lambda : 0))\n",
    "\n",
    "with open(f'postokendata.json') as json_file:\n",
    "        postokendata = json.load(json_file)\n",
    "\n",
    "pers_pron_count = 0        \n",
    "for word, posdata in postokendata['PRON'].items():\n",
    "    for postag, freq in posdata.items():\n",
    "        if 'excl' not in postag and 'onbep' not in postag and 'betr' not in postag and 'aanw' not in postag and \"vb\" not in postag:\n",
    "            pers_pron_count += freq\n",
    "            #print(word, postag, freq)\n",
    "            found = False\n",
    "            for x in ['ev', 'mv']:\n",
    "                if x in postag:\n",
    "                    try: \n",
    "                        number = re.search(re.compile(r\"[1-3]\", flags=re.M), postag)[0]\n",
    "                        if x == 'ev':\n",
    "                            number_counts['Singular'][get_nr_value(number)] += freq\n",
    "                        else:\n",
    "                            number_counts['Plural'][get_nr_value(number)] += freq\n",
    "                        found = True\n",
    "                    except:\n",
    "                        continue\n",
    "            if found == False:\n",
    "                if 'haar' in word:\n",
    "                    try: \n",
    "                        number = re.search(re.compile(r\"[1-3]\", flags=re.M), postag)[0]\n",
    "                        number_counts['Singular'][get_nr_value(number)] += freq\n",
    "                        found = True\n",
    "                    except:\n",
    "                        continue"
   ]
  },
  {
   "cell_type": "code",
   "execution_count": 13,
   "metadata": {},
   "outputs": [
    {
     "name": "stdout",
     "output_type": "stream",
     "text": [
      "29083 personal pronouns in the data\n",
      "out of 45417 words with the POS 'PRON'\n",
      "64.04% of the words with the PRON pos are personal pronouns\n",
      "2.91% of the words in the data are personal pronouns\n"
     ]
    }
   ],
   "source": [
    "print(f\"{pers_pron_count} personal pronouns in the data\")\n",
    "print(f\"out of {poscounts_data['PRON']} words with the POS 'PRON'\")\n",
    "print(f\"{round(pers_pron_count/poscounts_data['PRON'] * 100,2)}% of the words with the PRON pos are personal pronouns\")\n",
    "print(f\"{round(pers_pron_count/sum(poscounts_data.values()) * 100,2)}% of the words in the data are personal pronouns\")"
   ]
  },
  {
   "cell_type": "code",
   "execution_count": 418,
   "metadata": {},
   "outputs": [
    {
     "data": {
      "text/plain": [
       "[['Singular', 'Third person', 14113],\n",
       " ['Singular', 'First person', 1976],\n",
       " ['Singular', 'Second person', 934],\n",
       " ['Plural', 'Third person', 4536],\n",
       " ['Plural', 'First person', 2245],\n",
       " ['Plural', 'Second person', 16]]"
      ]
     },
     "execution_count": 418,
     "metadata": {},
     "output_type": "execute_result"
    }
   ],
   "source": [
    "number_counts_list = [[key, k , v]  for key ,data in number_counts.items() for k,v in data.items()]\n",
    "number_counts_list"
   ]
  },
  {
   "cell_type": "code",
   "execution_count": 534,
   "metadata": {},
   "outputs": [
    {
     "data": {
      "text/html": [
       "<div>\n",
       "<style scoped>\n",
       "    .dataframe tbody tr th:only-of-type {\n",
       "        vertical-align: middle;\n",
       "    }\n",
       "\n",
       "    .dataframe tbody tr th {\n",
       "        vertical-align: top;\n",
       "    }\n",
       "\n",
       "    .dataframe thead th {\n",
       "        text-align: right;\n",
       "    }\n",
       "</style>\n",
       "<table border=\"1\" class=\"dataframe\">\n",
       "  <thead>\n",
       "    <tr style=\"text-align: right;\">\n",
       "      <th></th>\n",
       "      <th>count</th>\n",
       "      <th>Person</th>\n",
       "      <th>freq</th>\n",
       "    </tr>\n",
       "  </thead>\n",
       "  <tbody>\n",
       "    <tr>\n",
       "      <th>1</th>\n",
       "      <td>Singular</td>\n",
       "      <td>First person</td>\n",
       "      <td>1976</td>\n",
       "    </tr>\n",
       "    <tr>\n",
       "      <th>4</th>\n",
       "      <td>Plural</td>\n",
       "      <td>First person</td>\n",
       "      <td>2245</td>\n",
       "    </tr>\n",
       "    <tr>\n",
       "      <th>2</th>\n",
       "      <td>Singular</td>\n",
       "      <td>Second person</td>\n",
       "      <td>934</td>\n",
       "    </tr>\n",
       "    <tr>\n",
       "      <th>5</th>\n",
       "      <td>Plural</td>\n",
       "      <td>Second person</td>\n",
       "      <td>16</td>\n",
       "    </tr>\n",
       "    <tr>\n",
       "      <th>0</th>\n",
       "      <td>Singular</td>\n",
       "      <td>Third person</td>\n",
       "      <td>14113</td>\n",
       "    </tr>\n",
       "    <tr>\n",
       "      <th>3</th>\n",
       "      <td>Plural</td>\n",
       "      <td>Third person</td>\n",
       "      <td>4536</td>\n",
       "    </tr>\n",
       "  </tbody>\n",
       "</table>\n",
       "</div>"
      ],
      "text/plain": [
       "      count         Person   freq\n",
       "1  Singular   First person   1976\n",
       "4    Plural   First person   2245\n",
       "2  Singular  Second person    934\n",
       "5    Plural  Second person     16\n",
       "0  Singular   Third person  14113\n",
       "3    Plural   Third person   4536"
      ]
     },
     "execution_count": 534,
     "metadata": {},
     "output_type": "execute_result"
    }
   ],
   "source": [
    "number_counts_df = pd.DataFrame(number_counts_list, columns = ['count', 'Person', 'freq'])\n",
    "number_counts_df = number_counts_df.sort_values(by=['Person'], ascending=True)\n",
    "number_counts_df"
   ]
  },
  {
   "cell_type": "code",
   "execution_count": 420,
   "metadata": {},
   "outputs": [],
   "source": [
    "def with_hue(ax, feature, Number_of_categories, hue_categories):\n",
    "    a = [p.get_height() for p in ax.patches]\n",
    "    patch = [p for p in ax.patches]\n",
    "    total= feature.sum()\n",
    "    for i in range(Number_of_categories):\n",
    "\n",
    "        for j in range(hue_categories):\n",
    "            percentage = '{:.1f}%'.format(100 * a[(j*Number_of_categories + i)]/total)\n",
    "            x = patch[(j*Number_of_categories + i)].get_x() + patch[(j*Number_of_categories + i)].get_width() / 2 - 0.07\n",
    "            y = patch[(j*Number_of_categories + i)].get_y() + patch[(j*Number_of_categories + i)].get_height() \n",
    "            ax.annotate(percentage, (x, y), size = 15, color='dimgrey')"
   ]
  },
  {
   "cell_type": "code",
   "execution_count": 517,
   "metadata": {},
   "outputs": [
    {
     "data": {
      "image/png": "[encoded data removed]",
      "text/plain": [
       "<Figure size 576x360 with 1 Axes>"
      ]
     },
     "metadata": {},
     "output_type": "display_data"
    }
   ],
   "source": [
    "fig, ax = plt.subplots(figsize=(8.0,5.0))\n",
    "sns.despine(left=True)\n",
    "sns.set_style(\"whitegrid\", {\"grid.color\": \".9\", \"grid.linestyle\": \"-\"})\n",
    "sns.set_context(\"talk\")\n",
    "\n",
    "# creating the bar plot\n",
    "my_pal = {\"First person\": \"skyblue\", \"Second person\": \"deepskyblue\", \"Third person\":\"steelblue\"}\n",
    "\n",
    "sns.barplot(ax=ax, data=number_counts_df, y=\"freq\", x=\"count\", hue=\"Person\", palette=my_pal)\n",
    "\n",
    "handles, labels = ax.get_legend_handles_labels()\n",
    "ax.legend(handles=handles[0:], labels=labels[0:], loc='lower center', bbox_to_anchor=(.5, 1), ncol=3, frameon=False)\n",
    "\n",
    "\n",
    "plt.xlabel(\"Pronouns\", fontweight='bold')\n",
    "plt.ylabel(\"Frequency\", fontweight='bold')\n",
    "with_hue(ax,number_counts_df['freq'], 2, 3)\n",
    "plt.savefig(\"pronoun_numbers.pdf\", format=\"pdf\", bbox_inches=\"tight\")\n",
    "plt.show()\n"
   ]
  },
  {
   "cell_type": "markdown",
   "metadata": {},
   "source": [
    "### Third person pronouns"
   ]
  },
  {
   "cell_type": "code",
   "execution_count": 9,
   "metadata": {},
   "outputs": [
    {
     "name": "stdout",
     "output_type": "stream",
     "text": [
      "zich VNW|refl|pron|obl|red|3|getal 2077\n",
      "haar VNW|bez|det|stan|vol|3|ev|prenom|zonder|agr 798\n",
      "haar VNW|pers|pron|obl|vol|3|getal|fem 105\n",
      "zijn VNW|bez|det|stan|vol|3|ev|prenom|zonder|agr 3205\n",
      "zijn VNW|pers|pron|nomin|vol|3v|ev|fem 1\n",
      "het VNW|pers|pron|stan|red|3|ev|onz 4101\n",
      "hij VNW|pers|pron|nomin|vol|3|ev|masc 3412\n",
      "zij VNW|pers|pron|nomin|vol|3v|ev|fem 250\n",
      "zij VNW|bez|det|stan|vol|3|ev|prenom|zonder|agr 1\n",
      "men VNW|pers|pron|nomin|red|3p|ev|masc 449\n",
      "hem VNW|pers|pron|obl|vol|3|ev|masc 604\n",
      "ze VNW|pers|pron|stan|red|3|ev|fem 825\n",
      "z'n VNW|bez|det|stan|red|3|ev|prenom|zonder|agr 188\n",
      "zichzelf VNW|refl|pron|obl|nadr|3|getal 133\n",
      "'t VNW|pers|pron|stan|red|3|ev|onz 32\n",
      "ie VNW|pers|pron|nomin|red|3|ev|masc 53\n",
      "'ie VNW|pers|pron|nomin|red|3|ev|masc 4\n",
      "-ie VNW|pers|pron|nomin|red|3|ev|masc 27\n",
      "z´n VNW|bez|det|stan|red|3|ev|prenom|zonder|agr 2\n",
      "m VNW|pers|pron|obl|red|3|ev|masc 3\n",
      "t VNW|pers|pron|stan|red|3|ev|onz 7\n",
      "´t VNW|pers|pron|stan|red|3|ev|onz 1\n",
      "'m VNW|pers|pron|obl|red|3|ev|masc 12\n",
      "hemzelf VNW|pers|pron|obl|nadr|3m|ev|masc 8\n",
      "zichzélf VNW|refl|pron|obl|nadr|3|getal 1\n",
      "zn VNW|bez|det|stan|red|3|ev|prenom|zonder|agr 1\n",
      "zijne VNW|bez|det|stan|vol|3m|ev|prenom|met-e|rest 1\n",
      "zijne VNW|bez|det|stan|vol|3m|ev|nom|met-e|zonder-n 2\n",
      "hijzelf VNW|pers|pron|nomin|nadr|3m|ev|masc 3\n",
      "zin VNW|bez|det|stan|vol|3|ev|prenom|zonder|agr 1\n",
      "zijner VNW|bez|det|dat|vol|3|ev|prenom|met-e|evf 2\n",
      "haarzelf VNW|pers|pron|obl|nadr|3v|getal|fem 1\n",
      "híj VNW|pers|pron|nomin|vol|3|ev|masc 4\n",
      "haarzelve VNW|pers|pron|obl|nadr|3v|getal|fem 1\n",
      "zijzelf VNW|pers|pron|nomin|nadr|3v|ev|fem 2\n",
      "hém VNW|pers|pron|obl|vol|3|ev|masc 2\n",
      "m. VNW|pers|pron|obl|red|3|ev|masc 1\n",
      "hat VNW|pers|pron|stan|red|3|ev|onz 1\n",
      "íe VNW|pers|pron|nomin|red|3|ev|masc 1\n",
      "em VNW|pers|pron|obl|vol|3|ev|masc 1\n"
     ]
    }
   ],
   "source": [
    "with open(f'postokendata.json') as json_file:\n",
    "        postokendata = json.load(json_file)\n",
    "gender_counts = defaultdict(lambda : defaultdict(lambda : 0))\n",
    "        \n",
    "        \n",
    "for word, posdata in postokendata['PRON'].items():\n",
    "    \n",
    "    for postag, freq in posdata.items():\n",
    "        if 'excl' not in postag and 'onbep' not in postag and 'betr' not in postag and 'aanw' not in postag and \"vb\" not in postag:\n",
    "            if 'mv' not in postag :\n",
    "                #print(word, postag, freq)\n",
    "                try: \n",
    "                    number = re.search(re.compile(r\"[1-3]\", flags=re.M), postag)[0]\n",
    "                    \n",
    "                    if number == '3':\n",
    "                        gender = postag[-4:].replace(\"|\",\"\")\n",
    "                        #if gender == 'masc' \n",
    "                        print(word, postag, freq)\n",
    "                        if gender not in ['fem', 'masc']:\n",
    "                            #print(word, postag, freq)\n",
    "                            if word == 'haar' : \n",
    "                                gender = 'fem'\n",
    "                            elif word == 'zijn' or word == \"z'n\":\n",
    "                                gender = 'masc'\n",
    "                            else:\n",
    "                                #print(word, postag, freq)\n",
    "                                continue\n",
    "                        gendertag = 'Feminine' if gender == 'fem' else 'Masculine' \n",
    "                        if 'bez' in postag:\n",
    "                            gender_counts[gendertag]['Possessive'] += freq\n",
    "                        elif 'nomin' in postag:\n",
    "                            if word != 'men':\n",
    "                                gender_counts[gendertag]['Subject'] += freq\n",
    "                        else:\n",
    "                            if word == 'ze':\n",
    "                                gender_counts[gendertag]['Subject'] += freq\n",
    "                            else:\n",
    "                                gender_counts[gendertag]['Object'] += freq\n",
    "                except:\n",
    "                        print(f\"FAil for {word, postag, freq}\")        "
   ]
  },
  {
   "cell_type": "code",
   "execution_count": 582,
   "metadata": {},
   "outputs": [],
   "source": [
    "gender_counts_list = [[key, k , v]  for key ,data in gender_counts.items() for k,v in data.items()]"
   ]
  },
  {
   "cell_type": "code",
   "execution_count": 583,
   "metadata": {},
   "outputs": [
    {
     "data": {
      "text/plain": [
       "[['Feminine', 'Possessive', 798],\n",
       " ['Feminine', 'Object', 107],\n",
       " ['Feminine', 'Subject', 1078],\n",
       " ['Masculine', 'Possessive', 3393],\n",
       " ['Masculine', 'Subject', 3504],\n",
       " ['Masculine', 'Object', 631]]"
      ]
     },
     "execution_count": 583,
     "metadata": {},
     "output_type": "execute_result"
    }
   ],
   "source": [
    "gender_counts_list"
   ]
  },
  {
   "cell_type": "code",
   "execution_count": 584,
   "metadata": {},
   "outputs": [
    {
     "data": {
      "text/html": [
       "<div>\n",
       "<style scoped>\n",
       "    .dataframe tbody tr th:only-of-type {\n",
       "        vertical-align: middle;\n",
       "    }\n",
       "\n",
       "    .dataframe tbody tr th {\n",
       "        vertical-align: top;\n",
       "    }\n",
       "\n",
       "    .dataframe thead th {\n",
       "        text-align: right;\n",
       "    }\n",
       "</style>\n",
       "<table border=\"1\" class=\"dataframe\">\n",
       "  <thead>\n",
       "    <tr style=\"text-align: right;\">\n",
       "      <th></th>\n",
       "      <th>Gender</th>\n",
       "      <th>Tense</th>\n",
       "      <th>Freq</th>\n",
       "    </tr>\n",
       "  </thead>\n",
       "  <tbody>\n",
       "    <tr>\n",
       "      <th>2</th>\n",
       "      <td>Feminine</td>\n",
       "      <td>Subject</td>\n",
       "      <td>1078</td>\n",
       "    </tr>\n",
       "    <tr>\n",
       "      <th>1</th>\n",
       "      <td>Feminine</td>\n",
       "      <td>Object</td>\n",
       "      <td>107</td>\n",
       "    </tr>\n",
       "    <tr>\n",
       "      <th>0</th>\n",
       "      <td>Feminine</td>\n",
       "      <td>Possessive</td>\n",
       "      <td>798</td>\n",
       "    </tr>\n",
       "    <tr>\n",
       "      <th>4</th>\n",
       "      <td>Masculine</td>\n",
       "      <td>Subject</td>\n",
       "      <td>3504</td>\n",
       "    </tr>\n",
       "    <tr>\n",
       "      <th>5</th>\n",
       "      <td>Masculine</td>\n",
       "      <td>Object</td>\n",
       "      <td>631</td>\n",
       "    </tr>\n",
       "    <tr>\n",
       "      <th>3</th>\n",
       "      <td>Masculine</td>\n",
       "      <td>Possessive</td>\n",
       "      <td>3393</td>\n",
       "    </tr>\n",
       "  </tbody>\n",
       "</table>\n",
       "</div>"
      ],
      "text/plain": [
       "      Gender       Tense  Freq\n",
       "2   Feminine     Subject  1078\n",
       "1   Feminine      Object   107\n",
       "0   Feminine  Possessive   798\n",
       "4  Masculine     Subject  3504\n",
       "5  Masculine      Object   631\n",
       "3  Masculine  Possessive  3393"
      ]
     },
     "execution_count": 584,
     "metadata": {},
     "output_type": "execute_result"
    }
   ],
   "source": [
    "gender_counts_df = pd.DataFrame(gender_counts_list, columns = ['Gender', 'Tense', 'Freq'])\n",
    "#gender_counts_df = gender_counts_list.sort_values(by=['Person'], ascending=True)\n",
    "gender_counts_df = gender_counts_df.reindex([2,1,0,4,5,3])\n",
    "gender_counts_df"
   ]
  },
  {
   "cell_type": "code",
   "execution_count": 585,
   "metadata": {},
   "outputs": [
    {
     "data": {
      "text/plain": [
       "81.89464830196614"
      ]
     },
     "execution_count": 585,
     "metadata": {},
     "output_type": "execute_result"
    }
   ],
   "source": [
    "7789 / sum(gender_counts_df['Freq']) * 100"
   ]
  },
  {
   "cell_type": "code",
   "execution_count": 586,
   "metadata": {},
   "outputs": [
    {
     "data": {
      "image/png": "[encoded data removed]",
      "text/plain": [
       "<Figure size 576x360 with 1 Axes>"
      ]
     },
     "metadata": {},
     "output_type": "display_data"
    }
   ],
   "source": [
    "fig, ax = plt.subplots(figsize=(8.0,5.0))\n",
    "sns.despine(left=True)\n",
    "sns.set_style(\"whitegrid\", {\"grid.color\": \".9\", \"grid.linestyle\": \"-\"})\n",
    "sns.set_context(\"talk\")\n",
    "\n",
    "# creating the bar plot\n",
    "my_pal = {\"Possessive\": \"skyblue\", \"Object\": \"deepskyblue\", \"Subject\":\"steelblue\"}\n",
    "\n",
    "sns.barplot(ax=ax, data=gender_counts_df, y=\"Freq\", x=\"Gender\", hue=\"Tense\", palette=my_pal)\n",
    "\n",
    "handles, labels = ax.get_legend_handles_labels()\n",
    "ax.legend(handles=handles[0:], labels=labels[0:], loc='lower center', bbox_to_anchor=(.5, 1), ncol=3, frameon=False)\n",
    "\n",
    "\n",
    "plt.xlabel(\"Pronouns\", fontweight='bold')\n",
    "plt.ylabel(\"Frequency\", fontweight='bold')\n",
    "with_hue(ax,gender_counts_df['Freq'], 2, 3)\n",
    "\n",
    "plt.savefig(\"genderplot.pdf\", format=\"pdf\", bbox_inches=\"tight\")\n",
    "plt.show()"
   ]
  },
  {
   "cell_type": "markdown",
   "metadata": {},
   "source": [
    "### Pronoun counts"
   ]
  },
  {
   "cell_type": "code",
   "execution_count": 3,
   "metadata": {},
   "outputs": [
    {
     "name": "stdout",
     "output_type": "stream",
     "text": [
      "7282\n"
     ]
    },
    {
     "data": {
      "text/plain": [
       "{'PRON': {'VNW|pers|pron|nomin|vol|3p|mv': 481,\n",
       "  'VNW|pers|pron|nomin|vol|3v|ev|fem': 250,\n",
       "  'VNW|bez|det|stan|vol|3|ev|prenom|zonder|agr': 1},\n",
       " 'VERB': {'WW|pv|conj|ev': 22},\n",
       " 'NOUN': {'N|soort|ev|basis|zijd|stan': 5},\n",
       " 'AUX': {'WW|pv|conj|ev': 4}}"
      ]
     },
     "execution_count": 3,
     "metadata": {},
     "output_type": "execute_result"
    }
   ],
   "source": [
    "with open(f'tokenposdata.json') as json_file:\n",
    "        data = json.load(json_file)\n",
    "\n",
    "print(sum([value for v in data['die'].values() for value in v.values()]))\n",
    "data['zij']"
   ]
  },
  {
   "cell_type": "code",
   "execution_count": 579,
   "metadata": {},
   "outputs": [
    {
     "data": {
      "text/plain": [
       "{'PRON': {'VNW|bez|det|stan|vol|3|mv|prenom|zonder|agr': 1865,\n",
       "  'VNW|pers|pron|obl|vol|3p|mv': 10},\n",
       " 'DET': {'VNW|bez|det|stan|vol|3|mv|prenom|zonder|agr': 8}}"
      ]
     },
     "execution_count": 579,
     "metadata": {},
     "output_type": "execute_result"
    }
   ],
   "source": [
    "data['hun']"
   ]
  },
  {
   "cell_type": "code",
   "execution_count": 567,
   "metadata": {},
   "outputs": [
    {
     "name": "stdout",
     "output_type": "stream",
     "text": [
      "dee, -\n",
      "dem, -\n",
      "dijr, -\n",
      "dij, -\n",
      "dem, -\n",
      "dijr, -\n",
      "nij, -\n",
      "ner, -\n",
      "nijr, -\n",
      "vij {'ADJ': {'ADJ|vrij|basis|zonder': 1}}\n",
      "vijn, -\n",
      "vijns, -\n",
      "zhij, -\n",
      "zhaar, -\n",
      "zhaar, -\n",
      "zem, -\n",
      "zeer {'ADV': {'BW': 288}, 'DET': {'BW': 7}}\n",
      "zee {'PROPN': {'SPEC|deeleigen': 22}, 'NOUN': {'N|soort|ev|basis|zijd|stan': 120}}\n"
     ]
    }
   ],
   "source": [
    "for neopronoun in ['dee','dem', 'dijr', 'dij', 'dem','dijr', \\\n",
    "                   'nij', 'ner', 'nijr', 'vij', 'vijn', 'vijns', \\\n",
    "                   'zhij', 'zhaar', 'zhaar', 'zem', 'zeer', 'zee']:\n",
    "    try: \n",
    "        print(neopronoun, data[neopronoun])\n",
    "    except KeyError:\n",
    "        print(f\"{neopronoun}, -\")"
   ]
  },
  {
   "cell_type": "code",
   "execution_count": 568,
   "metadata": {},
   "outputs": [
    {
     "data": {
      "text/plain": [
       "{'PRON': {'VNW|pers|pron|stan|red|3|mv': 1882,\n",
       "  'VNW|pers|pron|stan|red|3|ev|fem': 825}}"
      ]
     },
     "execution_count": 568,
     "metadata": {},
     "output_type": "execute_result"
    }
   ],
   "source": [
    "data['ze']"
   ]
  },
  {
   "cell_type": "markdown",
   "metadata": {},
   "source": [
    "### Referents Analysis"
   ]
  },
  {
   "cell_type": "markdown",
   "metadata": {},
   "source": [
    "with singletons"
   ]
  },
  {
   "cell_type": "code",
   "execution_count": 22,
   "metadata": {},
   "outputs": [
    {
     "data": {
      "text/html": [
       "<div>\n",
       "<style scoped>\n",
       "    .dataframe tbody tr th:only-of-type {\n",
       "        vertical-align: middle;\n",
       "    }\n",
       "\n",
       "    .dataframe tbody tr th {\n",
       "        vertical-align: top;\n",
       "    }\n",
       "\n",
       "    .dataframe thead th {\n",
       "        text-align: right;\n",
       "    }\n",
       "</style>\n",
       "<table border=\"1\" class=\"dataframe\">\n",
       "  <thead>\n",
       "    <tr style=\"text-align: right;\">\n",
       "      <th></th>\n",
       "      <th>referents</th>\n",
       "    </tr>\n",
       "  </thead>\n",
       "  <tbody>\n",
       "    <tr>\n",
       "      <th>count</th>\n",
       "      <td>59928.000000</td>\n",
       "    </tr>\n",
       "    <tr>\n",
       "      <th>mean</th>\n",
       "      <td>4.831481</td>\n",
       "    </tr>\n",
       "    <tr>\n",
       "      <th>std</th>\n",
       "      <td>3.336285</td>\n",
       "    </tr>\n",
       "    <tr>\n",
       "      <th>min</th>\n",
       "      <td>0.000000</td>\n",
       "    </tr>\n",
       "    <tr>\n",
       "      <th>25%</th>\n",
       "      <td>2.000000</td>\n",
       "    </tr>\n",
       "    <tr>\n",
       "      <th>50%</th>\n",
       "      <td>4.000000</td>\n",
       "    </tr>\n",
       "    <tr>\n",
       "      <th>75%</th>\n",
       "      <td>6.000000</td>\n",
       "    </tr>\n",
       "    <tr>\n",
       "      <th>max</th>\n",
       "      <td>54.000000</td>\n",
       "    </tr>\n",
       "  </tbody>\n",
       "</table>\n",
       "</div>"
      ],
      "text/plain": [
       "          referents\n",
       "count  59928.000000\n",
       "mean       4.831481\n",
       "std        3.336285\n",
       "min        0.000000\n",
       "25%        2.000000\n",
       "50%        4.000000\n",
       "75%        6.000000\n",
       "max       54.000000"
      ]
     },
     "execution_count": 22,
     "metadata": {},
     "output_type": "execute_result"
    }
   ],
   "source": [
    "with open(f'doc_cluster_info.json') as json_file:\n",
    "        ref_data = json.load(json_file)\n",
    "ref_data = ref_data['refs_per_sent']\n",
    "\n",
    "df = pd.DataFrame([[k,v] for k,v in ref_data.items()], columns=['sentence_id', 'referents'])\n",
    "df.describe()"
   ]
  },
  {
   "cell_type": "code",
   "execution_count": 23,
   "metadata": {},
   "outputs": [
    {
     "name": "stderr",
     "output_type": "stream",
     "text": [
      "<ipython-input-23-6d467abf240d>:1: FutureWarning: Dropping of nuisance columns in DataFrame reductions (with 'numeric_only=None') is deprecated; in a future version this will raise TypeError.  Select only valid columns before calling the reduction.\n",
      "  df.median()\n"
     ]
    },
    {
     "data": {
      "text/plain": [
       "referents    4.0\n",
       "dtype: float64"
      ]
     },
     "execution_count": 23,
     "metadata": {},
     "output_type": "execute_result"
    }
   ],
   "source": [
    "df.median()"
   ]
  },
  {
   "cell_type": "markdown",
   "metadata": {},
   "source": [
    "without singletons"
   ]
  },
  {
   "cell_type": "code",
   "execution_count": 31,
   "metadata": {},
   "outputs": [
    {
     "name": "stdout",
     "output_type": "stream",
     "text": [
      "referents    2.0\n",
      "dtype: float64\n"
     ]
    },
    {
     "name": "stderr",
     "output_type": "stream",
     "text": [
      "<ipython-input-31-945aa3780d47>:6: FutureWarning: Dropping of nuisance columns in DataFrame reductions (with 'numeric_only=None') is deprecated; in a future version this will raise TypeError.  Select only valid columns before calling the reduction.\n",
      "  print(df.median())\n"
     ]
    },
    {
     "data": {
      "text/html": [
       "<div>\n",
       "<style scoped>\n",
       "    .dataframe tbody tr th:only-of-type {\n",
       "        vertical-align: middle;\n",
       "    }\n",
       "\n",
       "    .dataframe tbody tr th {\n",
       "        vertical-align: top;\n",
       "    }\n",
       "\n",
       "    .dataframe thead th {\n",
       "        text-align: right;\n",
       "    }\n",
       "</style>\n",
       "<table border=\"1\" class=\"dataframe\">\n",
       "  <thead>\n",
       "    <tr style=\"text-align: right;\">\n",
       "      <th></th>\n",
       "      <th>referents</th>\n",
       "    </tr>\n",
       "  </thead>\n",
       "  <tbody>\n",
       "    <tr>\n",
       "      <th>count</th>\n",
       "      <td>59928.000000</td>\n",
       "    </tr>\n",
       "    <tr>\n",
       "      <th>mean</th>\n",
       "      <td>1.876468</td>\n",
       "    </tr>\n",
       "    <tr>\n",
       "      <th>std</th>\n",
       "      <td>1.706620</td>\n",
       "    </tr>\n",
       "    <tr>\n",
       "      <th>min</th>\n",
       "      <td>0.000000</td>\n",
       "    </tr>\n",
       "    <tr>\n",
       "      <th>25%</th>\n",
       "      <td>1.000000</td>\n",
       "    </tr>\n",
       "    <tr>\n",
       "      <th>50%</th>\n",
       "      <td>2.000000</td>\n",
       "    </tr>\n",
       "    <tr>\n",
       "      <th>75%</th>\n",
       "      <td>3.000000</td>\n",
       "    </tr>\n",
       "    <tr>\n",
       "      <th>max</th>\n",
       "      <td>18.000000</td>\n",
       "    </tr>\n",
       "  </tbody>\n",
       "</table>\n",
       "</div>"
      ],
      "text/plain": [
       "          referents\n",
       "count  59928.000000\n",
       "mean       1.876468\n",
       "std        1.706620\n",
       "min        0.000000\n",
       "25%        1.000000\n",
       "50%        2.000000\n",
       "75%        3.000000\n",
       "max       18.000000"
      ]
     },
     "execution_count": 31,
     "metadata": {},
     "output_type": "execute_result"
    }
   ],
   "source": [
    "with open(f'doc_cluster_info_singl_excl.json') as json_file:\n",
    "        ref_data = json.load(json_file)\n",
    "ref_data = ref_data['refs_per_sent']\n",
    "\n",
    "df = pd.DataFrame([[k,v] for k,v in ref_data.items()], columns=['sentence_id', 'referents'])\n",
    "print(df.median())\n",
    "df.describe()\n",
    "\n"
   ]
  },
  {
   "cell_type": "markdown",
   "metadata": {},
   "source": [
    "### Cluster analysis\n",
    "with singletons"
   ]
  },
  {
   "cell_type": "code",
   "execution_count": 40,
   "metadata": {},
   "outputs": [
    {
     "data": {
      "text/html": [
       "<div>\n",
       "<style scoped>\n",
       "    .dataframe tbody tr th:only-of-type {\n",
       "        vertical-align: middle;\n",
       "    }\n",
       "\n",
       "    .dataframe tbody tr th {\n",
       "        vertical-align: top;\n",
       "    }\n",
       "\n",
       "    .dataframe thead th {\n",
       "        text-align: right;\n",
       "    }\n",
       "</style>\n",
       "<table border=\"1\" class=\"dataframe\">\n",
       "  <thead>\n",
       "    <tr style=\"text-align: right;\">\n",
       "      <th></th>\n",
       "      <th>clusters</th>\n",
       "    </tr>\n",
       "  </thead>\n",
       "  <tbody>\n",
       "    <tr>\n",
       "      <th>count</th>\n",
       "      <td>861.000000</td>\n",
       "    </tr>\n",
       "    <tr>\n",
       "      <th>mean</th>\n",
       "      <td>237.876887</td>\n",
       "    </tr>\n",
       "    <tr>\n",
       "      <th>std</th>\n",
       "      <td>356.264239</td>\n",
       "    </tr>\n",
       "    <tr>\n",
       "      <th>min</th>\n",
       "      <td>2.000000</td>\n",
       "    </tr>\n",
       "    <tr>\n",
       "      <th>25%</th>\n",
       "      <td>39.000000</td>\n",
       "    </tr>\n",
       "    <tr>\n",
       "      <th>50%</th>\n",
       "      <td>116.000000</td>\n",
       "    </tr>\n",
       "    <tr>\n",
       "      <th>75%</th>\n",
       "      <td>327.000000</td>\n",
       "    </tr>\n",
       "    <tr>\n",
       "      <th>max</th>\n",
       "      <td>4698.000000</td>\n",
       "    </tr>\n",
       "  </tbody>\n",
       "</table>\n",
       "</div>"
      ],
      "text/plain": [
       "          clusters\n",
       "count   861.000000\n",
       "mean    237.876887\n",
       "std     356.264239\n",
       "min       2.000000\n",
       "25%      39.000000\n",
       "50%     116.000000\n",
       "75%     327.000000\n",
       "max    4698.000000"
      ]
     },
     "execution_count": 40,
     "metadata": {},
     "output_type": "execute_result"
    }
   ],
   "source": [
    "with open(f'doc_cluster_info.json') as json_file:\n",
    "        ref_data = json.load(json_file)\n",
    "ref_data = ref_data['clusters_per_doc']\n",
    "\n",
    "df = pd.DataFrame([[k,v] for k,v in ref_data.items()], columns=['doc_id', 'clusters'])\n",
    "df.describe()"
   ]
  },
  {
   "cell_type": "code",
   "execution_count": 41,
   "metadata": {},
   "outputs": [
    {
     "name": "stdout",
     "output_type": "stream",
     "text": [
      "204812\n"
     ]
    }
   ],
   "source": [
    "print(sum(ref_data.values()))"
   ]
  },
  {
   "cell_type": "markdown",
   "metadata": {},
   "source": [
    "without singletons"
   ]
  },
  {
   "cell_type": "code",
   "execution_count": 43,
   "metadata": {},
   "outputs": [
    {
     "name": "stdout",
     "output_type": "stream",
     "text": [
      "referents    16.0\n",
      "dtype: float64\n"
     ]
    },
    {
     "name": "stderr",
     "output_type": "stream",
     "text": [
      "<ipython-input-43-5903707b35e7>:6: FutureWarning: Dropping of nuisance columns in DataFrame reductions (with 'numeric_only=None') is deprecated; in a future version this will raise TypeError.  Select only valid columns before calling the reduction.\n",
      "  print(df.median())\n"
     ]
    },
    {
     "data": {
      "text/html": [
       "<div>\n",
       "<style scoped>\n",
       "    .dataframe tbody tr th:only-of-type {\n",
       "        vertical-align: middle;\n",
       "    }\n",
       "\n",
       "    .dataframe tbody tr th {\n",
       "        vertical-align: top;\n",
       "    }\n",
       "\n",
       "    .dataframe thead th {\n",
       "        text-align: right;\n",
       "    }\n",
       "</style>\n",
       "<table border=\"1\" class=\"dataframe\">\n",
       "  <thead>\n",
       "    <tr style=\"text-align: right;\">\n",
       "      <th></th>\n",
       "      <th>referents</th>\n",
       "    </tr>\n",
       "  </thead>\n",
       "  <tbody>\n",
       "    <tr>\n",
       "      <th>count</th>\n",
       "      <td>861.000000</td>\n",
       "    </tr>\n",
       "    <tr>\n",
       "      <th>mean</th>\n",
       "      <td>32.199768</td>\n",
       "    </tr>\n",
       "    <tr>\n",
       "      <th>std</th>\n",
       "      <td>42.885944</td>\n",
       "    </tr>\n",
       "    <tr>\n",
       "      <th>min</th>\n",
       "      <td>0.000000</td>\n",
       "    </tr>\n",
       "    <tr>\n",
       "      <th>25%</th>\n",
       "      <td>6.000000</td>\n",
       "    </tr>\n",
       "    <tr>\n",
       "      <th>50%</th>\n",
       "      <td>16.000000</td>\n",
       "    </tr>\n",
       "    <tr>\n",
       "      <th>75%</th>\n",
       "      <td>43.000000</td>\n",
       "    </tr>\n",
       "    <tr>\n",
       "      <th>max</th>\n",
       "      <td>439.000000</td>\n",
       "    </tr>\n",
       "  </tbody>\n",
       "</table>\n",
       "</div>"
      ],
      "text/plain": [
       "        referents\n",
       "count  861.000000\n",
       "mean    32.199768\n",
       "std     42.885944\n",
       "min      0.000000\n",
       "25%      6.000000\n",
       "50%     16.000000\n",
       "75%     43.000000\n",
       "max    439.000000"
      ]
     },
     "execution_count": 43,
     "metadata": {},
     "output_type": "execute_result"
    }
   ],
   "source": [
    "with open(f'doc_cluster_info_singl_excl.json') as json_file:\n",
    "        ref_data = json.load(json_file)\n",
    "ref_data = ref_data['clusters_per_doc']\n",
    "\n",
    "df = pd.DataFrame([[k,v] for k,v in ref_data.items()], columns=['sentence_id', 'referents'])\n",
    "print(df.median())\n",
    "df.describe()"
   ]
  },
  {
   "cell_type": "code",
   "execution_count": 44,
   "metadata": {},
   "outputs": [
    {
     "name": "stdout",
     "output_type": "stream",
     "text": [
      "27724\n"
     ]
    }
   ],
   "source": [
    "print(sum(ref_data.values()))"
   ]
  },
  {
   "cell_type": "code",
   "execution_count": null,
   "metadata": {},
   "outputs": [],
   "source": [
    "32.2 & 16 & 42.9 & 0 & 439"
   ]
  },
  {
   "cell_type": "code",
   "execution_count": 18,
   "metadata": {},
   "outputs": [
    {
     "name": "stdout",
     "output_type": "stream",
     "text": [
      "referents    2.0\n",
      "dtype: float64\n"
     ]
    },
    {
     "name": "stderr",
     "output_type": "stream",
     "text": [
      "<ipython-input-18-e6a5e5f0faa3>:6: FutureWarning: Dropping of nuisance columns in DataFrame reductions (with 'numeric_only=None') is deprecated; in a future version this will raise TypeError.  Select only valid columns before calling the reduction.\n",
      "  print(df.median())\n"
     ]
    },
    {
     "data": {
      "text/html": [
       "<div>\n",
       "<style scoped>\n",
       "    .dataframe tbody tr th:only-of-type {\n",
       "        vertical-align: middle;\n",
       "    }\n",
       "\n",
       "    .dataframe tbody tr th {\n",
       "        vertical-align: top;\n",
       "    }\n",
       "\n",
       "    .dataframe thead th {\n",
       "        text-align: right;\n",
       "    }\n",
       "</style>\n",
       "<table border=\"1\" class=\"dataframe\">\n",
       "  <thead>\n",
       "    <tr style=\"text-align: right;\">\n",
       "      <th></th>\n",
       "      <th>referents</th>\n",
       "    </tr>\n",
       "  </thead>\n",
       "  <tbody>\n",
       "    <tr>\n",
       "      <th>count</th>\n",
       "      <td>27724.000000</td>\n",
       "    </tr>\n",
       "    <tr>\n",
       "      <th>mean</th>\n",
       "      <td>4.056161</td>\n",
       "    </tr>\n",
       "    <tr>\n",
       "      <th>std</th>\n",
       "      <td>7.223182</td>\n",
       "    </tr>\n",
       "    <tr>\n",
       "      <th>min</th>\n",
       "      <td>2.000000</td>\n",
       "    </tr>\n",
       "    <tr>\n",
       "      <th>25%</th>\n",
       "      <td>2.000000</td>\n",
       "    </tr>\n",
       "    <tr>\n",
       "      <th>50%</th>\n",
       "      <td>2.000000</td>\n",
       "    </tr>\n",
       "    <tr>\n",
       "      <th>75%</th>\n",
       "      <td>4.000000</td>\n",
       "    </tr>\n",
       "    <tr>\n",
       "      <th>max</th>\n",
       "      <td>307.000000</td>\n",
       "    </tr>\n",
       "  </tbody>\n",
       "</table>\n",
       "</div>"
      ],
      "text/plain": [
       "          referents\n",
       "count  27724.000000\n",
       "mean       4.056161\n",
       "std        7.223182\n",
       "min        2.000000\n",
       "25%        2.000000\n",
       "50%        2.000000\n",
       "75%        4.000000\n",
       "max      307.000000"
      ]
     },
     "execution_count": 18,
     "metadata": {},
     "output_type": "execute_result"
    }
   ],
   "source": [
    "with open(f'doc_cluster_info_singl_excl.json') as json_file:\n",
    "        ref_data = json.load(json_file)\n",
    "ref_data = ref_data['refs_per_cluster']\n",
    "\n",
    "df = pd.DataFrame([[k,v] for k,v in ref_data.items()], columns=['sentence_id', 'referents'])\n",
    "print(df.median())\n",
    "df.describe()"
   ]
  },
  {
   "cell_type": "code",
   "execution_count": 22,
   "metadata": {},
   "outputs": [
    {
     "data": {
      "text/html": [
       "<div>\n",
       "<style scoped>\n",
       "    .dataframe tbody tr th:only-of-type {\n",
       "        vertical-align: middle;\n",
       "    }\n",
       "\n",
       "    .dataframe tbody tr th {\n",
       "        vertical-align: top;\n",
       "    }\n",
       "\n",
       "    .dataframe thead th {\n",
       "        text-align: right;\n",
       "    }\n",
       "</style>\n",
       "<table border=\"1\" class=\"dataframe\">\n",
       "  <thead>\n",
       "    <tr style=\"text-align: right;\">\n",
       "      <th></th>\n",
       "      <th>sentence_id</th>\n",
       "      <th>referents</th>\n",
       "    </tr>\n",
       "  </thead>\n",
       "  <tbody>\n",
       "    <tr>\n",
       "      <th>0</th>\n",
       "      <td>..\\..\\Data\\Sonar_corpus_conll_splits_singleton...</td>\n",
       "      <td>2</td>\n",
       "    </tr>\n",
       "    <tr>\n",
       "      <th>1</th>\n",
       "      <td>..\\..\\Data\\Sonar_corpus_conll_splits_singleton...</td>\n",
       "      <td>8</td>\n",
       "    </tr>\n",
       "    <tr>\n",
       "      <th>2</th>\n",
       "      <td>..\\..\\Data\\Sonar_corpus_conll_splits_singleton...</td>\n",
       "      <td>2</td>\n",
       "    </tr>\n",
       "    <tr>\n",
       "      <th>3</th>\n",
       "      <td>..\\..\\Data\\Sonar_corpus_conll_splits_singleton...</td>\n",
       "      <td>3</td>\n",
       "    </tr>\n",
       "    <tr>\n",
       "      <th>4</th>\n",
       "      <td>..\\..\\Data\\Sonar_corpus_conll_splits_singleton...</td>\n",
       "      <td>5</td>\n",
       "    </tr>\n",
       "    <tr>\n",
       "      <th>...</th>\n",
       "      <td>...</td>\n",
       "      <td>...</td>\n",
       "    </tr>\n",
       "    <tr>\n",
       "      <th>27719</th>\n",
       "      <td>..\\..\\Data\\Sonar_corpus_conll_splits_singleton...</td>\n",
       "      <td>3</td>\n",
       "    </tr>\n",
       "    <tr>\n",
       "      <th>27720</th>\n",
       "      <td>..\\..\\Data\\Sonar_corpus_conll_splits_singleton...</td>\n",
       "      <td>2</td>\n",
       "    </tr>\n",
       "    <tr>\n",
       "      <th>27721</th>\n",
       "      <td>..\\..\\Data\\Sonar_corpus_conll_splits_singleton...</td>\n",
       "      <td>2</td>\n",
       "    </tr>\n",
       "    <tr>\n",
       "      <th>27722</th>\n",
       "      <td>..\\..\\Data\\Sonar_corpus_conll_splits_singleton...</td>\n",
       "      <td>2</td>\n",
       "    </tr>\n",
       "    <tr>\n",
       "      <th>27723</th>\n",
       "      <td>..\\..\\Data\\Sonar_corpus_conll_splits_singleton...</td>\n",
       "      <td>2</td>\n",
       "    </tr>\n",
       "  </tbody>\n",
       "</table>\n",
       "<p>27724 rows × 2 columns</p>\n",
       "</div>"
      ],
      "text/plain": [
       "                                             sentence_id  referents\n",
       "0      ..\\..\\Data\\Sonar_corpus_conll_splits_singleton...          2\n",
       "1      ..\\..\\Data\\Sonar_corpus_conll_splits_singleton...          8\n",
       "2      ..\\..\\Data\\Sonar_corpus_conll_splits_singleton...          2\n",
       "3      ..\\..\\Data\\Sonar_corpus_conll_splits_singleton...          3\n",
       "4      ..\\..\\Data\\Sonar_corpus_conll_splits_singleton...          5\n",
       "...                                                  ...        ...\n",
       "27719  ..\\..\\Data\\Sonar_corpus_conll_splits_singleton...          3\n",
       "27720  ..\\..\\Data\\Sonar_corpus_conll_splits_singleton...          2\n",
       "27721  ..\\..\\Data\\Sonar_corpus_conll_splits_singleton...          2\n",
       "27722  ..\\..\\Data\\Sonar_corpus_conll_splits_singleton...          2\n",
       "27723  ..\\..\\Data\\Sonar_corpus_conll_splits_singleton...          2\n",
       "\n",
       "[27724 rows x 2 columns]"
      ]
     },
     "execution_count": 22,
     "metadata": {},
     "output_type": "execute_result"
    }
   ],
   "source": [
    "df = pd.DataFrame([[k,v] for k,v in ref_data.items()], columns=['sentence_id', 'referents'])\n",
    "df"
   ]
  },
  {
   "cell_type": "markdown",
   "metadata": {},
   "source": [
    "## Nouns"
   ]
  },
  {
   "cell_type": "code",
   "execution_count": 62,
   "metadata": {},
   "outputs": [
    {
     "data": {
      "text/html": [
       "<div>\n",
       "<style scoped>\n",
       "    .dataframe tbody tr th:only-of-type {\n",
       "        vertical-align: middle;\n",
       "    }\n",
       "\n",
       "    .dataframe tbody tr th {\n",
       "        vertical-align: top;\n",
       "    }\n",
       "\n",
       "    .dataframe thead th {\n",
       "        text-align: right;\n",
       "    }\n",
       "</style>\n",
       "<table border=\"1\" class=\"dataframe\">\n",
       "  <thead>\n",
       "    <tr style=\"text-align: right;\">\n",
       "      <th></th>\n",
       "      <th>noun</th>\n",
       "      <th>new noun</th>\n",
       "      <th>gender</th>\n",
       "      <th>freq</th>\n",
       "      <th>percentage</th>\n",
       "    </tr>\n",
       "  </thead>\n",
       "  <tbody>\n",
       "    <tr>\n",
       "      <th>0</th>\n",
       "      <td>tante</td>\n",
       "      <td>familielid</td>\n",
       "      <td>Female</td>\n",
       "      <td>10</td>\n",
       "      <td>0.40</td>\n",
       "    </tr>\n",
       "    <tr>\n",
       "      <th>1</th>\n",
       "      <td>oom</td>\n",
       "      <td>familielid</td>\n",
       "      <td>Male</td>\n",
       "      <td>10</td>\n",
       "      <td>0.40</td>\n",
       "    </tr>\n",
       "    <tr>\n",
       "      <th>2</th>\n",
       "      <td>jongen</td>\n",
       "      <td>kind</td>\n",
       "      <td>Male</td>\n",
       "      <td>73</td>\n",
       "      <td>2.94</td>\n",
       "    </tr>\n",
       "    <tr>\n",
       "      <th>3</th>\n",
       "      <td>meisje</td>\n",
       "      <td>kind</td>\n",
       "      <td>Female</td>\n",
       "      <td>23</td>\n",
       "      <td>0.93</td>\n",
       "    </tr>\n",
       "    <tr>\n",
       "      <th>4</th>\n",
       "      <td>man</td>\n",
       "      <td>persoon</td>\n",
       "      <td>Male</td>\n",
       "      <td>301</td>\n",
       "      <td>12.11</td>\n",
       "    </tr>\n",
       "    <tr>\n",
       "      <th>...</th>\n",
       "      <td>...</td>\n",
       "      <td>...</td>\n",
       "      <td>...</td>\n",
       "      <td>...</td>\n",
       "      <td>...</td>\n",
       "    </tr>\n",
       "    <tr>\n",
       "      <th>83</th>\n",
       "      <td>vriend</td>\n",
       "      <td>maat</td>\n",
       "      <td>Male</td>\n",
       "      <td>45</td>\n",
       "      <td>1.81</td>\n",
       "    </tr>\n",
       "    <tr>\n",
       "      <th>84</th>\n",
       "      <td>vriendin</td>\n",
       "      <td>maat</td>\n",
       "      <td>Female</td>\n",
       "      <td>28</td>\n",
       "      <td>1.13</td>\n",
       "    </tr>\n",
       "    <tr>\n",
       "      <th>85</th>\n",
       "      <td>vriendje</td>\n",
       "      <td>partner</td>\n",
       "      <td>Male</td>\n",
       "      <td>3</td>\n",
       "      <td>0.12</td>\n",
       "    </tr>\n",
       "    <tr>\n",
       "      <th>86</th>\n",
       "      <td>vriendinnetje</td>\n",
       "      <td>partner</td>\n",
       "      <td>Female</td>\n",
       "      <td>0</td>\n",
       "      <td>0.00</td>\n",
       "    </tr>\n",
       "    <tr>\n",
       "      <th>87</th>\n",
       "      <td>mijnheer</td>\n",
       "      <td>notabele</td>\n",
       "      <td>Male</td>\n",
       "      <td>14</td>\n",
       "      <td>0.56</td>\n",
       "    </tr>\n",
       "  </tbody>\n",
       "</table>\n",
       "<p>88 rows × 5 columns</p>\n",
       "</div>"
      ],
      "text/plain": [
       "             noun    new noun  gender  freq  percentage\n",
       "0           tante  familielid  Female    10        0.40\n",
       "1             oom  familielid    Male    10        0.40\n",
       "2          jongen        kind    Male    73        2.94\n",
       "3          meisje        kind  Female    23        0.93\n",
       "4             man     persoon    Male   301       12.11\n",
       "..            ...         ...     ...   ...         ...\n",
       "83         vriend        maat    Male    45        1.81\n",
       "84       vriendin        maat  Female    28        1.13\n",
       "85       vriendje     partner    Male     3        0.12\n",
       "86  vriendinnetje     partner  Female     0        0.00\n",
       "87       mijnheer    notabele    Male    14        0.56\n",
       "\n",
       "[88 rows x 5 columns]"
      ]
     },
     "execution_count": 62,
     "metadata": {},
     "output_type": "execute_result"
    }
   ],
   "source": [
    "with open(f'noun_freqs.json') as json_file:\n",
    "        noundata = json.load(json_file)\n",
    "data = []\n",
    "for k,v in noundata.items():\n",
    "    row = [k]\n",
    "    for value in v.values():\n",
    "        if value == 'f':\n",
    "            row.append('Female')\n",
    "        elif value == 'm':\n",
    "            row.append('Male')\n",
    "        else:\n",
    "            row.append(value)\n",
    "    data.append(row)\n",
    "\n",
    "df = pd.DataFrame(data, columns=['noun','new noun', 'gender','freq'])\n",
    "df['percentage'] = round((df['freq'] / df['freq'].sum())*100,2)\n",
    "df"
   ]
  },
  {
   "cell_type": "code",
   "execution_count": 63,
   "metadata": {},
   "outputs": [
    {
     "data": {
      "text/html": [
       "<div>\n",
       "<style scoped>\n",
       "    .dataframe tbody tr th:only-of-type {\n",
       "        vertical-align: middle;\n",
       "    }\n",
       "\n",
       "    .dataframe tbody tr th {\n",
       "        vertical-align: top;\n",
       "    }\n",
       "\n",
       "    .dataframe thead th {\n",
       "        text-align: right;\n",
       "    }\n",
       "</style>\n",
       "<table border=\"1\" class=\"dataframe\">\n",
       "  <thead>\n",
       "    <tr style=\"text-align: right;\">\n",
       "      <th></th>\n",
       "      <th>noun</th>\n",
       "      <th>new noun</th>\n",
       "      <th>gender</th>\n",
       "      <th>freq</th>\n",
       "      <th>percentage</th>\n",
       "    </tr>\n",
       "  </thead>\n",
       "  <tbody>\n",
       "    <tr>\n",
       "      <th>4</th>\n",
       "      <td>man</td>\n",
       "      <td>persoon</td>\n",
       "      <td>Male</td>\n",
       "      <td>301</td>\n",
       "      <td>12.11</td>\n",
       "    </tr>\n",
       "    <tr>\n",
       "      <th>7</th>\n",
       "      <td>vrouwen</td>\n",
       "      <td>personen</td>\n",
       "      <td>Female</td>\n",
       "      <td>244</td>\n",
       "      <td>9.81</td>\n",
       "    </tr>\n",
       "    <tr>\n",
       "      <th>45</th>\n",
       "      <td>koning</td>\n",
       "      <td>staatshoofd</td>\n",
       "      <td>Male</td>\n",
       "      <td>168</td>\n",
       "      <td>6.76</td>\n",
       "    </tr>\n",
       "    <tr>\n",
       "      <th>5</th>\n",
       "      <td>vrouw</td>\n",
       "      <td>persoon</td>\n",
       "      <td>Female</td>\n",
       "      <td>158</td>\n",
       "      <td>6.36</td>\n",
       "    </tr>\n",
       "    <tr>\n",
       "      <th>6</th>\n",
       "      <td>mannen</td>\n",
       "      <td>personen</td>\n",
       "      <td>Male</td>\n",
       "      <td>132</td>\n",
       "      <td>5.31</td>\n",
       "    </tr>\n",
       "    <tr>\n",
       "      <th>...</th>\n",
       "      <td>...</td>\n",
       "      <td>...</td>\n",
       "      <td>...</td>\n",
       "      <td>...</td>\n",
       "      <td>...</td>\n",
       "    </tr>\n",
       "    <tr>\n",
       "      <th>54</th>\n",
       "      <td>politievrouw</td>\n",
       "      <td>politieagent</td>\n",
       "      <td>Female</td>\n",
       "      <td>0</td>\n",
       "      <td>0.00</td>\n",
       "    </tr>\n",
       "    <tr>\n",
       "      <th>51</th>\n",
       "      <td>jongedame</td>\n",
       "      <td>jongere</td>\n",
       "      <td>Female</td>\n",
       "      <td>0</td>\n",
       "      <td>0.00</td>\n",
       "    </tr>\n",
       "    <tr>\n",
       "      <th>38</th>\n",
       "      <td>opa</td>\n",
       "      <td>grootouder</td>\n",
       "      <td>Male</td>\n",
       "      <td>0</td>\n",
       "      <td>0.00</td>\n",
       "    </tr>\n",
       "    <tr>\n",
       "      <th>35</th>\n",
       "      <td>kleindochters</td>\n",
       "      <td>kleinkinderen</td>\n",
       "      <td>Female</td>\n",
       "      <td>0</td>\n",
       "      <td>0.00</td>\n",
       "    </tr>\n",
       "    <tr>\n",
       "      <th>59</th>\n",
       "      <td>prinsessen</td>\n",
       "      <td>edelen</td>\n",
       "      <td>Female</td>\n",
       "      <td>0</td>\n",
       "      <td>0.00</td>\n",
       "    </tr>\n",
       "  </tbody>\n",
       "</table>\n",
       "<p>88 rows × 5 columns</p>\n",
       "</div>"
      ],
      "text/plain": [
       "             noun       new noun  gender  freq  percentage\n",
       "4             man        persoon    Male   301       12.11\n",
       "7         vrouwen       personen  Female   244        9.81\n",
       "45         koning    staatshoofd    Male   168        6.76\n",
       "5           vrouw        persoon  Female   158        6.36\n",
       "6          mannen       personen    Male   132        5.31\n",
       "..            ...            ...     ...   ...         ...\n",
       "54   politievrouw   politieagent  Female     0        0.00\n",
       "51      jongedame        jongere  Female     0        0.00\n",
       "38            opa     grootouder    Male     0        0.00\n",
       "35  kleindochters  kleinkinderen  Female     0        0.00\n",
       "59     prinsessen         edelen  Female     0        0.00\n",
       "\n",
       "[88 rows x 5 columns]"
      ]
     },
     "execution_count": 63,
     "metadata": {},
     "output_type": "execute_result"
    }
   ],
   "source": [
    "df = df.sort_values(by=['freq'], ascending=False)\n",
    "df"
   ]
  },
  {
   "cell_type": "code",
   "execution_count": 75,
   "metadata": {},
   "outputs": [
    {
     "data": {
      "text/plain": [
       "41.02976669348351"
      ]
     },
     "execution_count": 75,
     "metadata": {},
     "output_type": "execute_result"
    }
   ],
   "source": [
    "sum(df.loc[df['gender'] == 'Female']['freq'])/ sum(df['freq']) * 100"
   ]
  },
  {
   "cell_type": "code",
   "execution_count": 74,
   "metadata": {},
   "outputs": [
    {
     "data": {
      "text/plain": [
       "58.9702333065165"
      ]
     },
     "execution_count": 74,
     "metadata": {},
     "output_type": "execute_result"
    }
   ],
   "source": [
    "sum(df.loc[df['gender'] == 'Male']['freq']) / sum(df['freq']) * 100"
   ]
  },
  {
   "cell_type": "code",
   "execution_count": 71,
   "metadata": {},
   "outputs": [],
   "source": [
    "df = df.loc[df['freq'] > 0]"
   ]
  },
  {
   "cell_type": "code",
   "execution_count": 73,
   "metadata": {},
   "outputs": [
    {
     "data": {
      "image/png": "[encoded data removed]",
      "text/plain": [
       "<Figure size 864x360 with 1 Axes>"
      ]
     },
     "metadata": {},
     "output_type": "display_data"
    }
   ],
   "source": [
    "fig, ax = plt.subplots(figsize=(12.0,5.0))\n",
    "sns.despine(left=True)\n",
    "sns.set_style(\"whitegrid\", {\"grid.color\": \".9\", \"grid.linestyle\": \"-\"})\n",
    "sns.set_context(\"talk\")\n",
    "\n",
    "# creating the bar plot\n",
    "plt.xticks(rotation=90, fontsize=10.5)\n",
    "my_pal = {\"Female\": \"mediumpurple\", \"Male\": \"pink\"}\n",
    "\n",
    "sns.barplot(ax=ax, data=df, x='noun', y='freq', hue=\"gender\", palette=my_pal, dodge=False)\n",
    "\n",
    "handles, labels = ax.get_legend_handles_labels()\n",
    "ax.legend(handles=handles[0:], labels=labels[0:], loc='lower center', bbox_to_anchor=(.5, 1), ncol=3, frameon=False)\n",
    "\n",
    "plt.xlabel(\"Noun\", fontweight='bold')\n",
    "plt.ylabel(\"Frequency\", fontweight='bold')\n",
    "\n",
    "plt.savefig(\"noundistribution.pdf\", format=\"pdf\", bbox_inches=\"tight\")\n",
    "plt.show()"
   ]
  },
  {
   "cell_type": "code",
   "execution_count": null,
   "metadata": {},
   "outputs": [],
   "source": []
  }
 ],
 "metadata": {
  "kernelspec": {
   "display_name": "Python 3",
   "language": "python",
   "name": "python3"
  },
  "language_info": {
   "codemirror_mode": {
    "name": "ipython",
    "version": 3
   },
   "file_extension": ".py",
   "mimetype": "text/x-python",
   "name": "python",
   "nbconvert_exporter": "python",
   "pygments_lexer": "ipython3",
   "version": "3.8.5"
  }
 },
 "nbformat": 4,
 "nbformat_minor": 4
}
