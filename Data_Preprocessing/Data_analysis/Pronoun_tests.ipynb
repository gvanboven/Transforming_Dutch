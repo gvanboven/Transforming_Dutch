{
 "cells": [
  {
   "cell_type": "code",
   "execution_count": 2,
   "metadata": {},
   "outputs": [],
   "source": [
    "import json\n",
    "import matplotlib.pyplot as plt\n",
    "import os\n",
    "\n",
    "import pandas as pd\n",
    "import seaborn as sns\n",
    "import numpy as np\n",
    "import matplotlib.pyplot as plt\n",
    "\n",
    "from collections import defaultdict\n",
    "import re"
   ]
  },
  {
   "cell_type": "code",
   "execution_count": 9,
   "metadata": {},
   "outputs": [
    {
     "name": "stdout",
     "output_type": "stream",
     "text": [
      "haar VNW|pers|pron|obl|vol|3|getal|fem 105\n",
      "hem VNW|pers|pron|obl|vol|3|ev|masc 604\n",
      "ze VNW|pers|pron|stan|red|3|ev|fem 825\n",
      "m VNW|pers|pron|obl|red|3|ev|masc 3\n",
      "'m VNW|pers|pron|obl|red|3|ev|masc 12\n",
      "hemzelf VNW|pers|pron|obl|nadr|3m|ev|masc 8\n",
      "haarzelf VNW|pers|pron|obl|nadr|3v|getal|fem 1\n",
      "haarzelve VNW|pers|pron|obl|nadr|3v|getal|fem 1\n",
      "hém VNW|pers|pron|obl|vol|3|ev|masc 2\n",
      "m. VNW|pers|pron|obl|red|3|ev|masc 1\n",
      "em VNW|pers|pron|obl|vol|3|ev|masc 1\n"
     ]
    }
   ],
   "source": [
    "with open(f'postokendata.json') as json_file:\n",
    "        postokendata = json.load(json_file)\n",
    "gender_counts = defaultdict(lambda : defaultdict(lambda : 0))\n",
    "        \n",
    "        \n",
    "for word, posdata in postokendata['PRON'].items():\n",
    "    \n",
    "    for postag, freq in posdata.items():\n",
    "        if 'excl' not in postag and 'onbep' not in postag and 'betr' not in postag and 'aanw' not in postag and \"vb\" not in postag:\n",
    "            if 'mv' not in postag :\n",
    "                #print(word, postag, freq)\n",
    "                try: \n",
    "                    number = re.search(re.compile(r\"[1-3]\", flags=re.M), postag)[0]\n",
    "                    \n",
    "                    if number == '3':\n",
    "                        gender = postag[-4:].replace(\"|\",\"\")\n",
    "                        #if gender == 'masc' \n",
    "                        if gender not in ['fem', 'masc']:\n",
    "                            \n",
    "                            if word == 'haar' : \n",
    "                                gender = 'fem'\n",
    "                            elif word == 'zijn' or word == \"z'n\":\n",
    "                                gender = 'masc'\n",
    "                            else:\n",
    "                                #print(word, postag, freq)\n",
    "                                continue\n",
    "                        gendertag = 'Feminine' if gender == 'fem' else 'Masculine' \n",
    "                        if 'bez' in postag:\n",
    "                            gender_counts[gendertag]['Possessive'] += freq\n",
    "                            #print(word, postag, freq)\n",
    "                        elif 'nomin' in postag:\n",
    "                            if word != 'men':\n",
    "                                gender_counts[gendertag]['Subject'] += freq\n",
    "                            #print(word, postag, freq)\n",
    "                        else:\n",
    "                            if word == 'ze':\n",
    "                                gender_counts[gendertag]['Subject'] += freq\n",
    "                            else:\n",
    "                                gender_counts[gendertag]['Object'] += freq\n",
    "                            print(word, postag, freq)\n",
    "                except:\n",
    "                        print(f\"FAil for {word, postag, freq}\")        "
   ]
  },
  {
   "cell_type": "code",
   "execution_count": null,
   "metadata": {},
   "outputs": [],
   "source": []
  }
 ],
 "metadata": {
  "kernelspec": {
   "display_name": "Python 3",
   "language": "python",
   "name": "python3"
  },
  "language_info": {
   "codemirror_mode": {
    "name": "ipython",
    "version": 3
   },
   "file_extension": ".py",
   "mimetype": "text/x-python",
   "name": "python",
   "nbconvert_exporter": "python",
   "pygments_lexer": "ipython3",
   "version": "3.8.5"
  }
 },
 "nbformat": 4,
 "nbformat_minor": 4
}
