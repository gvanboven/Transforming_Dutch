{
 "cells": [
  {
   "cell_type": "code",
   "execution_count": 1,
   "id": "6a66efb1",
   "metadata": {},
   "outputs": [
    {
     "name": "stdout",
     "output_type": "stream",
     "text": [
      "/hpc/uu_cs_nlpsoc/gvanboven/wl-coref\n"
     ]
    }
   ],
   "source": [
    "%cd /hpc/uu_cs_nlpsoc/gvanboven/wl-coref"
   ]
  },
  {
   "cell_type": "code",
   "execution_count": 2,
   "id": "5ff16dd5",
   "metadata": {},
   "outputs": [],
   "source": [
    "import argparse\n",
    "\n",
    "import jsonlines\n",
    "import torch\n",
    "from tqdm import tqdm\n",
    "import numpy as np\n",
    "\n",
    "from coref.config import Config\n",
    "from coref.const import Doc, Span\n",
    "from typing import List, TextIO, Dict, Callable, Type\n",
    "from collections import defaultdict\n",
    "\n",
    "import checklist\n",
    "from checklist.pred_wrapper import PredictorWrapper\n",
    "from checklist.editor import Editor\n",
    "from checklist.perturb import Perturb\n",
    "from checklist.test_types import MFT, INV, DIR\n",
    "from checklist.expect import Expect\n",
    "from checklist.test_suite import TestSuite\n",
    "import json\n",
    "\n",
    "from coref import CorefModel\n",
    "from coref.tokenizer_customization import *"
   ]
  },
  {
   "cell_type": "code",
   "execution_count": 3,
   "id": "0cb82d0c",
   "metadata": {},
   "outputs": [],
   "source": [
    "config_file = 'config.toml'\n",
    "experiment = 'xlm-roberta'\n",
    "input_file = 'sample_input.jsonlines'\n",
    "\n",
    "weights_regular1 = 'data/model_checkpoints/xlm_regular_248/xlm-roberta_e18.pt'\n",
    "weights_regular2 = 'data/model_checkpoints/xlm_regular_2020/xlm-roberta_e15.pt'\n",
    "weights_regular3 = 'data/model_checkpoints/xlm_regular_2023/xlm-roberta_e17.pt'\n",
    "weights_regular4 = 'data/model_checkpoints/xlm_regular_123/xlm-roberta_e18.pt'\n",
    "weights_regular5 = 'data/model_checkpoints/xlm_regular_1234/xlm-roberta_e15.pt'\n",
    "\n",
    "weights_debiased1 = 'data/model_checkpoints/xlm_gn_comb_fine_248/xlm-roberta_e26.pt'\n",
    "weights_debiased2 = 'data/model_checkpoints/xlm_gn_comb_fine_2020/xlm-roberta_e25.pt'\n",
    "weights_debiased3 = 'data/model_checkpoints/xlm_gn_comb_fine_2023/xlm-roberta_e23.pt'\n",
    "weights_debiased4 = 'data/model_checkpoints/xlm_gn_comb_fine_123/xlm-roberta_e23.pt'\n",
    "weights_debiased5 = 'data/model_checkpoints/xlm_gn_comb_fine_1234/xlm-roberta_e23.pt'"
   ]
  },
  {
   "cell_type": "code",
   "execution_count": 4,
   "id": "ae840958",
   "metadata": {},
   "outputs": [],
   "source": [
    "def build_doc(doc: dict, model: CorefModel) -> dict:\n",
    "    filter_func = TOKENIZER_FILTERS.get(model.config.bert_model,\n",
    "                                        lambda _: True)\n",
    "    token_map = TOKENIZER_MAPS.get(model.config.bert_model, {})\n",
    "\n",
    "    word2subword = []\n",
    "    subwords = []\n",
    "    word_id = []\n",
    "    for i, word in enumerate(doc[\"cased_words\"]):\n",
    "        tokenized_word = (token_map[word]\n",
    "                          if word in token_map\n",
    "                          else model.tokenizer.tokenize(word))\n",
    "        tokenized_word = list(filter(filter_func, tokenized_word))\n",
    "        word2subword.append((len(subwords), len(subwords) + len(tokenized_word)))\n",
    "        subwords.extend(tokenized_word)\n",
    "        word_id.extend([i] * len(tokenized_word))\n",
    "    doc[\"word2subword\"] = word2subword\n",
    "    doc[\"subwords\"] = subwords\n",
    "    doc[\"word_id\"] = word_id\n",
    "\n",
    "    doc[\"head2span\"] = []\n",
    "    if \"speaker\" not in doc:\n",
    "        doc[\"speaker\"] = [\"_\" for _ in doc[\"cased_words\"]]\n",
    "    doc[\"word_clusters\"] = []\n",
    "    doc[\"span_clusters\"] = []\n",
    "\n",
    "    return doc"
   ]
  },
  {
   "cell_type": "code",
   "execution_count": 5,
   "id": "8a7c3b96",
   "metadata": {},
   "outputs": [],
   "source": [
    "def return_predictions(doc: Doc,\n",
    "                clusters: List[List[Span]]):\n",
    "    \"\"\" Writes span/cluster information to f_obj, which is assumed to be a file\n",
    "    object open for writing \"\"\"\n",
    "    placeholder = \"  -\" * 7\n",
    "    doc_id = doc[\"document_id\"]\n",
    "    words = doc[\"cased_words\"]\n",
    "    sents = doc[\"sent_id\"]\n",
    "\n",
    "    max_word_len = max(len(w) for w in words)\n",
    "\n",
    "    starts = defaultdict(lambda: [])\n",
    "    ends = defaultdict(lambda: [])\n",
    "    single_word = defaultdict(lambda: [])\n",
    "\n",
    "    for cluster_id, cluster in enumerate(clusters):\n",
    "        for start, end in cluster:\n",
    "            if end - start == 1:\n",
    "                single_word[start].append(cluster_id)\n",
    "            else:\n",
    "                starts[start].append(cluster_id)\n",
    "                ends[end - 1].append(cluster_id)\n",
    "    cluster_list = []\n",
    "    word_number = 0\n",
    "    for word_id, word in enumerate(words):\n",
    "\n",
    "        cluster_info_lst = []\n",
    "        for cluster_marker in starts[word_id]:\n",
    "            cluster_info_lst.append(f\"({cluster_marker}\")\n",
    "        for cluster_marker in single_word[word_id]:\n",
    "            cluster_info_lst.append(f\"({cluster_marker})\")\n",
    "        for cluster_marker in ends[word_id]:\n",
    "            cluster_info_lst.append(f\"{cluster_marker})\")\n",
    "        cluster_info = \"|\".join(cluster_info_lst) if cluster_info_lst else \"-\"\n",
    "        cluster_list.append(cluster_info)\n",
    "\n",
    "        if word_id == 0 or sents[word_id] != sents[word_id - 1]:\n",
    "            word_number = 0\n",
    "\n",
    "        word_number += 1\n",
    "    \n",
    "    return {'words': words, 'preds': cluster_list}"
   ]
  },
  {
   "cell_type": "code",
   "execution_count": 6,
   "id": "6b84909d",
   "metadata": {},
   "outputs": [],
   "source": [
    "def preprocess_sent(sent: str):\n",
    "    tokens = sent.split()\n",
    "    data = {\n",
    "            \"document_id\": \"\",\n",
    "            \"cased_words\": tokens,\n",
    "            \"sent_id\": [0 for i in range(len(tokens))]\n",
    "    }\n",
    "    return data"
   ]
  },
  {
   "cell_type": "code",
   "execution_count": 7,
   "id": "ff7ffbe7",
   "metadata": {},
   "outputs": [],
   "source": [
    "def load_model(weights):\n",
    "        model = CorefModel(config_file, experiment, build_optimizers=False, lr=5e-4, bert_lr=3e-5)\n",
    "\n",
    "        model.load_weights(path=weights, map_location=\"cpu\",\n",
    "                           ignore={\"bert_optimizer\", \"general_optimizer\",\n",
    "                                  \"bert_scheduler\", \"general_scheduler\"})\n",
    "        model.training = False\n",
    "        return model\n",
    "\n",
    "def make_pred(model, input_data):\n",
    "    docs = [build_doc(doc, model) for doc in input_data]\n",
    "    \n",
    "    outputs = []\n",
    "    with torch.no_grad():\n",
    "        for doc in tqdm(docs, unit=\"docs\"):\n",
    "            result, _ = model.run(doc)\n",
    "            #print(result)\n",
    "            doc[\"span_clusters\"] = result.span_clusters\n",
    "            doc[\"word_clusters\"] = result.word_clusters\n",
    "\n",
    "            for key in (\"word2subword\", \"subwords\", \"word_id\", \"head2span\"):\n",
    "                del doc[key]\n",
    "            \n",
    "            #print(result.word_clusters)\n",
    "\n",
    "            output = return_predictions(doc, [[(i, i + 1) for i in cluster]\n",
    "                                           for cluster in result.word_clusters])\n",
    "            outputs.append(output)\n",
    "    return outputs"
   ]
  },
  {
   "cell_type": "code",
   "execution_count": 8,
   "id": "02301f12",
   "metadata": {},
   "outputs": [],
   "source": [
    "def get_arg_2mentions(predictions: Dict, mention1: str, mention2: str) -> (str, str):\n",
    "    \"\"\" \n",
    "    Helper function to extract target arguments, when there are two targets\n",
    "    :param pred: the model prediction\n",
    "    :param mention1: the token of the first mention\n",
    "    :param mention2: the token of the second mention\n",
    "\n",
    "    :returns the predictions for the first and second mention\n",
    "\n",
    "    \"\"\"\n",
    "    words = predictions['words']\n",
    "    preds = predictions['preds']\n",
    "    \n",
    "    m1_idx = words.index(mention1)\n",
    "    m2_idx = words.index(mention2)\n",
    "    \n",
    "    return(preds[m1_idx], preds[m2_idx])\n",
    "\n",
    "def get_arg_3mentions(predictions: Dict, mention1: str, mention2: str, mention3: str) -> (str, str):\n",
    "    \"\"\" \n",
    "    Helper function to extract target arguments, when there are three targets\n",
    "    :param pred: the model prediction\n",
    "    :param mention1: the token of the first mention\n",
    "    :param mention2: the token of the second mention\n",
    "    :param mention3: the token of the thrid mention\n",
    "\n",
    "    :returns the predictions for the first, second and third mention\n",
    "\n",
    "    \"\"\"\n",
    "    words = predictions['words']\n",
    "    preds = predictions['preds']\n",
    "    \n",
    "    m1_idx = words.index(mention1)\n",
    "    m2_idx = words.index(mention2)\n",
    "    m3_idx = words.index(mention3)\n",
    "    \n",
    "    return(preds[m1_idx], preds[m2_idx], preds[m3_idx])\n",
    "\n",
    "def get_arg_4mentions(predictions: Dict, mention1: str, mention2: str, mention3: str, mention4: str) -> (str, str):\n",
    "    \"\"\" \n",
    "    Helper function to extract target arguments, when there are three targets\n",
    "    :param pred: the model prediction\n",
    "    :param mention1: the token of the first mention\n",
    "    :param mention2: the token of the second mention\n",
    "    :param mention3: the token of the thrid mention\n",
    "\n",
    "    :returns the predictions for the first, second and third mention\n",
    "\n",
    "    \"\"\"\n",
    "    words = predictions['words']\n",
    "    preds = predictions['preds']\n",
    "    \n",
    "    \n",
    "    m1_idx = words.index(mention1)\n",
    "    m2_idx = words.index(mention2)\n",
    "    m3_idx = words.index(mention3)\n",
    "    m4_idx = words.index(mention4)\n",
    "    \n",
    "    return(preds[m1_idx], preds[m2_idx], preds[m3_idx], preds[m4_idx])\n",
    "\n",
    "\n",
    "def get_model_results(model: Type[CorefModel], n : int, sentence : str, capability : str, testcase_name : str) -> Dict:\n",
    "    \"\"\"\n",
    "    Extracts the predictions of a given model for a given sentence\n",
    "    And returns a dict with this info, which is to be stored in an output file\n",
    "\n",
    "    :param model: a pretrained srl model\n",
    "    :param n: the number of the current data sample\n",
    "    :param sentence: the current data sample sentence\n",
    "    :param capability: the name of the linguistic capability of interest\n",
    "    :param testcase_name: the name of the current test\n",
    "\n",
    "    :returns results: dict with all relevant info to store in output file\n",
    "    \"\"\"\n",
    "    results = {'sentence' : sentence,\n",
    "               'capability' : capability,\n",
    "               'testcase_name' : testcase_name,\n",
    "               'preds' : model.results['preds'][n],\n",
    "               'confs': model.results['confs'][n],\n",
    "               'passed' : bool(model.results['passed'][n])}\n",
    "    return results\n",
    "\n",
    "def extract_data_and_predictions(t: Dict, capability: str, testcase_name: str, test_regular: Dict, \n",
    "                                 test_debiased: Dict, test_data: List,  regular_predictions: List, \n",
    "                                 debiased_predictions : List) -> (List, List, List):\n",
    "    \"\"\" \n",
    "    Function that extracts all relevant test data and predictions information that is to be stored in the output files\n",
    "\n",
    "    :param t: dict containing all test case information\n",
    "    :param capability: the name of the linguistic capability of interest\n",
    "    :param testcase_name: the name of the current test\n",
    "    :param test_regular: predictions for the first SRL model\n",
    "    :param test_debiased: predictions for the second SRL model\n",
    "    :param test_data: output list in which all test cases should be stored\n",
    "    :param regular_predictions: output list in which all predictions of the first model should be stored\n",
    "    :param debiased_predictions: output list in which all predictions of the second model should be stored\n",
    "\n",
    "    :returns test_data: output list to which new test cases are added\n",
    "    :returns regular_predictions: output list to which new predictions of the first model are added\n",
    "    :returns debiased_predictions: output list to which new predictions of the second model are added\n",
    "    \"\"\"\n",
    "    for n, sentence in enumerate(t['data']):\n",
    "        #extract input sentence info\n",
    "              \n",
    "        input_item = {'sentence' : sentence,\n",
    "                        'meta' : t['meta'][n],\n",
    "                        'capability' : capability,\n",
    "                        'testcase_name': testcase_name}\n",
    "        #extract predictions info for the two models\n",
    "        regular_prediction =  get_model_results(test_regular, n, sentence, capability, testcase_name)\n",
    "        debiased_prediction =  get_model_results(test_debiased, n, sentence, capability, testcase_name)\n",
    "        #save extracted info\n",
    "        test_data.append(input_item)\n",
    "        regular_predictions.append(regular_prediction)\n",
    "        debiased_predictions.append(debiased_prediction)\n",
    "    return test_data, regular_predictions, debiased_predictions\n",
    "\n",
    "\n",
    "def predict_and_store(t: Dict, capability: str, testcase_name: str, expect: Callable, formattype: Callable, \n",
    "                      predict_regular: Type[CorefModel], predict_debiased: Type[CorefModel], \\\n",
    "                      test_data: List, regular_predictions: List, debiased_predictions: List) -> (List, List, List):\n",
    "    \"\"\" \n",
    "    Function that creates test cases given a template, makes predictions for the given models and stores the test cases as \n",
    "    well as the predictions\n",
    "\n",
    "    :param t: dict containing all test case information\n",
    "    :param capability: the name of the linguistic capability of interest\n",
    "    :param testcase_name: the name of the current test\n",
    "    :param expect: function that checks if the argument of interest is predicted as expected\n",
    "    :param formattype: function that creates the correct formatting for the test\n",
    "    :param predict_regular: first pretrained SRL model to be tested\n",
    "    :param predict_srlbert: second pretrained SRL model to be tested\n",
    "    :param test_data: output list in which all test cases should be stored\n",
    "    :param regular_predictions: output list in which all predictions of the first model should be stored\n",
    "    :param debiased_predictions: output list in which all predictions of the second model should be stored\n",
    "\n",
    "    :returns test_data: output list to which new test cases are added\n",
    "    :returns regular_predictions: output list to which new predictions of the first model are added\n",
    "    :returns debiased_predictions: output list to which new predictions of the second model are added\n",
    "    \"\"\"\n",
    "    #test the srl model\n",
    "    print('regular model')\n",
    "    test_regular = MFT(**t, expect=expect)\n",
    "    test_regular.run(predict_regular)\n",
    "    test_regular.summary(format_example_fn=formattype)\n",
    "    \n",
    "    print('debiased model')\n",
    "    test_debiased = MFT(**t, expect=expect)\n",
    "    test_debiased.run(predict_debiased)\n",
    "    test_debiased.summary(format_example_fn=formattype)\n",
    "\n",
    "    #store samples and predictions\n",
    "    test_data, regular_predictions, debiased_predictions = extract_data_and_predictions(t, capability, testcase_name, \\\n",
    "                                                                                 test_regular, test_debiased, test_data, \\\n",
    "                                                                                 regular_predictions, debiased_predictions)\n",
    "    return test_data, regular_predictions, debiased_predictions\n",
    "\n",
    "def store_data(path: str, data: List, new_file: bool=True):\n",
    "    \"\"\"\n",
    "    Function that saves a given list to a json file on the given path\n",
    "\n",
    "    :param path: path to a .json file to store data in\n",
    "    :param data: list containing information to be stored\n",
    "    :param new_file: setting indicating whether previous information in the file should be deleted (True) or not (False)\n",
    "    \"\"\"\n",
    "    #if there already is content in the file, make sure we do not lose it. \n",
    "    if new_file == False:\n",
    "        with open(path, \"r\") as file:\n",
    "            old_data = json.load(file)\n",
    "\n",
    "        old_data.append(data)\n",
    "        data = old_data\n",
    "\n",
    "    with open(path, \"w\") as file:\n",
    "        json.dump(data, file, indent=4, sort_keys=True)\n",
    "\n",
    "\n",
    "# Helper function to display failures \n",
    "def format_sent(x, pred, conf, label=None, meta=None):\n",
    "\n",
    "    predicate_structure = [*zip(pred['words'], pred['preds'])]\n",
    "        \n",
    "    return predicate_structure"
   ]
  },
  {
   "cell_type": "markdown",
   "id": "898bc4db",
   "metadata": {},
   "source": [
    "# Load models\n"
   ]
  },
  {
   "cell_type": "code",
   "execution_count": 15,
   "id": "583e893f",
   "metadata": {},
   "outputs": [
    {
     "name": "stdout",
     "output_type": "stream",
     "text": [
      "Loading xlm-roberta-base...\n",
      "Bert successfully loaded.\n",
      "Loading from data/model_checkpoints/xlm_gn_comb_fine_248/xlm-roberta_e26.pt...\n",
      "Loaded bert\n",
      "Loaded we\n",
      "Loaded rough_scorer\n",
      "Loaded pw\n",
      "Loaded a_scorer\n",
      "Loaded sp\n"
     ]
    }
   ],
   "source": [
    "debiased_model1 = load_model(weights_debiased1)"
   ]
  },
  {
   "cell_type": "code",
   "execution_count": 9,
   "id": "aa3a3803",
   "metadata": {},
   "outputs": [
    {
     "name": "stdout",
     "output_type": "stream",
     "text": [
      "Loading xlm-roberta-base...\n",
      "Bert successfully loaded.\n",
      "Loading from data/model_checkpoints/xlm_gn_comb_fine_2020/xlm-roberta_e25.pt...\n",
      "Loaded bert\n",
      "Loaded we\n",
      "Loaded rough_scorer\n",
      "Loaded pw\n",
      "Loaded a_scorer\n",
      "Loaded sp\n"
     ]
    }
   ],
   "source": [
    "debiased_model2 = load_model(weights_debiased2)"
   ]
  },
  {
   "cell_type": "code",
   "execution_count": 10,
   "id": "1df177bd",
   "metadata": {
    "scrolled": true
   },
   "outputs": [
    {
     "name": "stdout",
     "output_type": "stream",
     "text": [
      "Loading xlm-roberta-base...\n",
      "Bert successfully loaded.\n",
      "Loading from data/model_checkpoints/xlm_gn_comb_fine_2023/xlm-roberta_e23.pt...\n",
      "Loaded bert\n",
      "Loaded we\n",
      "Loaded rough_scorer\n",
      "Loaded pw\n",
      "Loaded a_scorer\n",
      "Loaded sp\n"
     ]
    }
   ],
   "source": [
    "debiased_model3 = load_model(weights_debiased3)"
   ]
  },
  {
   "cell_type": "code",
   "execution_count": 9,
   "id": "562126e6",
   "metadata": {},
   "outputs": [
    {
     "name": "stdout",
     "output_type": "stream",
     "text": [
      "Loading xlm-roberta-base...\n",
      "Bert successfully loaded.\n",
      "Loading from data/model_checkpoints/xlm_gn_comb_fine_123/xlm-roberta_e23.pt...\n",
      "Loaded bert\n",
      "Loaded we\n",
      "Loaded rough_scorer\n",
      "Loaded pw\n",
      "Loaded a_scorer\n",
      "Loaded sp\n"
     ]
    }
   ],
   "source": [
    "debiased_model4 = load_model(weights_debiased4)"
   ]
  },
  {
   "cell_type": "code",
   "execution_count": 10,
   "id": "9b535dac",
   "metadata": {},
   "outputs": [
    {
     "name": "stdout",
     "output_type": "stream",
     "text": [
      "Loading xlm-roberta-base...\n",
      "Bert successfully loaded.\n",
      "Loading from data/model_checkpoints/xlm_gn_comb_fine_1234/xlm-roberta_e23.pt...\n",
      "Loaded bert\n",
      "Loaded we\n",
      "Loaded rough_scorer\n",
      "Loaded pw\n",
      "Loaded a_scorer\n",
      "Loaded sp\n"
     ]
    }
   ],
   "source": [
    "debiased_model5 = load_model(weights_debiased5)"
   ]
  },
  {
   "cell_type": "code",
   "execution_count": 9,
   "id": "702c8caa",
   "metadata": {},
   "outputs": [
    {
     "name": "stdout",
     "output_type": "stream",
     "text": [
      "Loading xlm-roberta-base...\n",
      "Bert successfully loaded.\n",
      "Loading from data/model_checkpoints/xlm_regular_248/xlm-roberta_e18.pt...\n",
      "Loaded bert\n",
      "Loaded we\n",
      "Loaded rough_scorer\n",
      "Loaded pw\n",
      "Loaded a_scorer\n",
      "Loaded sp\n"
     ]
    }
   ],
   "source": [
    "regular_model1 = load_model(weights_regular1)"
   ]
  },
  {
   "cell_type": "code",
   "execution_count": 10,
   "id": "94f1765d",
   "metadata": {},
   "outputs": [
    {
     "name": "stdout",
     "output_type": "stream",
     "text": [
      "Loading xlm-roberta-base...\n",
      "Bert successfully loaded.\n",
      "Loading from data/model_checkpoints/xlm_regular_2020/xlm-roberta_e15.pt...\n",
      "Loaded bert\n",
      "Loaded we\n",
      "Loaded rough_scorer\n",
      "Loaded pw\n",
      "Loaded a_scorer\n",
      "Loaded sp\n"
     ]
    }
   ],
   "source": [
    "regular_model2 = load_model(weights_regular2)"
   ]
  },
  {
   "cell_type": "code",
   "execution_count": 9,
   "id": "df07c150",
   "metadata": {},
   "outputs": [
    {
     "name": "stdout",
     "output_type": "stream",
     "text": [
      "Loading xlm-roberta-base...\n",
      "Bert successfully loaded.\n",
      "Loading from data/model_checkpoints/xlm_regular_2023/xlm-roberta_e17.pt...\n",
      "Loaded bert\n",
      "Loaded we\n",
      "Loaded rough_scorer\n",
      "Loaded pw\n",
      "Loaded a_scorer\n",
      "Loaded sp\n"
     ]
    }
   ],
   "source": [
    "regular_model3 = load_model(weights_regular3)"
   ]
  },
  {
   "cell_type": "code",
   "execution_count": 9,
   "id": "f0b9aa7b",
   "metadata": {},
   "outputs": [
    {
     "name": "stdout",
     "output_type": "stream",
     "text": [
      "Loading xlm-roberta-base...\n",
      "Bert successfully loaded.\n",
      "Loading from data/model_checkpoints/xlm_regular_123/xlm-roberta_e18.pt...\n",
      "Loaded bert\n",
      "Loaded we\n",
      "Loaded rough_scorer\n",
      "Loaded pw\n",
      "Loaded a_scorer\n",
      "Loaded sp\n"
     ]
    }
   ],
   "source": [
    "regular_model4 = load_model(weights_regular4)"
   ]
  },
  {
   "cell_type": "code",
   "execution_count": 10,
   "id": "91759fa5",
   "metadata": {},
   "outputs": [
    {
     "name": "stdout",
     "output_type": "stream",
     "text": [
      "Loading xlm-roberta-base...\n",
      "Bert successfully loaded.\n",
      "Loading from data/model_checkpoints/xlm_regular_1234/xlm-roberta_e15.pt...\n",
      "Loaded bert\n",
      "Loaded we\n",
      "Loaded rough_scorer\n",
      "Loaded pw\n",
      "Loaded a_scorer\n",
      "Loaded sp\n"
     ]
    }
   ],
   "source": [
    "regular_model5 = load_model(weights_regular5)"
   ]
  },
  {
   "cell_type": "code",
   "execution_count": 11,
   "id": "77a8920f",
   "metadata": {},
   "outputs": [],
   "source": [
    "def predict_regular1(data):\n",
    "    return make_pred(regular_model1, [preprocess_sent(d) for d in data])\n",
    "def predict_regular2(data):\n",
    "    return make_pred(regular_model2, [preprocess_sent(d) for d in data])\n",
    "def predict_regular3(data):\n",
    "    return make_pred(regular_model3, [preprocess_sent(d) for d in data])\n",
    "def predict_regular4(data):\n",
    "    return make_pred(regular_model4, [preprocess_sent(d) for d in data])\n",
    "def predict_regular5(data):\n",
    "    return make_pred(regular_model5, [preprocess_sent(d) for d in data])\n",
    "\n",
    "def predict_debiased1(data):\n",
    "    return make_pred(debiased_model1, [preprocess_sent(d) for d in data])\n",
    "def predict_debiased2(data):\n",
    "    return make_pred(debiased_model2, [preprocess_sent(d) for d in data])\n",
    "def predict_debiased3(data):\n",
    "    return make_pred(debiased_model3, [preprocess_sent(d) for d in data])\n",
    "def predict_debiased4(data):\n",
    "    return make_pred(debiased_model4, [preprocess_sent(d) for d in data])\n",
    "def predict_debiased5(data):\n",
    "    return make_pred(debiased_model5, [preprocess_sent(d) for d in data])\n"
   ]
  },
  {
   "cell_type": "code",
   "execution_count": 13,
   "id": "5089982e",
   "metadata": {},
   "outputs": [],
   "source": [
    "predict_regular1 = PredictorWrapper.wrap_predict(predict_regular1)\n",
    "predict_regular2 = PredictorWrapper.wrap_predict(predict_regular2)"
   ]
  },
  {
   "cell_type": "code",
   "execution_count": 11,
   "id": "a806d13b",
   "metadata": {},
   "outputs": [],
   "source": [
    "predict_regular3 = PredictorWrapper.wrap_predict(predict_regular3)"
   ]
  },
  {
   "cell_type": "code",
   "execution_count": 12,
   "id": "011ee783",
   "metadata": {},
   "outputs": [],
   "source": [
    "\n",
    "predict_regular4 = PredictorWrapper.wrap_predict(predict_regular4)\n"
   ]
  },
  {
   "cell_type": "code",
   "execution_count": 13,
   "id": "095a99ff",
   "metadata": {},
   "outputs": [],
   "source": [
    "predict_regular5 = PredictorWrapper.wrap_predict(predict_regular5)"
   ]
  },
  {
   "cell_type": "code",
   "execution_count": 16,
   "id": "1a3ab69f",
   "metadata": {},
   "outputs": [],
   "source": [
    "predict_debiased1 = PredictorWrapper.wrap_predict(predict_debiased1)"
   ]
  },
  {
   "cell_type": "code",
   "execution_count": 12,
   "id": "e7e13ef3",
   "metadata": {},
   "outputs": [],
   "source": [
    "predict_debiased2 = PredictorWrapper.wrap_predict(predict_debiased2)\n",
    "predict_debiased3 = PredictorWrapper.wrap_predict(predict_debiased3)"
   ]
  },
  {
   "cell_type": "code",
   "execution_count": null,
   "id": "5ae23d85",
   "metadata": {},
   "outputs": [],
   "source": [
    "predict_debiased4 = PredictorWrapper.wrap_predict(predict_debiased4)\n",
    "predict_debiased5 = PredictorWrapper.wrap_predict(predict_debiased5)"
   ]
  },
  {
   "cell_type": "markdown",
   "id": "535b0ed7",
   "metadata": {},
   "source": [
    "# Load suite"
   ]
  },
  {
   "cell_type": "code",
   "execution_count": 14,
   "id": "be86f912",
   "metadata": {},
   "outputs": [],
   "source": [
    "suite = TestSuite().from_file('suite.pkl')"
   ]
  },
  {
   "cell_type": "markdown",
   "id": "d7c40460",
   "metadata": {},
   "source": [
    "# Eval regular model, using 5 seeds"
   ]
  },
  {
   "cell_type": "code",
   "execution_count": 23,
   "id": "5c4c4cd7",
   "metadata": {
    "scrolled": true
   },
   "outputs": [
    {
     "name": "stdout",
     "output_type": "stream",
     "text": [
      "Running Name pronoun, gender neutral name, gendered pronouns\n",
      "Predicting 100 examples\n"
     ]
    },
    {
     "name": "stderr",
     "output_type": "stream",
     "text": [
      "100%|██████████| 100/100 [00:02<00:00, 40.26docs/s]\n"
     ]
    },
    {
     "name": "stdout",
     "output_type": "stream",
     "text": [
      "Running Name pronoun, gender neutral name, gender neutral pronouns\n",
      "Predicting 100 examples\n"
     ]
    },
    {
     "name": "stderr",
     "output_type": "stream",
     "text": [
      "100%|██████████| 100/100 [00:02<00:00, 41.30docs/s]\n"
     ]
    },
    {
     "name": "stdout",
     "output_type": "stream",
     "text": [
      "Running Name pronoun, male name, gendered pronouns\n",
      "Predicting 100 examples\n"
     ]
    },
    {
     "name": "stderr",
     "output_type": "stream",
     "text": [
      "100%|██████████| 100/100 [00:02<00:00, 40.51docs/s]\n"
     ]
    },
    {
     "name": "stdout",
     "output_type": "stream",
     "text": [
      "Running Name pronoun, male name, gender neutral pronouns\n",
      "Predicting 100 examples\n"
     ]
    },
    {
     "name": "stderr",
     "output_type": "stream",
     "text": [
      "100%|██████████| 100/100 [00:02<00:00, 41.27docs/s]\n"
     ]
    },
    {
     "name": "stdout",
     "output_type": "stream",
     "text": [
      "Running Name pronoun, female name, gendered pronouns\n",
      "Predicting 100 examples\n"
     ]
    },
    {
     "name": "stderr",
     "output_type": "stream",
     "text": [
      "100%|██████████| 100/100 [00:02<00:00, 40.33docs/s]\n"
     ]
    },
    {
     "name": "stdout",
     "output_type": "stream",
     "text": [
      "Running Name pronoun, female name, gender neutral pronouns\n",
      "Predicting 100 examples\n"
     ]
    },
    {
     "name": "stderr",
     "output_type": "stream",
     "text": [
      "100%|██████████| 100/100 [00:02<00:00, 41.14docs/s]\n"
     ]
    },
    {
     "name": "stdout",
     "output_type": "stream",
     "text": [
      "Running Pronoun pronoun, gendered pronouns\n",
      "Predicting 100 examples\n"
     ]
    },
    {
     "name": "stderr",
     "output_type": "stream",
     "text": [
      "100%|██████████| 100/100 [00:02<00:00, 40.42docs/s]\n"
     ]
    },
    {
     "name": "stdout",
     "output_type": "stream",
     "text": [
      "Running Pronoun pronoun, gender neutral pronouns\n",
      "Predicting 100 examples\n"
     ]
    },
    {
     "name": "stderr",
     "output_type": "stream",
     "text": [
      "100%|██████████| 100/100 [00:02<00:00, 41.92docs/s]\n"
     ]
    },
    {
     "name": "stdout",
     "output_type": "stream",
     "text": [
      "Running Pronoun pronoun, mixed pronouns\n",
      "Predicting 100 examples\n"
     ]
    },
    {
     "name": "stderr",
     "output_type": "stream",
     "text": [
      "100%|██████████| 100/100 [00:02<00:00, 41.23docs/s]\n"
     ]
    },
    {
     "name": "stdout",
     "output_type": "stream",
     "text": [
      "Running Pronoun pronoun name, gendered pronouns\n",
      "Predicting 100 examples\n"
     ]
    },
    {
     "name": "stderr",
     "output_type": "stream",
     "text": [
      "100%|██████████| 100/100 [00:02<00:00, 40.36docs/s]\n"
     ]
    },
    {
     "name": "stdout",
     "output_type": "stream",
     "text": [
      "Running Pronoun pronoun name, gender neutral pronouns\n",
      "Predicting 100 examples\n"
     ]
    },
    {
     "name": "stderr",
     "output_type": "stream",
     "text": [
      "100%|██████████| 100/100 [00:02<00:00, 40.39docs/s]\n"
     ]
    },
    {
     "name": "stdout",
     "output_type": "stream",
     "text": [
      "Running Pronoun pronoun name, mixed pronouns\n",
      "Predicting 100 examples\n"
     ]
    },
    {
     "name": "stderr",
     "output_type": "stream",
     "text": [
      "100%|██████████| 100/100 [00:02<00:00, 40.35docs/s]\n"
     ]
    },
    {
     "name": "stdout",
     "output_type": "stream",
     "text": [
      "Running Hen-hen ambiguity, hen plural, gendered pronouns\n",
      "Predicting 100 examples\n"
     ]
    },
    {
     "name": "stderr",
     "output_type": "stream",
     "text": [
      "100%|██████████| 100/100 [00:02<00:00, 40.36docs/s]\n"
     ]
    },
    {
     "name": "stdout",
     "output_type": "stream",
     "text": [
      "Running Hen-hen ambiguity, hen plural, gender neutral pronouns\n",
      "Predicting 100 examples\n"
     ]
    },
    {
     "name": "stderr",
     "output_type": "stream",
     "text": [
      "100%|██████████| 100/100 [00:02<00:00, 40.31docs/s]\n"
     ]
    },
    {
     "name": "stdout",
     "output_type": "stream",
     "text": [
      "Running Hen-hen ambiguity, hen singular, gendered pronouns\n",
      "Predicting 100 examples\n"
     ]
    },
    {
     "name": "stderr",
     "output_type": "stream",
     "text": [
      "100%|██████████| 100/100 [00:02<00:00, 40.39docs/s]\n"
     ]
    },
    {
     "name": "stdout",
     "output_type": "stream",
     "text": [
      "Running Hen-hen ambiguity, hen singular, gender neutral pronouns\n",
      "Predicting 100 examples\n"
     ]
    },
    {
     "name": "stderr",
     "output_type": "stream",
     "text": [
      "100%|██████████| 100/100 [00:02<00:00, 40.32docs/s]\n"
     ]
    },
    {
     "name": "stdout",
     "output_type": "stream",
     "text": [
      "Running Die-die ambiguity, gendered pronouns\n",
      "Predicting 100 examples\n"
     ]
    },
    {
     "name": "stderr",
     "output_type": "stream",
     "text": [
      "100%|██████████| 100/100 [00:02<00:00, 40.41docs/s]\n"
     ]
    },
    {
     "name": "stdout",
     "output_type": "stream",
     "text": [
      "Running Die-die ambiguity, gender neutral pronouns\n",
      "Predicting 100 examples\n"
     ]
    },
    {
     "name": "stderr",
     "output_type": "stream",
     "text": [
      "100%|██████████| 100/100 [00:02<00:00, 40.46docs/s]\n"
     ]
    }
   ],
   "source": [
    "suite.run(predict_regular1, overwrite=True)"
   ]
  },
  {
   "cell_type": "code",
   "execution_count": 24,
   "id": "d14f09fd",
   "metadata": {
    "scrolled": true
   },
   "outputs": [
    {
     "name": "stdout",
     "output_type": "stream",
     "text": [
      "pronoun-pronoun\n",
      "\n",
      "Pronoun pronoun, gendered pronouns\n",
      "Test cases:      100\n",
      "Fails (rate):    0 (0.0%)\n",
      "\n",
      "\n",
      "Pronoun pronoun, gender neutral pronouns\n",
      "Test cases:      100\n",
      "Fails (rate):    44 (44.0%)\n",
      "\n",
      "Example fails:\n",
      "[('hen', '-'), ('gaat', '-'), ('naar', '-'), ('diens', '-'), ('dokter.', '-')]\n",
      "----\n",
      "[('die', '-'), ('gaat', '-'), ('naar', '-'), ('diens', '-'), ('werk.', '-')]\n",
      "----\n",
      "[('die', '-'), ('gaat', '-'), ('naar', '-'), ('diens', '-'), ('afspraak.', '-')]\n",
      "----\n",
      "\n",
      "\n",
      "Pronoun pronoun, mixed pronouns\n",
      "Test cases:      100\n",
      "Fails (rate):    23 (23.0%)\n",
      "\n",
      "Example fails:\n",
      "[('hij', '-'), ('gaat', '-'), ('naar', '-'), ('hun', '-'), ('dokter.', '-')]\n",
      "----\n",
      "[('die', '-'), ('gaat', '-'), ('naar', '-'), ('diens', '-'), ('werk.', '-')]\n",
      "----\n",
      "[('hij', '-'), ('gaat', '-'), ('naar', '-'), ('diens', '-'), ('interview.', '-')]\n",
      "----\n",
      "\n",
      "\n",
      "\n",
      "\n",
      "die-die-amb\n",
      "\n",
      "Die-die ambiguity, gendered pronouns\n",
      "Test cases:      100\n",
      "Fails (rate):    0 (0.0%)\n",
      "\n",
      "\n",
      "Die-die ambiguity, gender neutral pronouns\n",
      "Test cases:      100\n",
      "Fails (rate):    3 (3.0%)\n",
      "\n",
      "Example fails:\n",
      "[('Haven', '-'), ('die', '-'), ('hier', '-'), ('net', '-'), ('werkt', '-'), ('is', '-'), ('te', '-'), ('laat', '-'), ('omdat', '-'), ('die', '-'), ('een', '-'), ('lekke', '-'), ('band', '-'), ('had', '-'), ('.', '-')]\n",
      "----\n",
      "[('Ihme', '-'), ('die', '-'), ('hier', '-'), ('net', '-'), ('werkt', '-'), ('is', '-'), ('te', '-'), ('laat', '-'), ('omdat', '-'), ('die', '-'), ('een', '-'), ('lekke', '-'), ('band', '-'), ('had', '-'), ('.', '-')]\n",
      "----\n",
      "[('Haven', '-'), ('die', '-'), ('hier', '-'), ('net', '-'), ('werkt', '-'), ('is', '-'), ('te', '-'), ('laat', '-'), ('omdat', '-'), ('die', '-'), ('een', '-'), ('lekke', '-'), ('band', '-'), ('had', '-'), ('.', '-')]\n",
      "----\n",
      "\n",
      "\n",
      "\n",
      "\n",
      "Name pronoun link\n",
      "\n",
      "Name pronoun, gender neutral name, gendered pronouns\n",
      "Test cases:      100\n",
      "Fails (rate):    1 (1.0%)\n",
      "\n",
      "Example fails:\n",
      "[('London', '-'), ('gaat', '-'), ('naar', '-'), ('zijn', '-'), ('interview.', '-')]\n",
      "----\n",
      "\n",
      "\n",
      "Name pronoun, gender neutral name, gender neutral pronouns\n",
      "Test cases:      100\n",
      "Fails (rate):    27 (27.0%)\n",
      "\n",
      "Example fails:\n",
      "[('Jayden', '-'), ('gaat', '-'), ('naar', '-'), ('diens', '-'), ('dokter.', '-')]\n",
      "----\n",
      "[('Sam', '-'), ('gaat', '-'), ('naar', '-'), ('hun', '-'), ('dokter.', '-')]\n",
      "----\n",
      "[('Zilver', '-'), ('gaat', '-'), ('naar', '-'), ('diens', '-'), ('afspraak.', '-')]\n",
      "----\n",
      "\n",
      "\n",
      "Name pronoun, male name, gendered pronouns\n",
      "Test cases:      100\n",
      "Fails (rate):    2 (2.0%)\n",
      "\n",
      "Example fails:\n",
      "[('Bart', '-'), ('gaat', '-'), ('naar', '-'), ('haar', '-'), ('afspraak.', '-')]\n",
      "----\n",
      "[('Bart', '-'), ('gaat', '-'), ('naar', '-'), ('haar', '-'), ('afspraak.', '-')]\n",
      "----\n",
      "\n",
      "\n",
      "Name pronoun, male name, gender neutral pronouns\n",
      "Test cases:      100\n",
      "Fails (rate):    32 (32.0%)\n",
      "\n",
      "Example fails:\n",
      "[('Marcel', '-'), ('gaat', '-'), ('naar', '-'), ('hun', '-'), ('afspraak.', '-')]\n",
      "----\n",
      "[('Adrianus', '-'), ('gaat', '-'), ('naar', '-'), ('diens', '-'), ('interview.', '-')]\n",
      "----\n",
      "[('Bob', '-'), ('gaat', '-'), ('naar', '-'), ('diens', '-'), ('afspraak.', '-')]\n",
      "----\n",
      "\n",
      "\n",
      "Name pronoun, female name, gendered pronouns\n",
      "Test cases:      100\n",
      "Fails (rate):    0 (0.0%)\n",
      "\n",
      "\n",
      "Name pronoun, female name, gender neutral pronouns\n",
      "Test cases:      100\n",
      "Fails (rate):    21 (21.0%)\n",
      "\n",
      "Example fails:\n",
      "[('Ineke', '-'), ('gaat', '-'), ('naar', '-'), ('diens', '-'), ('dokter.', '-')]\n",
      "----\n",
      "[('Tessa', '-'), ('gaat', '-'), ('naar', '-'), ('diens', '-'), ('afspraak.', '-')]\n",
      "----\n",
      "[('Helena', '-'), ('gaat', '-'), ('naar', '-'), ('diens', '-'), ('dokter.', '-')]\n",
      "----\n",
      "\n",
      "\n",
      "\n",
      "\n",
      "hen-hen-amb\n",
      "\n",
      "Hen-hen ambiguity, hen plural, gendered pronouns\n",
      "Test cases:      100\n",
      "Fails (rate):    1 (1.0%)\n",
      "\n",
      "Example fails:\n",
      "[('Jos', '-'), ('gaat', '-'), ('met', '-'), ('het', '-'), ('softbalteam', '(0)'), ('op', '-'), ('vakantie.', '-'), ('hij', '(0)'), ('is', '-'), ('al', '-'), ('vaker', '-'), ('met', '-'), ('hen', '(0)'), ('weggeweest.', '-')]\n",
      "----\n",
      "\n",
      "\n",
      "Hen-hen ambiguity, hen plural, gender neutral pronouns\n",
      "Test cases:      100\n",
      "Fails (rate):    86 (86.0%)\n",
      "\n",
      "Example fails:\n",
      "[('Zilver', '-'), ('gaat', '-'), ('met', '-'), ('het', '-'), ('hockeyteam', '(0)'), ('op', '-'), ('vakantie.', '-'), ('hen', '(0)'), ('is', '-'), ('al', '-'), ('vaker', '-'), ('met', '-'), ('hen', '(0)'), ('weggeweest.', '-')]\n",
      "----\n",
      "[('Jackie', '(0)'), ('gaat', '-'), ('met', '-'), ('het', '-'), ('volleybalteam', '-'), ('op', '-'), ('vakantie.', '-'), ('hen', '(0)'), ('is', '-'), ('al', '-'), ('vaker', '-'), ('met', '-'), ('hen', '(0)'), ('weggeweest.', '-')]\n",
      "----\n",
      "[('Billie', '-'), ('gaat', '-'), ('met', '-'), ('het', '-'), ('basketbalteam', '(0)'), ('op', '-'), ('vakantie.', '-'), ('hen', '(0)'), ('is', '-'), ('al', '-'), ('vaker', '-'), ('met', '-'), ('hen', '(0)'), ('weggeweest.', '-')]\n",
      "----\n",
      "\n",
      "\n",
      "Hen-hen ambiguity, hen singular, gendered pronouns\n",
      "Test cases:      100\n",
      "Fails (rate):    57 (57.0%)\n",
      "\n",
      "Example fails:\n",
      "[('Riv', '(0)'), ('gaat', '-'), ('met', '-'), ('het', '-'), ('hockeyteam', '-'), ('op', '-'), ('vakantie.', '-'), ('Zij', '(0)'), ('zijn', '-'), ('al', '-'), ('vaker', '-'), ('met', '-'), ('haar', '(0)'), ('weggeweest', '-'), ('.', '-')]\n",
      "----\n",
      "[('Jayden', '(0)'), ('gaat', '-'), ('met', '-'), ('het', '-'), ('honkbalteam', '-'), ('op', '-'), ('vakantie.', '-'), ('Zij', '(0)'), ('zijn', '-'), ('al', '-'), ('vaker', '-'), ('met', '-'), ('haar', '(0)'), ('weggeweest', '-'), ('.', '-')]\n",
      "----\n",
      "[('Pascal', '(0)'), ('gaat', '-'), ('met', '-'), ('het', '-'), ('basketbalteam', '-'), ('op', '-'), ('vakantie.', '-'), ('Zij', '(0)'), ('zijn', '-'), ('al', '-'), ('vaker', '-'), ('met', '-'), ('haar', '(0)'), ('weggeweest', '-'), ('.', '-')]\n",
      "----\n",
      "\n",
      "\n",
      "Hen-hen ambiguity, hen singular, gender neutral pronouns\n",
      "Test cases:      100\n",
      "Fails (rate):    100 (100.0%)\n",
      "\n",
      "Example fails:\n",
      "[('René', '-'), ('gaat', '-'), ('met', '-'), ('het', '-'), ('basketbalteam', '(0)'), ('op', '-'), ('vakantie.', '-'), ('Zij', '(0)'), ('zijn', '-'), ('al', '-'), ('vaker', '-'), ('met', '-'), ('hen', '(0)'), ('weggeweest', '-'), ('.', '-')]\n",
      "----\n",
      "[('Charlie', '-'), ('gaat', '-'), ('met', '-'), ('het', '-'), ('honkbalteam', '(0)'), ('op', '-'), ('vakantie.', '-'), ('Zij', '(0)'), ('zijn', '-'), ('al', '-'), ('vaker', '-'), ('met', '-'), ('hen', '(0)'), ('weggeweest', '-'), ('.', '-')]\n",
      "----\n",
      "[('Camille', '-'), ('gaat', '-'), ('met', '-'), ('het', '-'), ('volleybalteam', '(0)'), ('op', '-'), ('vakantie.', '-'), ('Zij', '(0)'), ('zijn', '-'), ('al', '-'), ('vaker', '-'), ('met', '-'), ('hen', '(0)'), ('weggeweest', '-'), ('.', '-')]\n",
      "----\n",
      "\n",
      "\n",
      "\n",
      "\n",
      "pronoun-pronoun-name\n",
      "\n",
      "Pronoun pronoun name, gendered pronouns\n",
      "Test cases:      100\n",
      "Fails (rate):    0 (0.0%)\n",
      "\n",
      "\n",
      "Pronoun pronoun name, gender neutral pronouns\n",
      "Test cases:      100\n",
      "Fails (rate):    13 (13.0%)\n",
      "\n",
      "Example fails:\n",
      "[('Jazz', '(0)'), ('heeft', '-'), ('diens', '(0)'), ('afspraak', '-'), ('bij', '-'), ('de', '-'), ('huisartsenpost', '(1)'), ('om', '-'), ('3', '-'), ('uur.', '-'), ('die', '(1)'), ('gaat', '-'), ('zo', '-'), ('heen.', '-')]\n",
      "----\n",
      "[('Dominique', '(0)'), ('heeft', '-'), ('diens', '-'), ('afspraak', '-'), ('bij', '-'), ('de', '-'), ('sportschool', '-'), ('om', '-'), ('3', '-'), ('uur.', '-'), ('die', '(0)'), ('gaat', '-'), ('zo', '-'), ('heen.', '-')]\n",
      "----\n",
      "[('Micha', '(0)'), ('heeft', '-'), ('diens', '-'), ('afspraak', '-'), ('bij', '-'), ('de', '-'), ('buren', '-'), ('om', '-'), ('3', '-'), ('uur.', '-'), ('die', '(0)'), ('gaat', '-'), ('zo', '-'), ('heen.', '-')]\n",
      "----\n",
      "\n",
      "\n",
      "Pronoun pronoun name, mixed pronouns\n",
      "Test cases:      100\n",
      "Fails (rate):    8 (8.0%)\n",
      "\n",
      "Example fails:\n",
      "[('Nova', '(0)'), ('heeft', '-'), ('zijn', '(0)'), ('afspraak', '-'), ('bij', '-'), ('de', '-'), ('buren', '(1)'), ('om', '-'), ('3', '-'), ('uur.', '-'), ('hen', '(1)'), ('gaat', '-'), ('zo', '-'), ('heen.', '-')]\n",
      "----\n",
      "[('Harper', '(0)'), ('heeft', '-'), ('diens', '(0)'), ('afspraak', '-'), ('bij', '-'), ('de', '-'), ('huisartsenpost', '-'), ('om', '-'), ('3', '-'), ('uur.', '-'), ('die', '-'), ('gaat', '-'), ('zo', '-'), ('heen.', '-')]\n",
      "----\n",
      "[('Bo', '(0)'), ('heeft', '-'), ('diens', '(0)'), ('afspraak', '-'), ('bij', '-'), ('de', '-'), ('buren', '(1)'), ('om', '-'), ('3', '-'), ('uur.', '-'), ('hen', '(1)'), ('gaat', '-'), ('zo', '-'), ('heen.', '-')]\n",
      "----\n",
      "\n",
      "\n",
      "\n",
      "\n"
     ]
    }
   ],
   "source": [
    "suite.summary(format_example_fn = format_sent)"
   ]
  },
  {
   "cell_type": "code",
   "execution_count": 17,
   "id": "c26ed80c",
   "metadata": {
    "scrolled": true
   },
   "outputs": [
    {
     "name": "stdout",
     "output_type": "stream",
     "text": [
      "Running Name pronoun, gender neutral name, gendered pronouns\n",
      "Predicting 100 examples\n"
     ]
    },
    {
     "name": "stderr",
     "output_type": "stream",
     "text": [
      "100%|██████████| 100/100 [00:02<00:00, 40.08docs/s]\n"
     ]
    },
    {
     "name": "stdout",
     "output_type": "stream",
     "text": [
      "Running Name pronoun, gender neutral name, gender neutral pronouns\n",
      "Predicting 100 examples\n"
     ]
    },
    {
     "name": "stderr",
     "output_type": "stream",
     "text": [
      "100%|██████████| 100/100 [00:02<00:00, 41.39docs/s]\n"
     ]
    },
    {
     "name": "stdout",
     "output_type": "stream",
     "text": [
      "Running Name pronoun, male name, gendered pronouns\n",
      "Predicting 100 examples\n"
     ]
    },
    {
     "name": "stderr",
     "output_type": "stream",
     "text": [
      "100%|██████████| 100/100 [00:02<00:00, 40.42docs/s]\n"
     ]
    },
    {
     "name": "stdout",
     "output_type": "stream",
     "text": [
      "Running Name pronoun, male name, gender neutral pronouns\n",
      "Predicting 100 examples\n"
     ]
    },
    {
     "name": "stderr",
     "output_type": "stream",
     "text": [
      "100%|██████████| 100/100 [00:02<00:00, 41.91docs/s]\n"
     ]
    },
    {
     "name": "stdout",
     "output_type": "stream",
     "text": [
      "Running Name pronoun, female name, gendered pronouns\n",
      "Predicting 100 examples\n"
     ]
    },
    {
     "name": "stderr",
     "output_type": "stream",
     "text": [
      "100%|██████████| 100/100 [00:02<00:00, 40.53docs/s]\n"
     ]
    },
    {
     "name": "stdout",
     "output_type": "stream",
     "text": [
      "Running Name pronoun, female name, gender neutral pronouns\n",
      "Predicting 100 examples\n"
     ]
    },
    {
     "name": "stderr",
     "output_type": "stream",
     "text": [
      "100%|██████████| 100/100 [00:02<00:00, 41.35docs/s]\n"
     ]
    },
    {
     "name": "stdout",
     "output_type": "stream",
     "text": [
      "Running Pronoun pronoun, gendered pronouns\n",
      "Predicting 100 examples\n"
     ]
    },
    {
     "name": "stderr",
     "output_type": "stream",
     "text": [
      "100%|██████████| 100/100 [00:02<00:00, 40.73docs/s]\n"
     ]
    },
    {
     "name": "stdout",
     "output_type": "stream",
     "text": [
      "Running Pronoun pronoun, gender neutral pronouns\n",
      "Predicting 100 examples\n"
     ]
    },
    {
     "name": "stderr",
     "output_type": "stream",
     "text": [
      "100%|██████████| 100/100 [00:02<00:00, 42.75docs/s]\n"
     ]
    },
    {
     "name": "stdout",
     "output_type": "stream",
     "text": [
      "Running Pronoun pronoun, mixed pronouns\n",
      "Predicting 100 examples\n"
     ]
    },
    {
     "name": "stderr",
     "output_type": "stream",
     "text": [
      "100%|██████████| 100/100 [00:02<00:00, 41.82docs/s]\n"
     ]
    },
    {
     "name": "stdout",
     "output_type": "stream",
     "text": [
      "Running Pronoun pronoun name, gendered pronouns\n",
      "Predicting 100 examples\n"
     ]
    },
    {
     "name": "stderr",
     "output_type": "stream",
     "text": [
      "100%|██████████| 100/100 [00:02<00:00, 40.13docs/s]\n"
     ]
    },
    {
     "name": "stdout",
     "output_type": "stream",
     "text": [
      "Running Pronoun pronoun name, gender neutral pronouns\n",
      "Predicting 100 examples\n"
     ]
    },
    {
     "name": "stderr",
     "output_type": "stream",
     "text": [
      "100%|██████████| 100/100 [00:02<00:00, 40.66docs/s]\n"
     ]
    },
    {
     "name": "stdout",
     "output_type": "stream",
     "text": [
      "Running Pronoun pronoun name, mixed pronouns\n",
      "Predicting 100 examples\n"
     ]
    },
    {
     "name": "stderr",
     "output_type": "stream",
     "text": [
      "100%|██████████| 100/100 [00:02<00:00, 40.47docs/s]\n"
     ]
    },
    {
     "name": "stdout",
     "output_type": "stream",
     "text": [
      "Running Hen-hen ambiguity, hen plural, gendered pronouns\n",
      "Predicting 100 examples\n"
     ]
    },
    {
     "name": "stderr",
     "output_type": "stream",
     "text": [
      "100%|██████████| 100/100 [00:02<00:00, 40.30docs/s]\n"
     ]
    },
    {
     "name": "stdout",
     "output_type": "stream",
     "text": [
      "Running Hen-hen ambiguity, hen plural, gender neutral pronouns\n",
      "Predicting 100 examples\n"
     ]
    },
    {
     "name": "stderr",
     "output_type": "stream",
     "text": [
      "100%|██████████| 100/100 [00:02<00:00, 40.32docs/s]\n"
     ]
    },
    {
     "name": "stdout",
     "output_type": "stream",
     "text": [
      "Running Hen-hen ambiguity, hen singular, gendered pronouns\n",
      "Predicting 100 examples\n"
     ]
    },
    {
     "name": "stderr",
     "output_type": "stream",
     "text": [
      "100%|██████████| 100/100 [00:02<00:00, 40.28docs/s]\n"
     ]
    },
    {
     "name": "stdout",
     "output_type": "stream",
     "text": [
      "Running Hen-hen ambiguity, hen singular, gender neutral pronouns\n",
      "Predicting 100 examples\n"
     ]
    },
    {
     "name": "stderr",
     "output_type": "stream",
     "text": [
      "100%|██████████| 100/100 [00:02<00:00, 40.30docs/s]\n"
     ]
    },
    {
     "name": "stdout",
     "output_type": "stream",
     "text": [
      "Running Die-die ambiguity, gendered pronouns\n",
      "Predicting 100 examples\n"
     ]
    },
    {
     "name": "stderr",
     "output_type": "stream",
     "text": [
      "100%|██████████| 100/100 [00:02<00:00, 40.56docs/s]\n"
     ]
    },
    {
     "name": "stdout",
     "output_type": "stream",
     "text": [
      "Running Die-die ambiguity, gender neutral pronouns\n",
      "Predicting 100 examples\n"
     ]
    },
    {
     "name": "stderr",
     "output_type": "stream",
     "text": [
      "100%|██████████| 100/100 [00:02<00:00, 40.96docs/s]\n"
     ]
    }
   ],
   "source": [
    "suite.run(predict_regular2, overwrite=True)"
   ]
  },
  {
   "cell_type": "code",
   "execution_count": 18,
   "id": "cf48bf6a",
   "metadata": {
    "scrolled": true
   },
   "outputs": [
    {
     "name": "stdout",
     "output_type": "stream",
     "text": [
      "pronoun-pronoun\n",
      "\n",
      "Pronoun pronoun, gendered pronouns\n",
      "Test cases:      100\n",
      "Fails (rate):    8 (8.0%)\n",
      "\n",
      "Example fails:\n",
      "[('hij', '-'), ('gaat', '-'), ('naar', '-'), ('haar', '-'), ('interview.', '-')]\n",
      "----\n",
      "[('zij', '-'), ('gaat', '-'), ('naar', '-'), ('zijn', '-'), ('interview.', '-')]\n",
      "----\n",
      "[('zij', '-'), ('gaat', '-'), ('naar', '-'), ('zijn', '-'), ('ouders.', '-')]\n",
      "----\n",
      "\n",
      "\n",
      "Pronoun pronoun, gender neutral pronouns\n",
      "Test cases:      100\n",
      "Fails (rate):    65 (65.0%)\n",
      "\n",
      "Example fails:\n",
      "[('hen', '-'), ('gaat', '-'), ('naar', '-'), ('diens', '-'), ('buren.', '-')]\n",
      "----\n",
      "[('die', '-'), ('gaat', '-'), ('naar', '-'), ('diens', '-'), ('dokter.', '-')]\n",
      "----\n",
      "[('hen', '-'), ('gaat', '-'), ('naar', '-'), ('diens', '-'), ('dokter.', '-')]\n",
      "----\n",
      "\n",
      "\n",
      "Pronoun pronoun, mixed pronouns\n",
      "Test cases:      100\n",
      "Fails (rate):    40 (40.0%)\n",
      "\n",
      "Example fails:\n",
      "[('hen', '-'), ('gaat', '-'), ('naar', '-'), ('diens', '-'), ('werk.', '-')]\n",
      "----\n",
      "[('die', '-'), ('gaat', '-'), ('naar', '-'), ('diens', '-'), ('werk.', '-')]\n",
      "----\n",
      "[('hij', '-'), ('gaat', '-'), ('naar', '-'), ('hun', '-'), ('werk.', '-')]\n",
      "----\n",
      "\n",
      "\n",
      "\n",
      "\n",
      "die-die-amb\n",
      "\n",
      "Die-die ambiguity, gendered pronouns\n",
      "Test cases:      100\n",
      "Fails (rate):    7 (7.0%)\n",
      "\n",
      "Example fails:\n",
      "[('Charly', '-'), ('die', '-'), ('hier', '-'), ('net', '-'), ('werkt', '-'), ('is', '-'), ('te', '-'), ('laat', '-'), ('omdat', '-'), ('hij', '-'), ('een', '-'), ('lekke', '-'), ('band', '-'), ('had', '-'), ('.', '-')]\n",
      "----\n",
      "[('Haven', '-'), ('die', '-'), ('hier', '-'), ('net', '-'), ('werkt', '-'), ('is', '-'), ('te', '-'), ('laat', '-'), ('omdat', '-'), ('zij', '-'), ('een', '-'), ('lekke', '-'), ('band', '-'), ('had', '-'), ('.', '-')]\n",
      "----\n",
      "[('Arbor', '-'), ('die', '-'), ('hier', '-'), ('net', '-'), ('werkt', '-'), ('is', '-'), ('te', '-'), ('laat', '-'), ('omdat', '-'), ('zij', '-'), ('een', '-'), ('lekke', '-'), ('band', '-'), ('had', '-'), ('.', '-')]\n",
      "----\n",
      "\n",
      "\n",
      "Die-die ambiguity, gender neutral pronouns\n",
      "Test cases:      100\n",
      "Fails (rate):    19 (19.0%)\n",
      "\n",
      "Example fails:\n",
      "[('Noa', '-'), ('die', '-'), ('hier', '-'), ('net', '-'), ('werkt', '-'), ('is', '-'), ('te', '-'), ('laat', '-'), ('omdat', '-'), ('die', '-'), ('een', '-'), ('lekke', '-'), ('band', '-'), ('had', '-'), ('.', '-')]\n",
      "----\n",
      "[('Jip', '-'), ('die', '-'), ('hier', '-'), ('net', '-'), ('werkt', '-'), ('is', '-'), ('te', '-'), ('laat', '-'), ('omdat', '-'), ('die', '-'), ('een', '-'), ('lekke', '-'), ('band', '-'), ('had', '-'), ('.', '-')]\n",
      "----\n",
      "[('Noé', '-'), ('die', '-'), ('hier', '-'), ('net', '-'), ('werkt', '-'), ('is', '-'), ('te', '-'), ('laat', '-'), ('omdat', '-'), ('die', '-'), ('een', '-'), ('lekke', '-'), ('band', '-'), ('had', '-'), ('.', '-')]\n",
      "----\n",
      "\n",
      "\n",
      "\n",
      "\n",
      "Name pronoun link\n",
      "\n",
      "Name pronoun, gender neutral name, gendered pronouns\n",
      "Test cases:      100\n",
      "Fails (rate):    0 (0.0%)\n",
      "\n",
      "\n",
      "Name pronoun, gender neutral name, gender neutral pronouns\n",
      "Test cases:      100\n",
      "Fails (rate):    29 (29.0%)\n",
      "\n",
      "Example fails:\n",
      "[('Charly', '-'), ('gaat', '-'), ('naar', '-'), ('diens', '-'), ('dokter.', '-')]\n",
      "----\n",
      "[('Bailey', '-'), ('gaat', '-'), ('naar', '-'), ('diens', '-'), ('interview.', '-')]\n",
      "----\n",
      "[('Phoenix', '-'), ('gaat', '-'), ('naar', '-'), ('diens', '-'), ('buren.', '-')]\n",
      "----\n",
      "\n",
      "\n",
      "Name pronoun, male name, gendered pronouns\n",
      "Test cases:      100\n",
      "Fails (rate):    0 (0.0%)\n",
      "\n",
      "\n",
      "Name pronoun, male name, gender neutral pronouns\n",
      "Test cases:      100\n",
      "Fails (rate):    43 (43.0%)\n",
      "\n",
      "Example fails:\n",
      "[('Peter', '-'), ('gaat', '-'), ('naar', '-'), ('diens', '-'), ('buren.', '-')]\n",
      "----\n",
      "[('Ton', '-'), ('gaat', '-'), ('naar', '-'), ('diens', '-'), ('dokter.', '-')]\n",
      "----\n",
      "[('Petrus', '-'), ('gaat', '-'), ('naar', '-'), ('diens', '-'), ('afspraak.', '-')]\n",
      "----\n",
      "\n",
      "\n",
      "Name pronoun, female name, gendered pronouns\n",
      "Test cases:      100\n",
      "Fails (rate):    1 (1.0%)\n",
      "\n",
      "Example fails:\n",
      "[('Jeanne', '-'), ('gaat', '-'), ('naar', '-'), ('zijn', '-'), ('interview.', '-')]\n",
      "----\n",
      "\n",
      "\n",
      "Name pronoun, female name, gender neutral pronouns\n",
      "Test cases:      100\n",
      "Fails (rate):    30 (30.0%)\n",
      "\n",
      "Example fails:\n",
      "[('Louise', '-'), ('gaat', '-'), ('naar', '-'), ('diens', '-'), ('interview.', '-')]\n",
      "----\n",
      "[('Annie', '-'), ('gaat', '-'), ('naar', '-'), ('diens', '-'), ('interview.', '-')]\n",
      "----\n",
      "[('Nina', '-'), ('gaat', '-'), ('naar', '-'), ('diens', '-'), ('dokter.', '-')]\n",
      "----\n",
      "\n",
      "\n",
      "\n",
      "\n",
      "hen-hen-amb\n",
      "\n",
      "Hen-hen ambiguity, hen plural, gendered pronouns\n",
      "Test cases:      100\n",
      "Fails (rate):    0 (0.0%)\n",
      "\n",
      "\n",
      "Hen-hen ambiguity, hen plural, gender neutral pronouns\n",
      "Test cases:      100\n",
      "Fails (rate):    54 (54.0%)\n",
      "\n",
      "Example fails:\n",
      "[('Bo', '-'), ('gaat', '-'), ('met', '-'), ('het', '-'), ('honkbalteam', '(0)'), ('op', '-'), ('vakantie.', '-'), ('hen', '(0)'), ('is', '-'), ('al', '-'), ('vaker', '-'), ('met', '-'), ('hen', '(0)'), ('weggeweest.', '-')]\n",
      "----\n",
      "[('Eden', '(0)'), ('gaat', '-'), ('met', '-'), ('het', '-'), ('handbalteam', '-'), ('op', '-'), ('vakantie.', '-'), ('hen', '(0)'), ('is', '-'), ('al', '-'), ('vaker', '-'), ('met', '-'), ('hen', '(0)'), ('weggeweest.', '-')]\n",
      "----\n",
      "[('René', '-'), ('gaat', '-'), ('met', '-'), ('het', '-'), ('basketbalteam', '(0)'), ('op', '-'), ('vakantie.', '-'), ('hen', '(0)'), ('is', '-'), ('al', '-'), ('vaker', '-'), ('met', '-'), ('hen', '(0)'), ('weggeweest.', '-')]\n",
      "----\n",
      "\n",
      "\n",
      "Hen-hen ambiguity, hen singular, gendered pronouns\n",
      "Test cases:      100\n",
      "Fails (rate):    56 (56.0%)\n",
      "\n",
      "Example fails:\n",
      "[('Parker', '(0)'), ('gaat', '-'), ('met', '-'), ('het', '-'), ('softbalteam', '-'), ('op', '-'), ('vakantie.', '-'), ('Zij', '-'), ('zijn', '-'), ('al', '-'), ('vaker', '-'), ('met', '-'), ('hem', '(0)'), ('weggeweest', '-'), ('.', '-')]\n",
      "----\n",
      "[('Sydney', '(0)'), ('gaat', '-'), ('met', '-'), ('het', '-'), ('softbalteam', '-'), ('op', '-'), ('vakantie.', '-'), ('Zij', '-'), ('zijn', '-'), ('al', '-'), ('vaker', '-'), ('met', '-'), ('hem', '(0)'), ('weggeweest', '-'), ('.', '-')]\n",
      "----\n",
      "[('Sydney', '(0)'), ('gaat', '-'), ('met', '-'), ('het', '-'), ('softbalteam', '-'), ('op', '-'), ('vakantie.', '-'), ('Zij', '-'), ('zijn', '-'), ('al', '-'), ('vaker', '-'), ('met', '-'), ('haar', '(0)'), ('weggeweest', '-'), ('.', '-')]\n",
      "----\n",
      "\n",
      "\n",
      "Hen-hen ambiguity, hen singular, gender neutral pronouns\n",
      "Test cases:      100\n",
      "Fails (rate):    100 (100.0%)\n",
      "\n",
      "Example fails:\n",
      "[('Rho', '-'), ('gaat', '-'), ('met', '-'), ('het', '-'), ('handbalteam', '(0)'), ('op', '-'), ('vakantie.', '-'), ('Zij', '(0)'), ('zijn', '-'), ('al', '-'), ('vaker', '-'), ('met', '-'), ('hen', '(0)'), ('weggeweest', '-'), ('.', '-')]\n",
      "----\n",
      "[('Sasha', '-'), ('gaat', '-'), ('met', '-'), ('het', '-'), ('basketbalteam', '(0)'), ('op', '-'), ('vakantie.', '-'), ('Zij', '(0)'), ('zijn', '-'), ('al', '-'), ('vaker', '-'), ('met', '-'), ('hen', '(0)'), ('weggeweest', '-'), ('.', '-')]\n",
      "----\n",
      "[('Renée', '-'), ('gaat', '-'), ('met', '-'), ('het', '-'), ('volleybalteam', '(0)'), ('op', '-'), ('vakantie.', '-'), ('Zij', '(0)'), ('zijn', '-'), ('al', '-'), ('vaker', '-'), ('met', '-'), ('hen', '(0)'), ('weggeweest', '-'), ('.', '-')]\n",
      "----\n",
      "\n",
      "\n",
      "\n",
      "\n",
      "pronoun-pronoun-name\n",
      "\n",
      "Pronoun pronoun name, gendered pronouns\n",
      "Test cases:      100\n",
      "Fails (rate):    0 (0.0%)\n",
      "\n",
      "\n",
      "Pronoun pronoun name, gender neutral pronouns\n",
      "Test cases:      100\n",
      "Fails (rate):    50 (50.0%)\n",
      "\n",
      "Example fails:\n",
      "[('Haven', '(0)'), ('heeft', '-'), ('hun', '(0)'), ('afspraak', '-'), ('bij', '-'), ('de', '-'), ('dokters', '-'), ('om', '-'), ('3', '-'), ('uur.', '-'), ('hen', '-'), ('gaat', '-'), ('zo', '-'), ('heen.', '-')]\n",
      "----\n",
      "[('Noé', '(0)'), ('heeft', '-'), ('diens', '(0)'), ('afspraak', '-'), ('bij', '-'), ('de', '-'), ('gemeente', '-'), ('om', '-'), ('3', '-'), ('uur.', '-'), ('hen', '-'), ('gaat', '-'), ('zo', '-'), ('heen.', '-')]\n",
      "----\n",
      "[('Marijn', '(0)'), ('heeft', '-'), ('diens', '-'), ('afspraak', '-'), ('bij', '-'), ('de', '-'), ('dokters', '-'), ('om', '-'), ('3', '-'), ('uur.', '-'), ('die', '(0)'), ('gaat', '-'), ('zo', '-'), ('heen.', '-')]\n",
      "----\n",
      "\n",
      "\n",
      "Pronoun pronoun name, mixed pronouns\n",
      "Test cases:      100\n",
      "Fails (rate):    33 (33.0%)\n",
      "\n",
      "Example fails:\n",
      "[('Rho', '(0)'), ('heeft', '-'), ('diens', '-'), ('afspraak', '-'), ('bij', '-'), ('de', '-'), ('buren', '-'), ('om', '-'), ('3', '-'), ('uur.', '-'), ('hij', '(0)'), ('gaat', '-'), ('zo', '-'), ('heen.', '-')]\n",
      "----\n",
      "[('Moss', '(0)'), ('heeft', '-'), ('diens', '-'), ('afspraak', '-'), ('bij', '-'), ('de', '-'), ('buren', '-'), ('om', '-'), ('3', '-'), ('uur.', '-'), ('die', '(0)'), ('gaat', '-'), ('zo', '-'), ('heen.', '-')]\n",
      "----\n",
      "[('Parker', '-'), ('heeft', '-'), ('hun', '-'), ('afspraak', '-'), ('bij', '-'), ('de', '-'), ('sportschool', '-'), ('om', '-'), ('3', '-'), ('uur.', '-'), ('hen', '-'), ('gaat', '-'), ('zo', '-'), ('heen.', '-')]\n",
      "----\n",
      "\n",
      "\n",
      "\n",
      "\n"
     ]
    }
   ],
   "source": [
    "suite.summary(format_example_fn = format_sent)"
   ]
  },
  {
   "cell_type": "code",
   "execution_count": 13,
   "id": "ac797a49",
   "metadata": {
    "scrolled": true
   },
   "outputs": [
    {
     "name": "stdout",
     "output_type": "stream",
     "text": [
      "Running Name pronoun, gender neutral name, gendered pronouns\n",
      "Predicting 100 examples\n"
     ]
    },
    {
     "name": "stderr",
     "output_type": "stream",
     "text": [
      "100%|██████████| 100/100 [00:02<00:00, 38.87docs/s]\n"
     ]
    },
    {
     "name": "stdout",
     "output_type": "stream",
     "text": [
      "Running Name pronoun, gender neutral name, gender neutral pronouns\n",
      "Predicting 100 examples\n"
     ]
    },
    {
     "name": "stderr",
     "output_type": "stream",
     "text": [
      "100%|██████████| 100/100 [00:02<00:00, 42.03docs/s]\n"
     ]
    },
    {
     "name": "stdout",
     "output_type": "stream",
     "text": [
      "Running Name pronoun, male name, gendered pronouns\n",
      "Predicting 100 examples\n"
     ]
    },
    {
     "name": "stderr",
     "output_type": "stream",
     "text": [
      "100%|██████████| 100/100 [00:02<00:00, 40.55docs/s]\n"
     ]
    },
    {
     "name": "stdout",
     "output_type": "stream",
     "text": [
      "Running Name pronoun, male name, gender neutral pronouns\n",
      "Predicting 100 examples\n"
     ]
    },
    {
     "name": "stderr",
     "output_type": "stream",
     "text": [
      "100%|██████████| 100/100 [00:02<00:00, 42.88docs/s]\n"
     ]
    },
    {
     "name": "stdout",
     "output_type": "stream",
     "text": [
      "Running Name pronoun, female name, gendered pronouns\n",
      "Predicting 100 examples\n"
     ]
    },
    {
     "name": "stderr",
     "output_type": "stream",
     "text": [
      "100%|██████████| 100/100 [00:02<00:00, 40.50docs/s]\n"
     ]
    },
    {
     "name": "stdout",
     "output_type": "stream",
     "text": [
      "Running Name pronoun, female name, gender neutral pronouns\n",
      "Predicting 100 examples\n"
     ]
    },
    {
     "name": "stderr",
     "output_type": "stream",
     "text": [
      "100%|██████████| 100/100 [00:02<00:00, 42.14docs/s]\n"
     ]
    },
    {
     "name": "stdout",
     "output_type": "stream",
     "text": [
      "Running Pronoun pronoun, gendered pronouns\n",
      "Predicting 100 examples\n"
     ]
    },
    {
     "name": "stderr",
     "output_type": "stream",
     "text": [
      "100%|██████████| 100/100 [00:02<00:00, 41.07docs/s]\n"
     ]
    },
    {
     "name": "stdout",
     "output_type": "stream",
     "text": [
      "Running Pronoun pronoun, gender neutral pronouns\n",
      "Predicting 100 examples\n"
     ]
    },
    {
     "name": "stderr",
     "output_type": "stream",
     "text": [
      "100%|██████████| 100/100 [00:02<00:00, 42.90docs/s]\n"
     ]
    },
    {
     "name": "stdout",
     "output_type": "stream",
     "text": [
      "Running Pronoun pronoun, mixed pronouns\n",
      "Predicting 100 examples\n"
     ]
    },
    {
     "name": "stderr",
     "output_type": "stream",
     "text": [
      "100%|██████████| 100/100 [00:02<00:00, 42.04docs/s]\n"
     ]
    },
    {
     "name": "stdout",
     "output_type": "stream",
     "text": [
      "Running Pronoun pronoun name, gendered pronouns\n",
      "Predicting 100 examples\n"
     ]
    },
    {
     "name": "stderr",
     "output_type": "stream",
     "text": [
      "100%|██████████| 100/100 [00:02<00:00, 40.42docs/s]\n"
     ]
    },
    {
     "name": "stdout",
     "output_type": "stream",
     "text": [
      "Running Pronoun pronoun name, gender neutral pronouns\n",
      "Predicting 100 examples\n"
     ]
    },
    {
     "name": "stderr",
     "output_type": "stream",
     "text": [
      "100%|██████████| 100/100 [00:02<00:00, 40.85docs/s]\n"
     ]
    },
    {
     "name": "stdout",
     "output_type": "stream",
     "text": [
      "Running Pronoun pronoun name, mixed pronouns\n",
      "Predicting 100 examples\n"
     ]
    },
    {
     "name": "stderr",
     "output_type": "stream",
     "text": [
      "100%|██████████| 100/100 [00:02<00:00, 40.62docs/s]\n"
     ]
    },
    {
     "name": "stdout",
     "output_type": "stream",
     "text": [
      "Running Hen-hen ambiguity, hen plural, gendered pronouns\n",
      "Predicting 100 examples\n"
     ]
    },
    {
     "name": "stderr",
     "output_type": "stream",
     "text": [
      "100%|██████████| 100/100 [00:02<00:00, 40.31docs/s]\n"
     ]
    },
    {
     "name": "stdout",
     "output_type": "stream",
     "text": [
      "Running Hen-hen ambiguity, hen plural, gender neutral pronouns\n",
      "Predicting 100 examples\n"
     ]
    },
    {
     "name": "stderr",
     "output_type": "stream",
     "text": [
      "100%|██████████| 100/100 [00:02<00:00, 40.29docs/s]\n"
     ]
    },
    {
     "name": "stdout",
     "output_type": "stream",
     "text": [
      "Running Hen-hen ambiguity, hen singular, gendered pronouns\n",
      "Predicting 100 examples\n"
     ]
    },
    {
     "name": "stderr",
     "output_type": "stream",
     "text": [
      "100%|██████████| 100/100 [00:02<00:00, 40.39docs/s]\n"
     ]
    },
    {
     "name": "stdout",
     "output_type": "stream",
     "text": [
      "Running Hen-hen ambiguity, hen singular, gender neutral pronouns\n",
      "Predicting 100 examples\n"
     ]
    },
    {
     "name": "stderr",
     "output_type": "stream",
     "text": [
      "100%|██████████| 100/100 [00:02<00:00, 40.37docs/s]\n"
     ]
    },
    {
     "name": "stdout",
     "output_type": "stream",
     "text": [
      "Running Die-die ambiguity, gendered pronouns\n",
      "Predicting 100 examples\n"
     ]
    },
    {
     "name": "stderr",
     "output_type": "stream",
     "text": [
      "100%|██████████| 100/100 [00:02<00:00, 40.24docs/s]\n"
     ]
    },
    {
     "name": "stdout",
     "output_type": "stream",
     "text": [
      "Running Die-die ambiguity, gender neutral pronouns\n",
      "Predicting 100 examples\n"
     ]
    },
    {
     "name": "stderr",
     "output_type": "stream",
     "text": [
      "100%|██████████| 100/100 [00:02<00:00, 40.50docs/s]\n"
     ]
    }
   ],
   "source": [
    "suite.run(predict_regular3, overwrite=True)"
   ]
  },
  {
   "cell_type": "code",
   "execution_count": 14,
   "id": "95619c15",
   "metadata": {
    "scrolled": true
   },
   "outputs": [
    {
     "name": "stdout",
     "output_type": "stream",
     "text": [
      "pronoun-pronoun-name\n",
      "\n",
      "Pronoun pronoun name, gendered pronouns\n",
      "Test cases:      100\n",
      "Fails (rate):    0 (0.0%)\n",
      "\n",
      "\n",
      "Pronoun pronoun name, gender neutral pronouns\n",
      "Test cases:      100\n",
      "Fails (rate):    60 (60.0%)\n",
      "\n",
      "Example fails:\n",
      "[('Sydney', '(0)'), ('heeft', '-'), ('diens', '(0)'), ('afspraak', '-'), ('bij', '-'), ('de', '-'), ('huisartsenpost', '-'), ('om', '-'), ('3', '-'), ('uur.', '-'), ('die', '-'), ('gaat', '-'), ('zo', '-'), ('heen.', '-')]\n",
      "----\n",
      "[('Charly', '(0)'), ('heeft', '-'), ('hun', '(0)'), ('afspraak', '-'), ('bij', '-'), ('de', '-'), ('buren', '-'), ('om', '-'), ('3', '-'), ('uur.', '-'), ('die', '-'), ('gaat', '-'), ('zo', '-'), ('heen.', '-')]\n",
      "----\n",
      "[('Reese', '-'), ('heeft', '-'), ('hun', '-'), ('afspraak', '-'), ('bij', '-'), ('de', '-'), ('dokters', '-'), ('om', '-'), ('3', '-'), ('uur.', '-'), ('die', '-'), ('gaat', '-'), ('zo', '-'), ('heen.', '-')]\n",
      "----\n",
      "\n",
      "\n",
      "Pronoun pronoun name, mixed pronouns\n",
      "Test cases:      100\n",
      "Fails (rate):    49 (49.0%)\n",
      "\n",
      "Example fails:\n",
      "[('Haven', '(0)'), ('heeft', '-'), ('hun', '-'), ('afspraak', '-'), ('bij', '-'), ('de', '-'), ('sportschool', '-'), ('om', '-'), ('3', '-'), ('uur.', '-'), ('hij', '(0)'), ('gaat', '-'), ('zo', '-'), ('heen.', '-')]\n",
      "----\n",
      "[('Jos', '(0)'), ('heeft', '-'), ('diens', '-'), ('afspraak', '-'), ('bij', '-'), ('de', '-'), ('sportschool', '-'), ('om', '-'), ('3', '-'), ('uur.', '-'), ('zij', '(0)'), ('gaat', '-'), ('zo', '-'), ('heen.', '-')]\n",
      "----\n",
      "[('Camille', '(0)'), ('heeft', '-'), ('haar', '(0)'), ('afspraak', '-'), ('bij', '-'), ('de', '-'), ('buren', '-'), ('om', '-'), ('3', '-'), ('uur.', '-'), ('hen', '-'), ('gaat', '-'), ('zo', '-'), ('heen.', '-')]\n",
      "----\n",
      "\n",
      "\n",
      "\n",
      "\n",
      "Name pronoun link\n",
      "\n",
      "Name pronoun, gender neutral name, gendered pronouns\n",
      "Test cases:      100\n",
      "Fails (rate):    0 (0.0%)\n",
      "\n",
      "\n",
      "Name pronoun, gender neutral name, gender neutral pronouns\n",
      "Test cases:      100\n",
      "Fails (rate):    52 (52.0%)\n",
      "\n",
      "Example fails:\n",
      "[('Jaimy', '-'), ('gaat', '-'), ('naar', '-'), ('diens', '-'), ('interview.', '-')]\n",
      "----\n",
      "[('River', '-'), ('gaat', '-'), ('naar', '-'), ('diens', '-'), ('dokter.', '-')]\n",
      "----\n",
      "[('Noé', '-'), ('gaat', '-'), ('naar', '-'), ('hun', '-'), ('afspraak.', '-')]\n",
      "----\n",
      "\n",
      "\n",
      "Name pronoun, male name, gendered pronouns\n",
      "Test cases:      100\n",
      "Fails (rate):    1 (1.0%)\n",
      "\n",
      "Example fails:\n",
      "[('Paul', '-'), ('gaat', '-'), ('naar', '-'), ('haar', '-'), ('afspraak.', '-')]\n",
      "----\n",
      "\n",
      "\n",
      "Name pronoun, male name, gender neutral pronouns\n",
      "Test cases:      100\n",
      "Fails (rate):    68 (68.0%)\n",
      "\n",
      "Example fails:\n",
      "[('Antonius', '-'), ('gaat', '-'), ('naar', '-'), ('hun', '-'), ('werk.', '-')]\n",
      "----\n",
      "[('Jan', '-'), ('gaat', '-'), ('naar', '-'), ('hun', '-'), ('werk.', '-')]\n",
      "----\n",
      "[('Antonius', '-'), ('gaat', '-'), ('naar', '-'), ('hun', '-'), ('afspraak.', '-')]\n",
      "----\n",
      "\n",
      "\n",
      "Name pronoun, female name, gendered pronouns\n",
      "Test cases:      100\n",
      "Fails (rate):    4 (4.0%)\n",
      "\n",
      "Example fails:\n",
      "[('Anneke', '-'), ('gaat', '-'), ('naar', '-'), ('zijn', '-'), ('interview.', '-')]\n",
      "----\n",
      "[('Marieke', '-'), ('gaat', '-'), ('naar', '-'), ('zijn', '-'), ('interview.', '-')]\n",
      "----\n",
      "[('Marieke', '-'), ('gaat', '-'), ('naar', '-'), ('zijn', '-'), ('interview.', '-')]\n",
      "----\n",
      "\n",
      "\n",
      "Name pronoun, female name, gender neutral pronouns\n",
      "Test cases:      100\n",
      "Fails (rate):    49 (49.0%)\n",
      "\n",
      "Example fails:\n",
      "[('Margriet', '-'), ('gaat', '-'), ('naar', '-'), ('diens', '-'), ('werk.', '-')]\n",
      "----\n",
      "[('Sarah', '-'), ('gaat', '-'), ('naar', '-'), ('diens', '-'), ('dokter.', '-')]\n",
      "----\n",
      "[('Maria', '-'), ('gaat', '-'), ('naar', '-'), ('diens', '-'), ('buren.', '-')]\n",
      "----\n",
      "\n",
      "\n",
      "\n",
      "\n",
      "die-die-amb\n",
      "\n",
      "Die-die ambiguity, gendered pronouns\n",
      "Test cases:      100\n",
      "Fails (rate):    1 (1.0%)\n",
      "\n",
      "Example fails:\n",
      "[('Jos', '-'), ('die', '-'), ('hier', '-'), ('net', '-'), ('werkt', '-'), ('is', '-'), ('te', '-'), ('laat', '-'), ('omdat', '-'), ('zij', '-'), ('een', '-'), ('lekke', '-'), ('band', '-'), ('had', '-'), ('.', '-')]\n",
      "----\n",
      "\n",
      "\n",
      "Die-die ambiguity, gender neutral pronouns\n",
      "Test cases:      100\n",
      "Fails (rate):    3 (3.0%)\n",
      "\n",
      "Example fails:\n",
      "[('Noa', '-'), ('die', '-'), ('hier', '-'), ('net', '-'), ('werkt', '-'), ('is', '-'), ('te', '-'), ('laat', '-'), ('omdat', '-'), ('die', '-'), ('een', '-'), ('lekke', '-'), ('band', '-'), ('had', '-'), ('.', '-')]\n",
      "----\n",
      "[('Ihme', '-'), ('die', '-'), ('hier', '-'), ('net', '-'), ('werkt', '-'), ('is', '-'), ('te', '-'), ('laat', '-'), ('omdat', '-'), ('die', '-'), ('een', '-'), ('lekke', '-'), ('band', '-'), ('had', '-'), ('.', '-')]\n",
      "----\n",
      "[('Lyric', '-'), ('die', '-'), ('hier', '-'), ('net', '-'), ('werkt', '-'), ('is', '-'), ('te', '-'), ('laat', '-'), ('omdat', '-'), ('die', '-'), ('een', '-'), ('lekke', '-'), ('band', '-'), ('had', '-'), ('.', '-')]\n",
      "----\n",
      "\n",
      "\n",
      "\n",
      "\n",
      "hen-hen-amb\n",
      "\n",
      "Hen-hen ambiguity, hen plural, gendered pronouns\n",
      "Test cases:      100\n",
      "Fails (rate):    0 (0.0%)\n",
      "\n",
      "\n",
      "Hen-hen ambiguity, hen plural, gender neutral pronouns\n",
      "Test cases:      100\n",
      "Fails (rate):    63 (63.0%)\n",
      "\n",
      "Example fails:\n",
      "[('Ezra', '-'), ('gaat', '-'), ('met', '-'), ('het', '-'), ('basketbalteam', '(0)'), ('op', '-'), ('vakantie.', '-'), ('hen', '(0)'), ('is', '-'), ('al', '-'), ('vaker', '-'), ('met', '-'), ('hen', '(0)'), ('weggeweest.', '-')]\n",
      "----\n",
      "[('Haven', '-'), ('gaat', '-'), ('met', '-'), ('het', '-'), ('honkbalteam', '(0)'), ('op', '-'), ('vakantie.', '-'), ('hen', '(0)'), ('is', '-'), ('al', '-'), ('vaker', '-'), ('met', '-'), ('hen', '(0)'), ('weggeweest.', '-')]\n",
      "----\n",
      "[('Bobby', '-'), ('gaat', '-'), ('met', '-'), ('het', '-'), ('handbalteam', '(0)'), ('op', '-'), ('vakantie.', '-'), ('die', '(0)'), ('is', '-'), ('al', '-'), ('vaker', '-'), ('met', '-'), ('hen', '(0)'), ('weggeweest.', '-')]\n",
      "----\n",
      "\n",
      "\n",
      "Hen-hen ambiguity, hen singular, gendered pronouns\n",
      "Test cases:      100\n",
      "Fails (rate):    52 (52.0%)\n",
      "\n",
      "Example fails:\n",
      "[('Dominic', '(0)'), ('gaat', '-'), ('met', '-'), ('het', '-'), ('volleybalteam', '-'), ('op', '-'), ('vakantie.', '-'), ('Zij', '-'), ('zijn', '-'), ('al', '-'), ('vaker', '-'), ('met', '-'), ('haar', '(0)'), ('weggeweest', '-'), ('.', '-')]\n",
      "----\n",
      "[('Revi', '(0)'), ('gaat', '-'), ('met', '-'), ('het', '-'), ('handbalteam', '-'), ('op', '-'), ('vakantie.', '-'), ('Zij', '(0)'), ('zijn', '-'), ('al', '-'), ('vaker', '-'), ('met', '-'), ('haar', '(0)'), ('weggeweest', '-'), ('.', '-')]\n",
      "----\n",
      "[('Micha', '(0)'), ('gaat', '-'), ('met', '-'), ('het', '-'), ('honkbalteam', '-'), ('op', '-'), ('vakantie.', '-'), ('Zij', '(0)'), ('zijn', '-'), ('al', '-'), ('vaker', '-'), ('met', '-'), ('haar', '(0)'), ('weggeweest', '-'), ('.', '-')]\n",
      "----\n",
      "\n",
      "\n",
      "Hen-hen ambiguity, hen singular, gender neutral pronouns\n",
      "Test cases:      100\n",
      "Fails (rate):    100 (100.0%)\n",
      "\n",
      "Example fails:\n",
      "[('Sasha', '(0)'), ('gaat', '-'), ('met', '-'), ('het', '-'), ('voetbalteam', '(1)'), ('op', '-'), ('vakantie.', '-'), ('Zij', '(0)'), ('zijn', '-'), ('al', '-'), ('vaker', '-'), ('met', '-'), ('hen', '(1)'), ('weggeweest', '-'), ('.', '-')]\n",
      "----\n",
      "[('Phoenix', '-'), ('gaat', '-'), ('met', '-'), ('het', '-'), ('honkbalteam', '(0)'), ('op', '-'), ('vakantie.', '-'), ('Zij', '(0)'), ('zijn', '-'), ('al', '-'), ('vaker', '-'), ('met', '-'), ('hen', '(0)'), ('weggeweest', '-'), ('.', '-')]\n",
      "----\n",
      "[('Oakley', '-'), ('gaat', '-'), ('met', '-'), ('het', '-'), ('voetbalteam', '(0)'), ('op', '-'), ('vakantie.', '-'), ('Zij', '(0)'), ('zijn', '-'), ('al', '-'), ('vaker', '-'), ('met', '-'), ('hen', '(0)'), ('weggeweest', '-'), ('.', '-')]\n",
      "----\n",
      "\n",
      "\n",
      "\n",
      "\n",
      "pronoun-pronoun\n",
      "\n",
      "Pronoun pronoun, gendered pronouns\n",
      "Test cases:      100\n",
      "Fails (rate):    17 (17.0%)\n",
      "\n",
      "Example fails:\n",
      "[('hij', '-'), ('gaat', '-'), ('naar', '-'), ('haar', '-'), ('afspraak.', '-')]\n",
      "----\n",
      "[('hij', '-'), ('gaat', '-'), ('naar', '-'), ('haar', '-'), ('afspraak.', '-')]\n",
      "----\n",
      "[('hij', '-'), ('gaat', '-'), ('naar', '-'), ('haar', '-'), ('buren.', '-')]\n",
      "----\n",
      "\n",
      "\n",
      "Pronoun pronoun, gender neutral pronouns\n",
      "Test cases:      100\n",
      "Fails (rate):    68 (68.0%)\n",
      "\n",
      "Example fails:\n",
      "[('hen', '-'), ('gaat', '-'), ('naar', '-'), ('diens', '-'), ('afspraak.', '-')]\n",
      "----\n",
      "[('hen', '-'), ('gaat', '-'), ('naar', '-'), ('hun', '-'), ('afspraak.', '-')]\n",
      "----\n",
      "[('die', '-'), ('gaat', '-'), ('naar', '-'), ('diens', '-'), ('afspraak.', '-')]\n",
      "----\n",
      "\n",
      "\n",
      "Pronoun pronoun, mixed pronouns\n",
      "Test cases:      100\n",
      "Fails (rate):    44 (44.0%)\n",
      "\n",
      "Example fails:\n",
      "[('hij', '-'), ('gaat', '-'), ('naar', '-'), ('haar', '-'), ('dokter.', '-')]\n",
      "----\n",
      "[('die', '-'), ('gaat', '-'), ('naar', '-'), ('diens', '-'), ('buren.', '-')]\n",
      "----\n",
      "[('die', '-'), ('gaat', '-'), ('naar', '-'), ('haar', '-'), ('buren.', '-')]\n",
      "----\n",
      "\n",
      "\n",
      "\n",
      "\n"
     ]
    }
   ],
   "source": [
    "suite.summary(format_example_fn = format_sent)"
   ]
  },
  {
   "cell_type": "code",
   "execution_count": 15,
   "id": "e72868b1",
   "metadata": {
    "scrolled": true
   },
   "outputs": [
    {
     "name": "stdout",
     "output_type": "stream",
     "text": [
      "Running Name pronoun, gender neutral name, gendered pronouns\n",
      "Predicting 100 examples\n"
     ]
    },
    {
     "name": "stderr",
     "output_type": "stream",
     "text": [
      "100%|██████████| 100/100 [00:02<00:00, 34.16docs/s]\n"
     ]
    },
    {
     "name": "stdout",
     "output_type": "stream",
     "text": [
      "Running Name pronoun, gender neutral name, gender neutral pronouns\n",
      "Predicting 100 examples\n"
     ]
    },
    {
     "name": "stderr",
     "output_type": "stream",
     "text": [
      "100%|██████████| 100/100 [00:02<00:00, 42.27docs/s]\n"
     ]
    },
    {
     "name": "stdout",
     "output_type": "stream",
     "text": [
      "Running Name pronoun, male name, gendered pronouns\n",
      "Predicting 100 examples\n"
     ]
    },
    {
     "name": "stderr",
     "output_type": "stream",
     "text": [
      "100%|██████████| 100/100 [00:02<00:00, 40.64docs/s]\n"
     ]
    },
    {
     "name": "stdout",
     "output_type": "stream",
     "text": [
      "Running Name pronoun, male name, gender neutral pronouns\n",
      "Predicting 100 examples\n"
     ]
    },
    {
     "name": "stderr",
     "output_type": "stream",
     "text": [
      "100%|██████████| 100/100 [00:02<00:00, 42.43docs/s]\n"
     ]
    },
    {
     "name": "stdout",
     "output_type": "stream",
     "text": [
      "Running Name pronoun, female name, gendered pronouns\n",
      "Predicting 100 examples\n"
     ]
    },
    {
     "name": "stderr",
     "output_type": "stream",
     "text": [
      "100%|██████████| 100/100 [00:02<00:00, 40.94docs/s]\n"
     ]
    },
    {
     "name": "stdout",
     "output_type": "stream",
     "text": [
      "Running Name pronoun, female name, gender neutral pronouns\n",
      "Predicting 100 examples\n"
     ]
    },
    {
     "name": "stderr",
     "output_type": "stream",
     "text": [
      "100%|██████████| 100/100 [00:02<00:00, 42.14docs/s]\n"
     ]
    },
    {
     "name": "stdout",
     "output_type": "stream",
     "text": [
      "Running Pronoun pronoun, gendered pronouns\n",
      "Predicting 100 examples\n"
     ]
    },
    {
     "name": "stderr",
     "output_type": "stream",
     "text": [
      "100%|██████████| 100/100 [00:02<00:00, 40.76docs/s]\n"
     ]
    },
    {
     "name": "stdout",
     "output_type": "stream",
     "text": [
      "Running Pronoun pronoun, gender neutral pronouns\n",
      "Predicting 100 examples\n"
     ]
    },
    {
     "name": "stderr",
     "output_type": "stream",
     "text": [
      "100%|██████████| 100/100 [00:02<00:00, 42.69docs/s]\n"
     ]
    },
    {
     "name": "stdout",
     "output_type": "stream",
     "text": [
      "Running Pronoun pronoun, mixed pronouns\n",
      "Predicting 100 examples\n"
     ]
    },
    {
     "name": "stderr",
     "output_type": "stream",
     "text": [
      "100%|██████████| 100/100 [00:02<00:00, 41.67docs/s]\n"
     ]
    },
    {
     "name": "stdout",
     "output_type": "stream",
     "text": [
      "Running Pronoun pronoun name, gendered pronouns\n",
      "Predicting 100 examples\n"
     ]
    },
    {
     "name": "stderr",
     "output_type": "stream",
     "text": [
      "100%|██████████| 100/100 [00:02<00:00, 40.56docs/s]\n"
     ]
    },
    {
     "name": "stdout",
     "output_type": "stream",
     "text": [
      "Running Pronoun pronoun name, gender neutral pronouns\n",
      "Predicting 100 examples\n"
     ]
    },
    {
     "name": "stderr",
     "output_type": "stream",
     "text": [
      "100%|██████████| 100/100 [00:02<00:00, 40.64docs/s]\n"
     ]
    },
    {
     "name": "stdout",
     "output_type": "stream",
     "text": [
      "Running Pronoun pronoun name, mixed pronouns\n",
      "Predicting 100 examples\n"
     ]
    },
    {
     "name": "stderr",
     "output_type": "stream",
     "text": [
      "100%|██████████| 100/100 [00:02<00:00, 40.56docs/s]\n"
     ]
    },
    {
     "name": "stdout",
     "output_type": "stream",
     "text": [
      "Running Hen-hen ambiguity, hen plural, gendered pronouns\n",
      "Predicting 100 examples\n"
     ]
    },
    {
     "name": "stderr",
     "output_type": "stream",
     "text": [
      "100%|██████████| 100/100 [00:02<00:00, 40.62docs/s]\n"
     ]
    },
    {
     "name": "stdout",
     "output_type": "stream",
     "text": [
      "Running Hen-hen ambiguity, hen plural, gender neutral pronouns\n",
      "Predicting 100 examples\n"
     ]
    },
    {
     "name": "stderr",
     "output_type": "stream",
     "text": [
      "100%|██████████| 100/100 [00:02<00:00, 40.46docs/s]\n"
     ]
    },
    {
     "name": "stdout",
     "output_type": "stream",
     "text": [
      "Running Hen-hen ambiguity, hen singular, gendered pronouns\n",
      "Predicting 100 examples\n"
     ]
    },
    {
     "name": "stderr",
     "output_type": "stream",
     "text": [
      "100%|██████████| 100/100 [00:02<00:00, 40.61docs/s]\n"
     ]
    },
    {
     "name": "stdout",
     "output_type": "stream",
     "text": [
      "Running Hen-hen ambiguity, hen singular, gender neutral pronouns\n",
      "Predicting 100 examples\n"
     ]
    },
    {
     "name": "stderr",
     "output_type": "stream",
     "text": [
      "100%|██████████| 100/100 [00:02<00:00, 40.54docs/s]\n"
     ]
    },
    {
     "name": "stdout",
     "output_type": "stream",
     "text": [
      "Running Die-die ambiguity, gendered pronouns\n",
      "Predicting 100 examples\n"
     ]
    },
    {
     "name": "stderr",
     "output_type": "stream",
     "text": [
      "100%|██████████| 100/100 [00:02<00:00, 40.52docs/s]\n"
     ]
    },
    {
     "name": "stdout",
     "output_type": "stream",
     "text": [
      "Running Die-die ambiguity, gender neutral pronouns\n",
      "Predicting 100 examples\n"
     ]
    },
    {
     "name": "stderr",
     "output_type": "stream",
     "text": [
      "100%|██████████| 100/100 [00:02<00:00, 40.53docs/s]\n"
     ]
    }
   ],
   "source": [
    "suite.run(predict_regular4, overwrite=True)"
   ]
  },
  {
   "cell_type": "code",
   "execution_count": 16,
   "id": "f533b8bc",
   "metadata": {
    "scrolled": true
   },
   "outputs": [
    {
     "name": "stdout",
     "output_type": "stream",
     "text": [
      "pronoun-pronoun\n",
      "\n",
      "Pronoun pronoun, gendered pronouns\n",
      "Test cases:      100\n",
      "Fails (rate):    2 (2.0%)\n",
      "\n",
      "Example fails:\n",
      "[('hij', '-'), ('gaat', '-'), ('naar', '-'), ('haar', '-'), ('interview.', '-')]\n",
      "----\n",
      "[('hij', '-'), ('gaat', '-'), ('naar', '-'), ('haar', '-'), ('interview.', '-')]\n",
      "----\n",
      "\n",
      "\n",
      "Pronoun pronoun, gender neutral pronouns\n",
      "Test cases:      100\n",
      "Fails (rate):    62 (62.0%)\n",
      "\n",
      "Example fails:\n",
      "[('hen', '-'), ('gaat', '-'), ('naar', '-'), ('diens', '-'), ('afspraak.', '-')]\n",
      "----\n",
      "[('hen', '-'), ('gaat', '-'), ('naar', '-'), ('diens', '-'), ('interview.', '-')]\n",
      "----\n",
      "[('die', '-'), ('gaat', '-'), ('naar', '-'), ('diens', '-'), ('interview.', '-')]\n",
      "----\n",
      "\n",
      "\n",
      "Pronoun pronoun, mixed pronouns\n",
      "Test cases:      100\n",
      "Fails (rate):    29 (29.0%)\n",
      "\n",
      "Example fails:\n",
      "[('hen', '-'), ('gaat', '-'), ('naar', '-'), ('diens', '-'), ('werk.', '-')]\n",
      "----\n",
      "[('hij', '-'), ('gaat', '-'), ('naar', '-'), ('diens', '-'), ('interview.', '-')]\n",
      "----\n",
      "[('hij', '-'), ('gaat', '-'), ('naar', '-'), ('diens', '-'), ('ouders.', '-')]\n",
      "----\n",
      "\n",
      "\n",
      "\n",
      "\n",
      "Name pronoun link\n",
      "\n",
      "Name pronoun, gender neutral name, gendered pronouns\n",
      "Test cases:      100\n",
      "Fails (rate):    1 (1.0%)\n",
      "\n",
      "Example fails:\n",
      "[('London', '-'), ('gaat', '-'), ('naar', '-'), ('zijn', '-'), ('interview.', '-')]\n",
      "----\n",
      "\n",
      "\n",
      "Name pronoun, gender neutral name, gender neutral pronouns\n",
      "Test cases:      100\n",
      "Fails (rate):    47 (47.0%)\n",
      "\n",
      "Example fails:\n",
      "[('Novi', '-'), ('gaat', '-'), ('naar', '-'), ('diens', '-'), ('werk.', '-')]\n",
      "----\n",
      "[('Lou', '-'), ('gaat', '-'), ('naar', '-'), ('diens', '-'), ('werk.', '-')]\n",
      "----\n",
      "[('Izzy', '-'), ('gaat', '-'), ('naar', '-'), ('diens', '-'), ('interview.', '-')]\n",
      "----\n",
      "\n",
      "\n",
      "Name pronoun, male name, gendered pronouns\n",
      "Test cases:      100\n",
      "Fails (rate):    0 (0.0%)\n",
      "\n",
      "\n",
      "Name pronoun, male name, gender neutral pronouns\n",
      "Test cases:      100\n",
      "Fails (rate):    51 (51.0%)\n",
      "\n",
      "Example fails:\n",
      "[('Adrianus', '-'), ('gaat', '-'), ('naar', '-'), ('diens', '-'), ('interview.', '-')]\n",
      "----\n",
      "[('Marinus', '-'), ('gaat', '-'), ('naar', '-'), ('diens', '-'), ('interview.', '-')]\n",
      "----\n",
      "[('Abraham', '-'), ('gaat', '-'), ('naar', '-'), ('diens', '-'), ('buren.', '-')]\n",
      "----\n",
      "\n",
      "\n",
      "Name pronoun, female name, gendered pronouns\n",
      "Test cases:      100\n",
      "Fails (rate):    6 (6.0%)\n",
      "\n",
      "Example fails:\n",
      "[('Roos', '-'), ('gaat', '-'), ('naar', '-'), ('haar', '-'), ('interview.', '-')]\n",
      "----\n",
      "[('Adriana', '-'), ('gaat', '-'), ('naar', '-'), ('zijn', '-'), ('interview.', '-')]\n",
      "----\n",
      "[('Marieke', '-'), ('gaat', '-'), ('naar', '-'), ('zijn', '-'), ('interview.', '-')]\n",
      "----\n",
      "\n",
      "\n",
      "Name pronoun, female name, gender neutral pronouns\n",
      "Test cases:      100\n",
      "Fails (rate):    43 (43.0%)\n",
      "\n",
      "Example fails:\n",
      "[('Annemarie', '-'), ('gaat', '-'), ('naar', '-'), ('diens', '-'), ('interview.', '-')]\n",
      "----\n",
      "[('Elly', '-'), ('gaat', '-'), ('naar', '-'), ('diens', '-'), ('buren.', '-')]\n",
      "----\n",
      "[('Simone', '-'), ('gaat', '-'), ('naar', '-'), ('diens', '-'), ('dokter.', '-')]\n",
      "----\n",
      "\n",
      "\n",
      "\n",
      "\n",
      "die-die-amb\n",
      "\n",
      "Die-die ambiguity, gendered pronouns\n",
      "Test cases:      100\n",
      "Fails (rate):    0 (0.0%)\n",
      "\n",
      "\n",
      "Die-die ambiguity, gender neutral pronouns\n",
      "Test cases:      100\n",
      "Fails (rate):    2 (2.0%)\n",
      "\n",
      "Example fails:\n",
      "[('Haven', '-'), ('die', '-'), ('hier', '-'), ('net', '-'), ('werkt', '-'), ('is', '-'), ('te', '-'), ('laat', '-'), ('omdat', '-'), ('die', '-'), ('een', '-'), ('lekke', '-'), ('band', '-'), ('had', '-'), ('.', '-')]\n",
      "----\n",
      "[('Haven', '-'), ('die', '-'), ('hier', '-'), ('net', '-'), ('werkt', '-'), ('is', '-'), ('te', '-'), ('laat', '-'), ('omdat', '-'), ('die', '-'), ('een', '-'), ('lekke', '-'), ('band', '-'), ('had', '-'), ('.', '-')]\n",
      "----\n",
      "\n",
      "\n",
      "\n",
      "\n",
      "hen-hen-amb\n",
      "\n",
      "Hen-hen ambiguity, hen plural, gendered pronouns\n",
      "Test cases:      100\n",
      "Fails (rate):    0 (0.0%)\n",
      "\n",
      "\n",
      "Hen-hen ambiguity, hen plural, gender neutral pronouns\n",
      "Test cases:      100\n",
      "Fails (rate):    5 (5.0%)\n",
      "\n",
      "Example fails:\n",
      "[('Phoenix', '(0)'), ('gaat', '-'), ('met', '-'), ('het', '-'), ('voetbalteam', '(0)'), ('op', '-'), ('vakantie.', '-'), ('hen', '(0)'), ('is', '-'), ('al', '-'), ('vaker', '-'), ('met', '-'), ('hen', '(0)'), ('weggeweest.', '-')]\n",
      "----\n",
      "[('Jackie', '(0)'), ('gaat', '-'), ('met', '-'), ('het', '-'), ('volleybalteam', '-'), ('op', '-'), ('vakantie.', '-'), ('hen', '(0)'), ('is', '-'), ('al', '-'), ('vaker', '-'), ('met', '-'), ('hen', '(0)'), ('weggeweest.', '-')]\n",
      "----\n",
      "[('Everest', '-'), ('gaat', '-'), ('met', '-'), ('het', '-'), ('honkbalteam', '(0)'), ('op', '-'), ('vakantie.', '-'), ('hen', '(0)'), ('is', '-'), ('al', '-'), ('vaker', '-'), ('met', '-'), ('hen', '(0)'), ('weggeweest.', '-')]\n",
      "----\n",
      "\n",
      "\n",
      "Hen-hen ambiguity, hen singular, gendered pronouns\n",
      "Test cases:      100\n",
      "Fails (rate):    0 (0.0%)\n",
      "\n",
      "\n",
      "Hen-hen ambiguity, hen singular, gender neutral pronouns\n",
      "Test cases:      100\n",
      "Fails (rate):    100 (100.0%)\n",
      "\n",
      "Example fails:\n",
      "[('Nova', '-'), ('gaat', '-'), ('met', '-'), ('het', '-'), ('honkbalteam', '(0)'), ('op', '-'), ('vakantie.', '-'), ('Zij', '(0)'), ('zijn', '-'), ('al', '-'), ('vaker', '-'), ('met', '-'), ('hen', '(0)'), ('weggeweest', '-'), ('.', '-')]\n",
      "----\n",
      "[('Jos', '-'), ('gaat', '-'), ('met', '-'), ('het', '-'), ('softbalteam', '(0)'), ('op', '-'), ('vakantie.', '-'), ('Zij', '(0)'), ('zijn', '-'), ('al', '-'), ('vaker', '-'), ('met', '-'), ('hen', '(0)'), ('weggeweest', '-'), ('.', '-')]\n",
      "----\n",
      "[('Ihme', '-'), ('gaat', '-'), ('met', '-'), ('het', '-'), ('hockeyteam', '(0)'), ('op', '-'), ('vakantie.', '-'), ('Zij', '(0)'), ('zijn', '-'), ('al', '-'), ('vaker', '-'), ('met', '-'), ('hen', '(0)'), ('weggeweest', '-'), ('.', '-')]\n",
      "----\n",
      "\n",
      "\n",
      "\n",
      "\n",
      "pronoun-pronoun-name\n",
      "\n",
      "Pronoun pronoun name, gendered pronouns\n",
      "Test cases:      100\n",
      "Fails (rate):    0 (0.0%)\n",
      "\n",
      "\n",
      "Pronoun pronoun name, gender neutral pronouns\n",
      "Test cases:      100\n",
      "Fails (rate):    69 (69.0%)\n",
      "\n",
      "Example fails:\n",
      "[('Reese', '(0)'), ('heeft', '-'), ('hun', '(0)'), ('afspraak', '-'), ('bij', '-'), ('de', '-'), ('gemeente', '(1)'), ('om', '-'), ('3', '-'), ('uur.', '-'), ('die', '(1)'), ('gaat', '-'), ('zo', '-'), ('heen.', '-')]\n",
      "----\n",
      "[('Bo', '(0)'), ('heeft', '-'), ('diens', '-'), ('afspraak', '-'), ('bij', '-'), ('de', '-'), ('winkel', '-'), ('om', '-'), ('3', '-'), ('uur.', '-'), ('hen', '(0)'), ('gaat', '-'), ('zo', '-'), ('heen.', '-')]\n",
      "----\n",
      "[('Rowan', '-'), ('heeft', '-'), ('diens', '-'), ('afspraak', '-'), ('bij', '-'), ('de', '-'), ('buren', '(0)'), ('om', '-'), ('3', '-'), ('uur.', '-'), ('hen', '(0)'), ('gaat', '-'), ('zo', '-'), ('heen.', '-')]\n",
      "----\n",
      "\n",
      "\n",
      "Pronoun pronoun name, mixed pronouns\n",
      "Test cases:      100\n",
      "Fails (rate):    39 (39.0%)\n",
      "\n",
      "Example fails:\n",
      "[('Teddy', '(0)'), ('heeft', '-'), ('hun', '-'), ('afspraak', '-'), ('bij', '-'), ('de', '-'), ('gemeente', '-'), ('om', '-'), ('3', '-'), ('uur.', '-'), ('zij', '(0)'), ('gaat', '-'), ('zo', '-'), ('heen.', '-')]\n",
      "----\n",
      "[('Ash', '(0)'), ('heeft', '-'), ('hun', '-'), ('afspraak', '-'), ('bij', '-'), ('de', '-'), ('buren', '-'), ('om', '-'), ('3', '-'), ('uur.', '-'), ('die', '(0)'), ('gaat', '-'), ('zo', '-'), ('heen.', '-')]\n",
      "----\n",
      "[('Harper', '-'), ('heeft', '-'), ('diens', '-'), ('afspraak', '-'), ('bij', '-'), ('de', '-'), ('huisartsenpost', '(0)'), ('om', '-'), ('3', '-'), ('uur.', '-'), ('die', '(0)'), ('gaat', '-'), ('zo', '-'), ('heen.', '-')]\n",
      "----\n",
      "\n",
      "\n",
      "\n",
      "\n"
     ]
    }
   ],
   "source": [
    "suite.summary(format_example_fn = format_sent)"
   ]
  },
  {
   "cell_type": "code",
   "execution_count": 17,
   "id": "fd092ae9",
   "metadata": {
    "scrolled": true
   },
   "outputs": [
    {
     "name": "stdout",
     "output_type": "stream",
     "text": [
      "Running Name pronoun, gender neutral name, gendered pronouns\n",
      "Predicting 100 examples\n"
     ]
    },
    {
     "name": "stderr",
     "output_type": "stream",
     "text": [
      "100%|██████████| 100/100 [00:02<00:00, 40.73docs/s]\n"
     ]
    },
    {
     "name": "stdout",
     "output_type": "stream",
     "text": [
      "Running Name pronoun, gender neutral name, gender neutral pronouns\n",
      "Predicting 100 examples\n"
     ]
    },
    {
     "name": "stderr",
     "output_type": "stream",
     "text": [
      "100%|██████████| 100/100 [00:02<00:00, 42.18docs/s]\n"
     ]
    },
    {
     "name": "stdout",
     "output_type": "stream",
     "text": [
      "Running Name pronoun, male name, gendered pronouns\n",
      "Predicting 100 examples\n"
     ]
    },
    {
     "name": "stderr",
     "output_type": "stream",
     "text": [
      "100%|██████████| 100/100 [00:02<00:00, 40.69docs/s]\n"
     ]
    },
    {
     "name": "stdout",
     "output_type": "stream",
     "text": [
      "Running Name pronoun, male name, gender neutral pronouns\n",
      "Predicting 100 examples\n"
     ]
    },
    {
     "name": "stderr",
     "output_type": "stream",
     "text": [
      "100%|██████████| 100/100 [00:02<00:00, 42.40docs/s]\n"
     ]
    },
    {
     "name": "stdout",
     "output_type": "stream",
     "text": [
      "Running Name pronoun, female name, gendered pronouns\n",
      "Predicting 100 examples\n"
     ]
    },
    {
     "name": "stderr",
     "output_type": "stream",
     "text": [
      "100%|██████████| 100/100 [00:02<00:00, 41.16docs/s]\n"
     ]
    },
    {
     "name": "stdout",
     "output_type": "stream",
     "text": [
      "Running Name pronoun, female name, gender neutral pronouns\n",
      "Predicting 100 examples\n"
     ]
    },
    {
     "name": "stderr",
     "output_type": "stream",
     "text": [
      "100%|██████████| 100/100 [00:02<00:00, 42.26docs/s]\n"
     ]
    },
    {
     "name": "stdout",
     "output_type": "stream",
     "text": [
      "Running Pronoun pronoun, gendered pronouns\n",
      "Predicting 100 examples\n"
     ]
    },
    {
     "name": "stderr",
     "output_type": "stream",
     "text": [
      "100%|██████████| 100/100 [00:02<00:00, 41.50docs/s]\n"
     ]
    },
    {
     "name": "stdout",
     "output_type": "stream",
     "text": [
      "Running Pronoun pronoun, gender neutral pronouns\n",
      "Predicting 100 examples\n"
     ]
    },
    {
     "name": "stderr",
     "output_type": "stream",
     "text": [
      "100%|██████████| 100/100 [00:02<00:00, 43.27docs/s]\n"
     ]
    },
    {
     "name": "stdout",
     "output_type": "stream",
     "text": [
      "Running Pronoun pronoun, mixed pronouns\n",
      "Predicting 100 examples\n"
     ]
    },
    {
     "name": "stderr",
     "output_type": "stream",
     "text": [
      "100%|██████████| 100/100 [00:02<00:00, 42.81docs/s]\n"
     ]
    },
    {
     "name": "stdout",
     "output_type": "stream",
     "text": [
      "Running Pronoun pronoun name, gendered pronouns\n",
      "Predicting 100 examples\n"
     ]
    },
    {
     "name": "stderr",
     "output_type": "stream",
     "text": [
      "100%|██████████| 100/100 [00:02<00:00, 40.53docs/s]\n"
     ]
    },
    {
     "name": "stdout",
     "output_type": "stream",
     "text": [
      "Running Pronoun pronoun name, gender neutral pronouns\n",
      "Predicting 100 examples\n"
     ]
    },
    {
     "name": "stderr",
     "output_type": "stream",
     "text": [
      "100%|██████████| 100/100 [00:02<00:00, 40.98docs/s]\n"
     ]
    },
    {
     "name": "stdout",
     "output_type": "stream",
     "text": [
      "Running Pronoun pronoun name, mixed pronouns\n",
      "Predicting 100 examples\n"
     ]
    },
    {
     "name": "stderr",
     "output_type": "stream",
     "text": [
      "100%|██████████| 100/100 [00:02<00:00, 40.70docs/s]\n"
     ]
    },
    {
     "name": "stdout",
     "output_type": "stream",
     "text": [
      "Running Hen-hen ambiguity, hen plural, gendered pronouns\n",
      "Predicting 100 examples\n"
     ]
    },
    {
     "name": "stderr",
     "output_type": "stream",
     "text": [
      "100%|██████████| 100/100 [00:02<00:00, 40.55docs/s]\n"
     ]
    },
    {
     "name": "stdout",
     "output_type": "stream",
     "text": [
      "Running Hen-hen ambiguity, hen plural, gender neutral pronouns\n",
      "Predicting 100 examples\n"
     ]
    },
    {
     "name": "stderr",
     "output_type": "stream",
     "text": [
      "100%|██████████| 100/100 [00:02<00:00, 40.56docs/s]\n"
     ]
    },
    {
     "name": "stdout",
     "output_type": "stream",
     "text": [
      "Running Hen-hen ambiguity, hen singular, gendered pronouns\n",
      "Predicting 100 examples\n"
     ]
    },
    {
     "name": "stderr",
     "output_type": "stream",
     "text": [
      "100%|██████████| 100/100 [00:02<00:00, 40.56docs/s]\n"
     ]
    },
    {
     "name": "stdout",
     "output_type": "stream",
     "text": [
      "Running Hen-hen ambiguity, hen singular, gender neutral pronouns\n",
      "Predicting 100 examples\n"
     ]
    },
    {
     "name": "stderr",
     "output_type": "stream",
     "text": [
      "100%|██████████| 100/100 [00:02<00:00, 40.57docs/s]\n"
     ]
    },
    {
     "name": "stdout",
     "output_type": "stream",
     "text": [
      "Running Die-die ambiguity, gendered pronouns\n",
      "Predicting 100 examples\n"
     ]
    },
    {
     "name": "stderr",
     "output_type": "stream",
     "text": [
      "100%|██████████| 100/100 [00:02<00:00, 41.30docs/s]\n"
     ]
    },
    {
     "name": "stdout",
     "output_type": "stream",
     "text": [
      "Running Die-die ambiguity, gender neutral pronouns\n",
      "Predicting 100 examples\n"
     ]
    },
    {
     "name": "stderr",
     "output_type": "stream",
     "text": [
      "100%|██████████| 100/100 [00:02<00:00, 41.29docs/s]\n"
     ]
    }
   ],
   "source": [
    "suite.run(predict_regular5, overwrite=True)"
   ]
  },
  {
   "cell_type": "code",
   "execution_count": 18,
   "id": "34f503c6",
   "metadata": {
    "scrolled": true
   },
   "outputs": [
    {
     "name": "stdout",
     "output_type": "stream",
     "text": [
      "pronoun-pronoun\n",
      "\n",
      "Pronoun pronoun, gendered pronouns\n",
      "Test cases:      100\n",
      "Fails (rate):    22 (22.0%)\n",
      "\n",
      "Example fails:\n",
      "[('hij', '-'), ('gaat', '-'), ('naar', '-'), ('haar', '-'), ('buren.', '-')]\n",
      "----\n",
      "[('zij', '-'), ('gaat', '-'), ('naar', '-'), ('zijn', '-'), ('werk.', '-')]\n",
      "----\n",
      "[('zij', '-'), ('gaat', '-'), ('naar', '-'), ('zijn', '-'), ('werk.', '-')]\n",
      "----\n",
      "\n",
      "\n",
      "Pronoun pronoun, gender neutral pronouns\n",
      "Test cases:      100\n",
      "Fails (rate):    76 (76.0%)\n",
      "\n",
      "Example fails:\n",
      "[('hen', '-'), ('gaat', '-'), ('naar', '-'), ('diens', '-'), ('ouders.', '-')]\n",
      "----\n",
      "[('hen', '-'), ('gaat', '-'), ('naar', '-'), ('diens', '-'), ('ouders.', '-')]\n",
      "----\n",
      "[('die', '-'), ('gaat', '-'), ('naar', '-'), ('diens', '-'), ('afspraak.', '-')]\n",
      "----\n",
      "\n",
      "\n",
      "Pronoun pronoun, mixed pronouns\n",
      "Test cases:      100\n",
      "Fails (rate):    62 (62.0%)\n",
      "\n",
      "Example fails:\n",
      "[('hen', '-'), ('gaat', '-'), ('naar', '-'), ('hun', '-'), ('afspraak.', '-')]\n",
      "----\n",
      "[('die', '-'), ('gaat', '-'), ('naar', '-'), ('hun', '-'), ('werk.', '-')]\n",
      "----\n",
      "[('hen', '-'), ('gaat', '-'), ('naar', '-'), ('haar', '-'), ('dokter.', '-')]\n",
      "----\n",
      "\n",
      "\n",
      "\n",
      "\n",
      "Name pronoun link\n",
      "\n",
      "Name pronoun, gender neutral name, gendered pronouns\n",
      "Test cases:      100\n",
      "Fails (rate):    2 (2.0%)\n",
      "\n",
      "Example fails:\n",
      "[('Zilver', '-'), ('gaat', '-'), ('naar', '-'), ('haar', '-'), ('afspraak.', '-')]\n",
      "----\n",
      "[('Zilver', '-'), ('gaat', '-'), ('naar', '-'), ('haar', '-'), ('buren.', '-')]\n",
      "----\n",
      "\n",
      "\n",
      "Name pronoun, gender neutral name, gender neutral pronouns\n",
      "Test cases:      100\n",
      "Fails (rate):    50 (50.0%)\n",
      "\n",
      "Example fails:\n",
      "[('Charly', '-'), ('gaat', '-'), ('naar', '-'), ('diens', '-'), ('dokter.', '-')]\n",
      "----\n",
      "[('Jayden', '-'), ('gaat', '-'), ('naar', '-'), ('diens', '-'), ('dokter.', '-')]\n",
      "----\n",
      "[('Haven', '-'), ('gaat', '-'), ('naar', '-'), ('diens', '-'), ('dokter.', '-')]\n",
      "----\n",
      "\n",
      "\n",
      "Name pronoun, male name, gendered pronouns\n",
      "Test cases:      100\n",
      "Fails (rate):    1 (1.0%)\n",
      "\n",
      "Example fails:\n",
      "[('Mark', '-'), ('gaat', '-'), ('naar', '-'), ('haar', '-'), ('buren.', '-')]\n",
      "----\n",
      "\n",
      "\n",
      "Name pronoun, male name, gender neutral pronouns\n",
      "Test cases:      100\n",
      "Fails (rate):    50 (50.0%)\n",
      "\n",
      "Example fails:\n",
      "[('Christiaan', '-'), ('gaat', '-'), ('naar', '-'), ('diens', '-'), ('afspraak.', '-')]\n",
      "----\n",
      "[('Jacobus', '-'), ('gaat', '-'), ('naar', '-'), ('diens', '-'), ('interview.', '-')]\n",
      "----\n",
      "[('Wouter', '-'), ('gaat', '-'), ('naar', '-'), ('diens', '-'), ('buren.', '-')]\n",
      "----\n",
      "\n",
      "\n",
      "Name pronoun, female name, gendered pronouns\n",
      "Test cases:      100\n",
      "Fails (rate):    11 (11.0%)\n",
      "\n",
      "Example fails:\n",
      "[('Agnes', '-'), ('gaat', '-'), ('naar', '-'), ('zijn', '-'), ('werk.', '-')]\n",
      "----\n",
      "[('Anneke', '-'), ('gaat', '-'), ('naar', '-'), ('zijn', '-'), ('interview.', '-')]\n",
      "----\n",
      "[('Olga', '-'), ('gaat', '-'), ('naar', '-'), ('zijn', '-'), ('buren.', '-')]\n",
      "----\n",
      "\n",
      "\n",
      "Name pronoun, female name, gender neutral pronouns\n",
      "Test cases:      100\n",
      "Fails (rate):    46 (46.0%)\n",
      "\n",
      "Example fails:\n",
      "[('Helena', '-'), ('gaat', '-'), ('naar', '-'), ('diens', '-'), ('dokter.', '-')]\n",
      "----\n",
      "[('Annemarie', '-'), ('gaat', '-'), ('naar', '-'), ('diens', '-'), ('interview.', '-')]\n",
      "----\n",
      "[('Margriet', '-'), ('gaat', '-'), ('naar', '-'), ('diens', '-'), ('werk.', '-')]\n",
      "----\n",
      "\n",
      "\n",
      "\n",
      "\n",
      "die-die-amb\n",
      "\n",
      "Die-die ambiguity, gendered pronouns\n",
      "Test cases:      100\n",
      "Fails (rate):    24 (24.0%)\n",
      "\n",
      "Example fails:\n",
      "[('Haven', '-'), ('die', '-'), ('hier', '-'), ('net', '-'), ('werkt', '-'), ('is', '-'), ('te', '-'), ('laat', '-'), ('omdat', '-'), ('hij', '-'), ('een', '-'), ('lekke', '-'), ('band', '-'), ('had', '-'), ('.', '-')]\n",
      "----\n",
      "[('Camille', '-'), ('die', '-'), ('hier', '-'), ('net', '-'), ('werkt', '-'), ('is', '-'), ('te', '-'), ('laat', '-'), ('omdat', '-'), ('hij', '-'), ('een', '-'), ('lekke', '-'), ('band', '-'), ('had', '-'), ('.', '-')]\n",
      "----\n",
      "[('Ihme', '-'), ('die', '-'), ('hier', '-'), ('net', '-'), ('werkt', '-'), ('is', '-'), ('te', '-'), ('laat', '-'), ('omdat', '-'), ('zij', '-'), ('een', '-'), ('lekke', '-'), ('band', '-'), ('had', '-'), ('.', '-')]\n",
      "----\n",
      "\n",
      "\n",
      "Die-die ambiguity, gender neutral pronouns\n",
      "Test cases:      100\n",
      "Fails (rate):    20 (20.0%)\n",
      "\n",
      "Example fails:\n",
      "[('Marijn', '-'), ('die', '-'), ('hier', '-'), ('net', '-'), ('werkt', '-'), ('is', '-'), ('te', '-'), ('laat', '-'), ('omdat', '-'), ('die', '-'), ('een', '-'), ('lekke', '-'), ('band', '-'), ('had', '-'), ('.', '-')]\n",
      "----\n",
      "[('Haven', '-'), ('die', '-'), ('hier', '-'), ('net', '-'), ('werkt', '-'), ('is', '-'), ('te', '-'), ('laat', '-'), ('omdat', '-'), ('die', '-'), ('een', '-'), ('lekke', '-'), ('band', '-'), ('had', '-'), ('.', '-')]\n",
      "----\n",
      "[('Haven', '-'), ('die', '-'), ('hier', '-'), ('net', '-'), ('werkt', '-'), ('is', '-'), ('te', '-'), ('laat', '-'), ('omdat', '-'), ('die', '-'), ('een', '-'), ('lekke', '-'), ('band', '-'), ('had', '-'), ('.', '-')]\n",
      "----\n",
      "\n",
      "\n",
      "\n",
      "\n",
      "hen-hen-amb\n",
      "\n",
      "Hen-hen ambiguity, hen plural, gendered pronouns\n",
      "Test cases:      100\n",
      "Fails (rate):    6 (6.0%)\n",
      "\n",
      "Example fails:\n",
      "[('Roan', '-'), ('gaat', '-'), ('met', '-'), ('het', '-'), ('volleybalteam', '(0)'), ('op', '-'), ('vakantie.', '-'), ('zij', '(0)'), ('is', '-'), ('al', '-'), ('vaker', '-'), ('met', '-'), ('hen', '(0)'), ('weggeweest.', '-')]\n",
      "----\n",
      "[('Billie', '-'), ('gaat', '-'), ('met', '-'), ('het', '-'), ('volleybalteam', '(0)'), ('op', '-'), ('vakantie.', '-'), ('zij', '(0)'), ('is', '-'), ('al', '-'), ('vaker', '-'), ('met', '-'), ('hen', '(0)'), ('weggeweest.', '-')]\n",
      "----\n",
      "[('Jip', '-'), ('gaat', '-'), ('met', '-'), ('het', '-'), ('hockeyteam', '(0)'), ('op', '-'), ('vakantie.', '-'), ('zij', '-'), ('is', '-'), ('al', '-'), ('vaker', '-'), ('met', '-'), ('hen', '(0)'), ('weggeweest.', '-')]\n",
      "----\n",
      "\n",
      "\n",
      "Hen-hen ambiguity, hen plural, gender neutral pronouns\n",
      "Test cases:      100\n",
      "Fails (rate):    93 (93.0%)\n",
      "\n",
      "Example fails:\n",
      "[('Noé', '-'), ('gaat', '-'), ('met', '-'), ('het', '-'), ('honkbalteam', '(0)'), ('op', '-'), ('vakantie.', '-'), ('die', '(0)'), ('is', '-'), ('al', '-'), ('vaker', '-'), ('met', '-'), ('hen', '(0)'), ('weggeweest.', '-')]\n",
      "----\n",
      "[('René', '-'), ('gaat', '-'), ('met', '-'), ('het', '-'), ('basketbalteam', '(0)'), ('op', '-'), ('vakantie.', '-'), ('hen', '(0)'), ('is', '-'), ('al', '-'), ('vaker', '-'), ('met', '-'), ('hen', '(0)'), ('weggeweest.', '-')]\n",
      "----\n",
      "[('Madu', '-'), ('gaat', '-'), ('met', '-'), ('het', '-'), ('handbalteam', '(0)'), ('op', '-'), ('vakantie.', '-'), ('hen', '(0)'), ('is', '-'), ('al', '-'), ('vaker', '-'), ('met', '-'), ('hen', '(0)'), ('weggeweest.', '-')]\n",
      "----\n",
      "\n",
      "\n",
      "Hen-hen ambiguity, hen singular, gendered pronouns\n",
      "Test cases:      100\n",
      "Fails (rate):    27 (27.0%)\n",
      "\n",
      "Example fails:\n",
      "[('Ocean', '(0)'), ('gaat', '-'), ('met', '-'), ('het', '-'), ('voetbalteam', '-'), ('op', '-'), ('vakantie.', '-'), ('Zij', '(0)'), ('zijn', '-'), ('al', '-'), ('vaker', '-'), ('met', '-'), ('haar', '(0)'), ('weggeweest', '-'), ('.', '-')]\n",
      "----\n",
      "[('Rho', '(0)'), ('gaat', '-'), ('met', '-'), ('het', '-'), ('volleybalteam', '-'), ('op', '-'), ('vakantie.', '-'), ('Zij', '(0)'), ('zijn', '-'), ('al', '-'), ('vaker', '-'), ('met', '-'), ('haar', '(0)'), ('weggeweest', '-'), ('.', '-')]\n",
      "----\n",
      "[('Bowie', '(0)'), ('gaat', '-'), ('met', '-'), ('het', '-'), ('volleybalteam', '-'), ('op', '-'), ('vakantie.', '-'), ('Zij', '(0)'), ('zijn', '-'), ('al', '-'), ('vaker', '-'), ('met', '-'), ('haar', '(0)'), ('weggeweest', '-'), ('.', '-')]\n",
      "----\n",
      "\n",
      "\n",
      "Hen-hen ambiguity, hen singular, gender neutral pronouns\n",
      "Test cases:      100\n",
      "Fails (rate):    100 (100.0%)\n",
      "\n",
      "Example fails:\n",
      "[('Ezra', '-'), ('gaat', '-'), ('met', '-'), ('het', '-'), ('voetbalteam', '(0)'), ('op', '-'), ('vakantie.', '-'), ('Zij', '(0)'), ('zijn', '-'), ('al', '-'), ('vaker', '-'), ('met', '-'), ('hen', '(0)'), ('weggeweest', '-'), ('.', '-')]\n",
      "----\n",
      "[('Jules', '-'), ('gaat', '-'), ('met', '-'), ('het', '-'), ('handbalteam', '(0)'), ('op', '-'), ('vakantie.', '-'), ('Zij', '(0)'), ('zijn', '-'), ('al', '-'), ('vaker', '-'), ('met', '-'), ('hen', '(0)'), ('weggeweest', '-'), ('.', '-')]\n",
      "----\n",
      "[('Haven', '-'), ('gaat', '-'), ('met', '-'), ('het', '-'), ('honkbalteam', '(0)'), ('op', '-'), ('vakantie.', '-'), ('Zij', '(0)'), ('zijn', '-'), ('al', '-'), ('vaker', '-'), ('met', '-'), ('hen', '(0)'), ('weggeweest', '-'), ('.', '-')]\n",
      "----\n",
      "\n",
      "\n",
      "\n",
      "\n",
      "pronoun-pronoun-name\n",
      "\n",
      "Pronoun pronoun name, gendered pronouns\n",
      "Test cases:      100\n",
      "Fails (rate):    3 (3.0%)\n",
      "\n",
      "Example fails:\n",
      "[('Lyric', '(0)'), ('heeft', '-'), ('haar', '(0)'), ('afspraak', '-'), ('bij', '-'), ('de', '-'), ('buren', '-'), ('om', '-'), ('3', '-'), ('uur.', '-'), ('hij', '-'), ('gaat', '-'), ('zo', '-'), ('heen.', '-')]\n",
      "----\n",
      "[('Ihme', '(0)'), ('heeft', '-'), ('zijn', '(0)'), ('afspraak', '-'), ('bij', '-'), ('de', '-'), ('sportschool', '-'), ('om', '-'), ('3', '-'), ('uur.', '-'), ('zij', '-'), ('gaat', '-'), ('zo', '-'), ('heen.', '-')]\n",
      "----\n",
      "[('London', '(0)'), ('heeft', '-'), ('haar', '(0)'), ('afspraak', '-'), ('bij', '-'), ('de', '-'), ('buren', '-'), ('om', '-'), ('3', '-'), ('uur.', '-'), ('hij', '-'), ('gaat', '-'), ('zo', '-'), ('heen.', '-')]\n",
      "----\n",
      "\n",
      "\n",
      "Pronoun pronoun name, gender neutral pronouns\n",
      "Test cases:      100\n",
      "Fails (rate):    63 (63.0%)\n",
      "\n",
      "Example fails:\n",
      "[('Skye', '(0)'), ('heeft', '-'), ('hun', '(0)'), ('afspraak', '-'), ('bij', '-'), ('de', '-'), ('buren', '(1)'), ('om', '-'), ('3', '-'), ('uur.', '-'), ('die', '(1)'), ('gaat', '-'), ('zo', '-'), ('heen.', '-')]\n",
      "----\n",
      "[('Jackie', '(0)'), ('heeft', '-'), ('hun', '(0)'), ('afspraak', '-'), ('bij', '-'), ('de', '-'), ('dokters', '(1)'), ('om', '-'), ('3', '-'), ('uur.', '-'), ('die', '(1)'), ('gaat', '-'), ('zo', '-'), ('heen.', '-')]\n",
      "----\n",
      "[('Marijn', '-'), ('heeft', '-'), ('hun', '-'), ('afspraak', '-'), ('bij', '-'), ('de', '-'), ('winkel', '-'), ('om', '-'), ('3', '-'), ('uur.', '-'), ('die', '-'), ('gaat', '-'), ('zo', '-'), ('heen.', '-')]\n",
      "----\n",
      "\n",
      "\n",
      "Pronoun pronoun name, mixed pronouns\n",
      "Test cases:      100\n",
      "Fails (rate):    53 (53.0%)\n",
      "\n",
      "Example fails:\n",
      "[('Lyric', '(0)'), ('heeft', '-'), ('zijn', '(0)'), ('afspraak', '-'), ('bij', '-'), ('de', '-'), ('buren', '(1)'), ('om', '-'), ('3', '-'), ('uur.', '-'), ('die', '(1)'), ('gaat', '-'), ('zo', '-'), ('heen.', '-')]\n",
      "----\n",
      "[('River', '-'), ('heeft', '-'), ('diens', '-'), ('afspraak', '-'), ('bij', '-'), ('de', '-'), ('buren', '(0)'), ('om', '-'), ('3', '-'), ('uur.', '-'), ('die', '(0)'), ('gaat', '-'), ('zo', '-'), ('heen.', '-')]\n",
      "----\n",
      "[('Micha', '(0)'), ('heeft', '-'), ('hun', '(0)'), ('afspraak', '-'), ('bij', '-'), ('de', '-'), ('gemeente', '(1)'), ('om', '-'), ('3', '-'), ('uur.', '-'), ('die', '(1)'), ('gaat', '-'), ('zo', '-'), ('heen.', '-')]\n",
      "----\n",
      "\n",
      "\n",
      "\n",
      "\n"
     ]
    }
   ],
   "source": [
    "suite.summary(format_example_fn = format_sent)"
   ]
  },
  {
   "cell_type": "markdown",
   "id": "46fa66ec",
   "metadata": {},
   "source": [
    "# Eval debiased model, using 5 seeds"
   ]
  },
  {
   "cell_type": "code",
   "execution_count": 17,
   "id": "c8d49472",
   "metadata": {
    "scrolled": true
   },
   "outputs": [
    {
     "name": "stdout",
     "output_type": "stream",
     "text": [
      "Running Name pronoun, gender neutral name, gendered pronouns\n",
      "Predicting 100 examples\n"
     ]
    },
    {
     "name": "stderr",
     "output_type": "stream",
     "text": [
      "100%|██████████| 100/100 [00:02<00:00, 39.85docs/s]\n"
     ]
    },
    {
     "name": "stdout",
     "output_type": "stream",
     "text": [
      "Running Name pronoun, gender neutral name, gender neutral pronouns\n",
      "Predicting 100 examples\n"
     ]
    },
    {
     "name": "stderr",
     "output_type": "stream",
     "text": [
      "100%|██████████| 100/100 [00:02<00:00, 40.44docs/s]\n"
     ]
    },
    {
     "name": "stdout",
     "output_type": "stream",
     "text": [
      "Running Name pronoun, male name, gendered pronouns\n",
      "Predicting 100 examples\n"
     ]
    },
    {
     "name": "stderr",
     "output_type": "stream",
     "text": [
      "100%|██████████| 100/100 [00:02<00:00, 40.41docs/s]\n"
     ]
    },
    {
     "name": "stdout",
     "output_type": "stream",
     "text": [
      "Running Name pronoun, male name, gender neutral pronouns\n",
      "Predicting 100 examples\n"
     ]
    },
    {
     "name": "stderr",
     "output_type": "stream",
     "text": [
      "100%|██████████| 100/100 [00:02<00:00, 40.41docs/s]\n"
     ]
    },
    {
     "name": "stdout",
     "output_type": "stream",
     "text": [
      "Running Name pronoun, female name, gendered pronouns\n",
      "Predicting 100 examples\n"
     ]
    },
    {
     "name": "stderr",
     "output_type": "stream",
     "text": [
      "100%|██████████| 100/100 [00:02<00:00, 40.45docs/s]\n"
     ]
    },
    {
     "name": "stdout",
     "output_type": "stream",
     "text": [
      "Running Name pronoun, female name, gender neutral pronouns\n",
      "Predicting 100 examples\n"
     ]
    },
    {
     "name": "stderr",
     "output_type": "stream",
     "text": [
      "100%|██████████| 100/100 [00:02<00:00, 40.48docs/s]\n"
     ]
    },
    {
     "name": "stdout",
     "output_type": "stream",
     "text": [
      "Running Pronoun pronoun, gendered pronouns\n",
      "Predicting 100 examples\n"
     ]
    },
    {
     "name": "stderr",
     "output_type": "stream",
     "text": [
      "100%|██████████| 100/100 [00:02<00:00, 40.39docs/s]\n"
     ]
    },
    {
     "name": "stdout",
     "output_type": "stream",
     "text": [
      "Running Pronoun pronoun, gender neutral pronouns\n",
      "Predicting 100 examples\n"
     ]
    },
    {
     "name": "stderr",
     "output_type": "stream",
     "text": [
      "100%|██████████| 100/100 [00:02<00:00, 40.48docs/s]\n"
     ]
    },
    {
     "name": "stdout",
     "output_type": "stream",
     "text": [
      "Running Pronoun pronoun, mixed pronouns\n",
      "Predicting 100 examples\n"
     ]
    },
    {
     "name": "stderr",
     "output_type": "stream",
     "text": [
      "100%|██████████| 100/100 [00:02<00:00, 40.47docs/s]\n"
     ]
    },
    {
     "name": "stdout",
     "output_type": "stream",
     "text": [
      "Running Pronoun pronoun name, gendered pronouns\n",
      "Predicting 100 examples\n"
     ]
    },
    {
     "name": "stderr",
     "output_type": "stream",
     "text": [
      "100%|██████████| 100/100 [00:02<00:00, 40.13docs/s]\n"
     ]
    },
    {
     "name": "stdout",
     "output_type": "stream",
     "text": [
      "Running Pronoun pronoun name, gender neutral pronouns\n",
      "Predicting 100 examples\n"
     ]
    },
    {
     "name": "stderr",
     "output_type": "stream",
     "text": [
      "100%|██████████| 100/100 [00:02<00:00, 40.33docs/s]\n"
     ]
    },
    {
     "name": "stdout",
     "output_type": "stream",
     "text": [
      "Running Pronoun pronoun name, mixed pronouns\n",
      "Predicting 100 examples\n"
     ]
    },
    {
     "name": "stderr",
     "output_type": "stream",
     "text": [
      "100%|██████████| 100/100 [00:02<00:00, 40.24docs/s]\n"
     ]
    },
    {
     "name": "stdout",
     "output_type": "stream",
     "text": [
      "Running Hen-hen ambiguity, hen plural, gendered pronouns\n",
      "Predicting 100 examples\n"
     ]
    },
    {
     "name": "stderr",
     "output_type": "stream",
     "text": [
      "100%|██████████| 100/100 [00:02<00:00, 40.26docs/s]\n"
     ]
    },
    {
     "name": "stdout",
     "output_type": "stream",
     "text": [
      "Running Hen-hen ambiguity, hen plural, gender neutral pronouns\n",
      "Predicting 100 examples\n"
     ]
    },
    {
     "name": "stderr",
     "output_type": "stream",
     "text": [
      "100%|██████████| 100/100 [00:02<00:00, 40.42docs/s]\n"
     ]
    },
    {
     "name": "stdout",
     "output_type": "stream",
     "text": [
      "Running Hen-hen ambiguity, hen singular, gendered pronouns\n",
      "Predicting 100 examples\n"
     ]
    },
    {
     "name": "stderr",
     "output_type": "stream",
     "text": [
      "100%|██████████| 100/100 [00:02<00:00, 40.33docs/s]\n"
     ]
    },
    {
     "name": "stdout",
     "output_type": "stream",
     "text": [
      "Running Hen-hen ambiguity, hen singular, gender neutral pronouns\n",
      "Predicting 100 examples\n"
     ]
    },
    {
     "name": "stderr",
     "output_type": "stream",
     "text": [
      "100%|██████████| 100/100 [00:02<00:00, 40.38docs/s]\n"
     ]
    },
    {
     "name": "stdout",
     "output_type": "stream",
     "text": [
      "Running Die-die ambiguity, gendered pronouns\n",
      "Predicting 100 examples\n"
     ]
    },
    {
     "name": "stderr",
     "output_type": "stream",
     "text": [
      "100%|██████████| 100/100 [00:02<00:00, 40.43docs/s]\n"
     ]
    },
    {
     "name": "stdout",
     "output_type": "stream",
     "text": [
      "Running Die-die ambiguity, gender neutral pronouns\n",
      "Predicting 100 examples\n"
     ]
    },
    {
     "name": "stderr",
     "output_type": "stream",
     "text": [
      "100%|██████████| 100/100 [00:02<00:00, 40.65docs/s]\n"
     ]
    }
   ],
   "source": [
    "suite.run(predict_debiased1, overwrite=True)"
   ]
  },
  {
   "cell_type": "code",
   "execution_count": 18,
   "id": "756906ca",
   "metadata": {
    "scrolled": true
   },
   "outputs": [
    {
     "name": "stdout",
     "output_type": "stream",
     "text": [
      "pronoun-pronoun-name\n",
      "\n",
      "Pronoun pronoun name, gendered pronouns\n",
      "Test cases:      100\n",
      "Fails (rate):    0 (0.0%)\n",
      "\n",
      "\n",
      "Pronoun pronoun name, gender neutral pronouns\n",
      "Test cases:      100\n",
      "Fails (rate):    0 (0.0%)\n",
      "\n",
      "\n",
      "Pronoun pronoun name, mixed pronouns\n",
      "Test cases:      100\n",
      "Fails (rate):    0 (0.0%)\n",
      "\n",
      "\n",
      "\n",
      "\n",
      "Name pronoun link\n",
      "\n",
      "Name pronoun, gender neutral name, gendered pronouns\n",
      "Test cases:      100\n",
      "Fails (rate):    1 (1.0%)\n",
      "\n",
      "Example fails:\n",
      "[('London', '-'), ('gaat', '-'), ('naar', '-'), ('zijn', '-'), ('interview.', '-')]\n",
      "----\n",
      "\n",
      "\n",
      "Name pronoun, gender neutral name, gender neutral pronouns\n",
      "Test cases:      100\n",
      "Fails (rate):    0 (0.0%)\n",
      "\n",
      "\n",
      "Name pronoun, male name, gendered pronouns\n",
      "Test cases:      100\n",
      "Fails (rate):    0 (0.0%)\n",
      "\n",
      "\n",
      "Name pronoun, male name, gender neutral pronouns\n",
      "Test cases:      100\n",
      "Fails (rate):    1 (1.0%)\n",
      "\n",
      "Example fails:\n",
      "[('Cor', '-'), ('gaat', '-'), ('naar', '-'), ('hun', '-'), ('interview.', '-')]\n",
      "----\n",
      "\n",
      "\n",
      "Name pronoun, female name, gendered pronouns\n",
      "Test cases:      100\n",
      "Fails (rate):    0 (0.0%)\n",
      "\n",
      "\n",
      "Name pronoun, female name, gender neutral pronouns\n",
      "Test cases:      100\n",
      "Fails (rate):    0 (0.0%)\n",
      "\n",
      "\n",
      "\n",
      "\n",
      "die-die-amb\n",
      "\n",
      "Die-die ambiguity, gendered pronouns\n",
      "Test cases:      100\n",
      "Fails (rate):    4 (4.0%)\n",
      "\n",
      "Example fails:\n",
      "[('Lyric', '-'), ('die', '-'), ('hier', '-'), ('net', '-'), ('werkt', '-'), ('is', '-'), ('te', '-'), ('laat', '-'), ('omdat', '-'), ('zij', '-'), ('een', '-'), ('lekke', '-'), ('band', '-'), ('had', '-'), ('.', '-')]\n",
      "----\n",
      "[('Jip', '-'), ('die', '-'), ('hier', '-'), ('net', '-'), ('werkt', '-'), ('is', '-'), ('te', '-'), ('laat', '-'), ('omdat', '-'), ('zij', '-'), ('een', '-'), ('lekke', '-'), ('band', '-'), ('had', '-'), ('.', '-')]\n",
      "----\n",
      "[('Lyric', '-'), ('die', '-'), ('hier', '-'), ('net', '-'), ('werkt', '-'), ('is', '-'), ('te', '-'), ('laat', '-'), ('omdat', '-'), ('zij', '-'), ('een', '-'), ('lekke', '-'), ('band', '-'), ('had', '-'), ('.', '-')]\n",
      "----\n",
      "\n",
      "\n",
      "Die-die ambiguity, gender neutral pronouns\n",
      "Test cases:      100\n",
      "Fails (rate):    10 (10.0%)\n",
      "\n",
      "Example fails:\n",
      "[('Riv', '-'), ('die', '-'), ('hier', '-'), ('net', '-'), ('werkt', '-'), ('is', '-'), ('te', '-'), ('laat', '-'), ('omdat', '-'), ('die', '-'), ('een', '-'), ('lekke', '-'), ('band', '-'), ('had', '-'), ('.', '-')]\n",
      "----\n",
      "[('Moss', '-'), ('die', '-'), ('hier', '-'), ('net', '-'), ('werkt', '-'), ('is', '-'), ('te', '-'), ('laat', '-'), ('omdat', '-'), ('die', '-'), ('een', '-'), ('lekke', '-'), ('band', '-'), ('had', '-'), ('.', '-')]\n",
      "----\n",
      "[('Riv', '-'), ('die', '-'), ('hier', '-'), ('net', '-'), ('werkt', '-'), ('is', '-'), ('te', '-'), ('laat', '-'), ('omdat', '-'), ('die', '-'), ('een', '-'), ('lekke', '-'), ('band', '-'), ('had', '-'), ('.', '-')]\n",
      "----\n",
      "\n",
      "\n",
      "\n",
      "\n",
      "hen-hen-amb\n",
      "\n",
      "Hen-hen ambiguity, hen plural, gendered pronouns\n",
      "Test cases:      100\n",
      "Fails (rate):    79 (79.0%)\n",
      "\n",
      "Example fails:\n",
      "[('Luka', '(0)'), ('gaat', '-'), ('met', '-'), ('het', '-'), ('basketbalteam', '(1)'), ('op', '-'), ('vakantie.', '-'), ('zij', '(1)'), ('is', '-'), ('al', '-'), ('vaker', '-'), ('met', '-'), ('hen', '(0)'), ('weggeweest.', '-')]\n",
      "----\n",
      "[('Novi', '(0)'), ('gaat', '-'), ('met', '-'), ('het', '-'), ('basketbalteam', '-'), ('op', '-'), ('vakantie.', '-'), ('zij', '(0)'), ('is', '-'), ('al', '-'), ('vaker', '-'), ('met', '-'), ('hen', '(0)'), ('weggeweest.', '-')]\n",
      "----\n",
      "[('Robin', '(0)'), ('gaat', '-'), ('met', '-'), ('het', '-'), ('hockeyteam', '(1)'), ('op', '-'), ('vakantie.', '-'), ('zij', '(1)'), ('is', '-'), ('al', '-'), ('vaker', '-'), ('met', '-'), ('hen', '(0)'), ('weggeweest.', '-')]\n",
      "----\n",
      "\n",
      "\n",
      "Hen-hen ambiguity, hen plural, gender neutral pronouns\n",
      "Test cases:      100\n",
      "Fails (rate):    95 (95.0%)\n",
      "\n",
      "Example fails:\n",
      "[('Arbor', '(0)'), ('gaat', '-'), ('met', '-'), ('het', '-'), ('voetbalteam', '-'), ('op', '-'), ('vakantie.', '-'), ('die', '(0)'), ('is', '-'), ('al', '-'), ('vaker', '-'), ('met', '-'), ('hen', '(0)'), ('weggeweest.', '-')]\n",
      "----\n",
      "[('Noé', '(0)'), ('gaat', '-'), ('met', '-'), ('het', '-'), ('honkbalteam', '-'), ('op', '-'), ('vakantie.', '-'), ('die', '(0)'), ('is', '-'), ('al', '-'), ('vaker', '-'), ('met', '-'), ('hen', '(0)'), ('weggeweest.', '-')]\n",
      "----\n",
      "[('Jamie', '(0)'), ('gaat', '-'), ('met', '-'), ('het', '-'), ('hockeyteam', '-'), ('op', '-'), ('vakantie.', '-'), ('hen', '(0)'), ('is', '-'), ('al', '-'), ('vaker', '-'), ('met', '-'), ('hen', '(0)'), ('weggeweest.', '-')]\n",
      "----\n",
      "\n",
      "\n",
      "Hen-hen ambiguity, hen singular, gendered pronouns\n",
      "Test cases:      100\n",
      "Fails (rate):    2 (2.0%)\n",
      "\n",
      "Example fails:\n",
      "[('Riv', '-'), ('gaat', '-'), ('met', '-'), ('het', '-'), ('softbalteam', '(0)'), ('op', '-'), ('vakantie.', '-'), ('Zij', '(0)'), ('zijn', '-'), ('al', '-'), ('vaker', '-'), ('met', '-'), ('hem', '(0)'), ('weggeweest', '-'), ('.', '-')]\n",
      "----\n",
      "[('Everest', '-'), ('gaat', '-'), ('met', '-'), ('het', '-'), ('basketbalteam', '(0)'), ('op', '-'), ('vakantie.', '-'), ('Zij', '(0)'), ('zijn', '-'), ('al', '-'), ('vaker', '-'), ('met', '-'), ('haar', '(0)'), ('weggeweest', '-'), ('.', '-')]\n",
      "----\n",
      "\n",
      "\n",
      "Hen-hen ambiguity, hen singular, gender neutral pronouns\n",
      "Test cases:      100\n",
      "Fails (rate):    21 (21.0%)\n",
      "\n",
      "Example fails:\n",
      "[('Haven', '-'), ('gaat', '-'), ('met', '-'), ('het', '-'), ('voetbalteam', '(0)'), ('op', '-'), ('vakantie.', '-'), ('Zij', '(0)'), ('zijn', '-'), ('al', '-'), ('vaker', '-'), ('met', '-'), ('hen', '(0)'), ('weggeweest', '-'), ('.', '-')]\n",
      "----\n",
      "[('Rho', '-'), ('gaat', '-'), ('met', '-'), ('het', '-'), ('handbalteam', '(0)'), ('op', '-'), ('vakantie.', '-'), ('Zij', '(0)'), ('zijn', '-'), ('al', '-'), ('vaker', '-'), ('met', '-'), ('hen', '(0)'), ('weggeweest', '-'), ('.', '-')]\n",
      "----\n",
      "[('Arbor', '-'), ('gaat', '-'), ('met', '-'), ('het', '-'), ('handbalteam', '(0)'), ('op', '-'), ('vakantie.', '-'), ('Zij', '(0)'), ('zijn', '-'), ('al', '-'), ('vaker', '-'), ('met', '-'), ('hen', '(0)'), ('weggeweest', '-'), ('.', '-')]\n",
      "----\n",
      "\n",
      "\n",
      "\n",
      "\n",
      "pronoun-pronoun\n",
      "\n",
      "Pronoun pronoun, gendered pronouns\n",
      "Test cases:      100\n",
      "Fails (rate):    0 (0.0%)\n",
      "\n",
      "\n",
      "Pronoun pronoun, gender neutral pronouns\n",
      "Test cases:      100\n",
      "Fails (rate):    0 (0.0%)\n",
      "\n",
      "\n",
      "Pronoun pronoun, mixed pronouns\n",
      "Test cases:      100\n",
      "Fails (rate):    0 (0.0%)\n",
      "\n",
      "\n",
      "\n",
      "\n"
     ]
    }
   ],
   "source": [
    "suite.summary(format_example_fn = format_sent)"
   ]
  },
  {
   "cell_type": "code",
   "execution_count": 15,
   "id": "42ea3d8d",
   "metadata": {
    "scrolled": true
   },
   "outputs": [
    {
     "name": "stdout",
     "output_type": "stream",
     "text": [
      "Running Name pronoun, gender neutral name, gendered pronouns\n",
      "Predicting 100 examples\n"
     ]
    },
    {
     "name": "stderr",
     "output_type": "stream",
     "text": [
      "100%|██████████| 100/100 [00:03<00:00, 27.32docs/s]\n"
     ]
    },
    {
     "name": "stdout",
     "output_type": "stream",
     "text": [
      "Running Name pronoun, gender neutral name, gender neutral pronouns\n",
      "Predicting 100 examples\n"
     ]
    },
    {
     "name": "stderr",
     "output_type": "stream",
     "text": [
      "100%|██████████| 100/100 [00:02<00:00, 40.70docs/s]\n"
     ]
    },
    {
     "name": "stdout",
     "output_type": "stream",
     "text": [
      "Running Name pronoun, male name, gendered pronouns\n",
      "Predicting 100 examples\n"
     ]
    },
    {
     "name": "stderr",
     "output_type": "stream",
     "text": [
      "100%|██████████| 100/100 [00:02<00:00, 40.72docs/s]\n"
     ]
    },
    {
     "name": "stdout",
     "output_type": "stream",
     "text": [
      "Running Name pronoun, male name, gender neutral pronouns\n",
      "Predicting 100 examples\n"
     ]
    },
    {
     "name": "stderr",
     "output_type": "stream",
     "text": [
      "100%|██████████| 100/100 [00:02<00:00, 40.67docs/s]\n"
     ]
    },
    {
     "name": "stdout",
     "output_type": "stream",
     "text": [
      "Running Name pronoun, female name, gendered pronouns\n",
      "Predicting 100 examples\n"
     ]
    },
    {
     "name": "stderr",
     "output_type": "stream",
     "text": [
      "100%|██████████| 100/100 [00:02<00:00, 40.76docs/s]\n"
     ]
    },
    {
     "name": "stdout",
     "output_type": "stream",
     "text": [
      "Running Name pronoun, female name, gender neutral pronouns\n",
      "Predicting 100 examples\n"
     ]
    },
    {
     "name": "stderr",
     "output_type": "stream",
     "text": [
      "100%|██████████| 100/100 [00:02<00:00, 40.81docs/s]\n"
     ]
    },
    {
     "name": "stdout",
     "output_type": "stream",
     "text": [
      "Running Pronoun pronoun, gendered pronouns\n",
      "Predicting 100 examples\n"
     ]
    },
    {
     "name": "stderr",
     "output_type": "stream",
     "text": [
      "100%|██████████| 100/100 [00:02<00:00, 40.74docs/s]\n"
     ]
    },
    {
     "name": "stdout",
     "output_type": "stream",
     "text": [
      "Running Pronoun pronoun, gender neutral pronouns\n",
      "Predicting 100 examples\n"
     ]
    },
    {
     "name": "stderr",
     "output_type": "stream",
     "text": [
      "100%|██████████| 100/100 [00:02<00:00, 40.72docs/s]\n"
     ]
    },
    {
     "name": "stdout",
     "output_type": "stream",
     "text": [
      "Running Pronoun pronoun, mixed pronouns\n",
      "Predicting 100 examples\n"
     ]
    },
    {
     "name": "stderr",
     "output_type": "stream",
     "text": [
      "100%|██████████| 100/100 [00:02<00:00, 40.78docs/s]\n"
     ]
    },
    {
     "name": "stdout",
     "output_type": "stream",
     "text": [
      "Running Pronoun pronoun name, gendered pronouns\n",
      "Predicting 100 examples\n"
     ]
    },
    {
     "name": "stderr",
     "output_type": "stream",
     "text": [
      "100%|██████████| 100/100 [00:02<00:00, 40.62docs/s]\n"
     ]
    },
    {
     "name": "stdout",
     "output_type": "stream",
     "text": [
      "Running Pronoun pronoun name, gender neutral pronouns\n",
      "Predicting 100 examples\n"
     ]
    },
    {
     "name": "stderr",
     "output_type": "stream",
     "text": [
      "100%|██████████| 100/100 [00:02<00:00, 40.73docs/s]\n"
     ]
    },
    {
     "name": "stdout",
     "output_type": "stream",
     "text": [
      "Running Pronoun pronoun name, mixed pronouns\n",
      "Predicting 100 examples\n"
     ]
    },
    {
     "name": "stderr",
     "output_type": "stream",
     "text": [
      "100%|██████████| 100/100 [00:02<00:00, 40.62docs/s]\n"
     ]
    },
    {
     "name": "stdout",
     "output_type": "stream",
     "text": [
      "Running Hen-hen ambiguity, hen plural, gendered pronouns\n",
      "Predicting 100 examples\n"
     ]
    },
    {
     "name": "stderr",
     "output_type": "stream",
     "text": [
      "100%|██████████| 100/100 [00:02<00:00, 40.62docs/s]\n"
     ]
    },
    {
     "name": "stdout",
     "output_type": "stream",
     "text": [
      "Running Hen-hen ambiguity, hen plural, gender neutral pronouns\n",
      "Predicting 100 examples\n"
     ]
    },
    {
     "name": "stderr",
     "output_type": "stream",
     "text": [
      "100%|██████████| 100/100 [00:02<00:00, 40.67docs/s]\n"
     ]
    },
    {
     "name": "stdout",
     "output_type": "stream",
     "text": [
      "Running Hen-hen ambiguity, hen singular, gendered pronouns\n",
      "Predicting 100 examples\n"
     ]
    },
    {
     "name": "stderr",
     "output_type": "stream",
     "text": [
      "100%|██████████| 100/100 [00:02<00:00, 40.70docs/s]\n"
     ]
    },
    {
     "name": "stdout",
     "output_type": "stream",
     "text": [
      "Running Hen-hen ambiguity, hen singular, gender neutral pronouns\n",
      "Predicting 100 examples\n"
     ]
    },
    {
     "name": "stderr",
     "output_type": "stream",
     "text": [
      "100%|██████████| 100/100 [00:02<00:00, 40.65docs/s]\n"
     ]
    },
    {
     "name": "stdout",
     "output_type": "stream",
     "text": [
      "Running Die-die ambiguity, gendered pronouns\n",
      "Predicting 100 examples\n"
     ]
    },
    {
     "name": "stderr",
     "output_type": "stream",
     "text": [
      "100%|██████████| 100/100 [00:02<00:00, 40.60docs/s]\n"
     ]
    },
    {
     "name": "stdout",
     "output_type": "stream",
     "text": [
      "Running Die-die ambiguity, gender neutral pronouns\n",
      "Predicting 100 examples\n"
     ]
    },
    {
     "name": "stderr",
     "output_type": "stream",
     "text": [
      "100%|██████████| 100/100 [00:02<00:00, 40.78docs/s]\n"
     ]
    }
   ],
   "source": [
    "suite.run(predict_debiased2, overwrite=True)"
   ]
  },
  {
   "cell_type": "code",
   "execution_count": 16,
   "id": "ac9cca07",
   "metadata": {
    "scrolled": false
   },
   "outputs": [
    {
     "name": "stdout",
     "output_type": "stream",
     "text": [
      "die-die-amb\n",
      "\n",
      "Die-die ambiguity, gendered pronouns\n",
      "Test cases:      100\n",
      "Fails (rate):    3 (3.0%)\n",
      "\n",
      "Example fails:\n",
      "[('Lyric', '-'), ('die', '-'), ('hier', '-'), ('net', '-'), ('werkt', '-'), ('is', '-'), ('te', '-'), ('laat', '-'), ('omdat', '-'), ('zij', '-'), ('een', '-'), ('lekke', '-'), ('band', '-'), ('had', '-'), ('.', '-')]\n",
      "----\n",
      "[('Jazz', '-'), ('die', '-'), ('hier', '-'), ('net', '-'), ('werkt', '-'), ('is', '-'), ('te', '-'), ('laat', '-'), ('omdat', '-'), ('zij', '-'), ('een', '-'), ('lekke', '-'), ('band', '-'), ('had', '-'), ('.', '-')]\n",
      "----\n",
      "[('Lyric', '-'), ('die', '-'), ('hier', '-'), ('net', '-'), ('werkt', '-'), ('is', '-'), ('te', '-'), ('laat', '-'), ('omdat', '-'), ('zij', '-'), ('een', '-'), ('lekke', '-'), ('band', '-'), ('had', '-'), ('.', '-')]\n",
      "----\n",
      "\n",
      "\n",
      "Die-die ambiguity, gender neutral pronouns\n",
      "Test cases:      100\n",
      "Fails (rate):    5 (5.0%)\n",
      "\n",
      "Example fails:\n",
      "[('Haven', '-'), ('die', '(0)'), ('hier', '-'), ('net', '-'), ('werkt', '-'), ('is', '-'), ('te', '-'), ('laat', '-'), ('omdat', '-'), ('die', '(0)'), ('een', '-'), ('lekke', '-'), ('band', '-'), ('had', '-'), ('.', '-')]\n",
      "----\n",
      "[('Lyric', '-'), ('die', '-'), ('hier', '-'), ('net', '-'), ('werkt', '-'), ('is', '-'), ('te', '-'), ('laat', '-'), ('omdat', '-'), ('die', '-'), ('een', '-'), ('lekke', '-'), ('band', '-'), ('had', '-'), ('.', '-')]\n",
      "----\n",
      "[('Bo', '-'), ('die', '-'), ('hier', '-'), ('net', '-'), ('werkt', '-'), ('is', '-'), ('te', '-'), ('laat', '-'), ('omdat', '-'), ('die', '-'), ('een', '-'), ('lekke', '-'), ('band', '-'), ('had', '-'), ('.', '-')]\n",
      "----\n",
      "\n",
      "\n",
      "\n",
      "\n",
      "pronoun-pronoun\n",
      "\n",
      "Pronoun pronoun, gendered pronouns\n",
      "Test cases:      100\n",
      "Fails (rate):    0 (0.0%)\n",
      "\n",
      "\n",
      "Pronoun pronoun, gender neutral pronouns\n",
      "Test cases:      100\n",
      "Fails (rate):    0 (0.0%)\n",
      "\n",
      "\n",
      "Pronoun pronoun, mixed pronouns\n",
      "Test cases:      100\n",
      "Fails (rate):    0 (0.0%)\n",
      "\n",
      "\n",
      "\n",
      "\n",
      "hen-hen-amb\n",
      "\n",
      "Hen-hen ambiguity, hen plural, gendered pronouns\n",
      "Test cases:      100\n",
      "Fails (rate):    94 (94.0%)\n",
      "\n",
      "Example fails:\n",
      "[('Lou', '(0)'), ('gaat', '-'), ('met', '-'), ('het', '-'), ('handbalteam', '-'), ('op', '-'), ('vakantie.', '-'), ('hij', '(0)'), ('is', '-'), ('al', '-'), ('vaker', '-'), ('met', '-'), ('hen', '(0)'), ('weggeweest.', '-')]\n",
      "----\n",
      "[('René', '(0)'), ('gaat', '-'), ('met', '-'), ('het', '-'), ('handbalteam', '-'), ('op', '-'), ('vakantie.', '-'), ('hij', '(0)'), ('is', '-'), ('al', '-'), ('vaker', '-'), ('met', '-'), ('hen', '(0)'), ('weggeweest.', '-')]\n",
      "----\n",
      "[('Ihme', '(0)'), ('gaat', '-'), ('met', '-'), ('het', '-'), ('basketbalteam', '-'), ('op', '-'), ('vakantie.', '-'), ('hij', '(0)'), ('is', '-'), ('al', '-'), ('vaker', '-'), ('met', '-'), ('hen', '(0)'), ('weggeweest.', '-')]\n",
      "----\n",
      "\n",
      "\n",
      "Hen-hen ambiguity, hen plural, gender neutral pronouns\n",
      "Test cases:      100\n",
      "Fails (rate):    95 (95.0%)\n",
      "\n",
      "Example fails:\n",
      "[('Reese', '(0)'), ('gaat', '-'), ('met', '-'), ('het', '-'), ('hockeyteam', '-'), ('op', '-'), ('vakantie.', '-'), ('hen', '(0)'), ('is', '-'), ('al', '-'), ('vaker', '-'), ('met', '-'), ('hen', '(0)'), ('weggeweest.', '-')]\n",
      "----\n",
      "[('Dominique', '(0)'), ('gaat', '-'), ('met', '-'), ('het', '-'), ('hockeyteam', '-'), ('op', '-'), ('vakantie.', '-'), ('die', '(0)'), ('is', '-'), ('al', '-'), ('vaker', '-'), ('met', '-'), ('hen', '(0)'), ('weggeweest.', '-')]\n",
      "----\n",
      "[('Harper', '(0)'), ('gaat', '-'), ('met', '-'), ('het', '-'), ('hockeyteam', '-'), ('op', '-'), ('vakantie.', '-'), ('die', '(0)'), ('is', '-'), ('al', '-'), ('vaker', '-'), ('met', '-'), ('hen', '(0)'), ('weggeweest.', '-')]\n",
      "----\n",
      "\n",
      "\n",
      "Hen-hen ambiguity, hen singular, gendered pronouns\n",
      "Test cases:      100\n",
      "Fails (rate):    82 (82.0%)\n",
      "\n",
      "Example fails:\n",
      "[('Arbor', '(0)'), ('gaat', '-'), ('met', '-'), ('het', '-'), ('handbalteam', '-'), ('op', '-'), ('vakantie.', '-'), ('Zij', '-'), ('zijn', '-'), ('al', '-'), ('vaker', '-'), ('met', '-'), ('hem', '(0)'), ('weggeweest', '-'), ('.', '-')]\n",
      "----\n",
      "[('Bobby', '(0)'), ('gaat', '-'), ('met', '-'), ('het', '-'), ('handbalteam', '-'), ('op', '-'), ('vakantie.', '-'), ('Zij', '-'), ('zijn', '-'), ('al', '-'), ('vaker', '-'), ('met', '-'), ('haar', '(0)'), ('weggeweest', '-'), ('.', '-')]\n",
      "----\n",
      "[('Rho', '(0)'), ('gaat', '-'), ('met', '-'), ('het', '-'), ('volleybalteam', '-'), ('op', '-'), ('vakantie.', '-'), ('Zij', '-'), ('zijn', '-'), ('al', '-'), ('vaker', '-'), ('met', '-'), ('haar', '(0)'), ('weggeweest', '-'), ('.', '-')]\n",
      "----\n",
      "\n",
      "\n",
      "Hen-hen ambiguity, hen singular, gender neutral pronouns\n",
      "Test cases:      100\n",
      "Fails (rate):    76 (76.0%)\n",
      "\n",
      "Example fails:\n",
      "[('Camille', '(0)'), ('gaat', '-'), ('met', '-'), ('het', '-'), ('basketbalteam', '-'), ('op', '-'), ('vakantie.', '-'), ('Zij', '-'), ('zijn', '-'), ('al', '-'), ('vaker', '-'), ('met', '-'), ('hen', '(0)'), ('weggeweest', '-'), ('.', '-')]\n",
      "----\n",
      "[('Renée', '(0)'), ('gaat', '-'), ('met', '-'), ('het', '-'), ('softbalteam', '-'), ('op', '-'), ('vakantie.', '-'), ('Zij', '-'), ('zijn', '-'), ('al', '-'), ('vaker', '-'), ('met', '-'), ('hen', '(0)'), ('weggeweest', '-'), ('.', '-')]\n",
      "----\n",
      "[('Juda', '(0)'), ('gaat', '-'), ('met', '-'), ('het', '-'), ('voetbalteam', '-'), ('op', '-'), ('vakantie.', '-'), ('Zij', '(0)'), ('zijn', '-'), ('al', '-'), ('vaker', '-'), ('met', '-'), ('hen', '(0)'), ('weggeweest', '-'), ('.', '-')]\n",
      "----\n",
      "\n",
      "\n",
      "\n",
      "\n",
      "Name pronoun link\n",
      "\n",
      "Name pronoun, gender neutral name, gendered pronouns\n",
      "Test cases:      100\n",
      "Fails (rate):    1 (1.0%)\n",
      "\n",
      "Example fails:\n",
      "[('London', '-'), ('gaat', '-'), ('naar', '-'), ('zijn', '-'), ('interview.', '-')]\n",
      "----\n",
      "\n",
      "\n",
      "Name pronoun, gender neutral name, gender neutral pronouns\n",
      "Test cases:      100\n",
      "Fails (rate):    0 (0.0%)\n",
      "\n",
      "\n",
      "Name pronoun, male name, gendered pronouns\n",
      "Test cases:      100\n",
      "Fails (rate):    0 (0.0%)\n",
      "\n",
      "\n",
      "Name pronoun, male name, gender neutral pronouns\n",
      "Test cases:      100\n",
      "Fails (rate):    0 (0.0%)\n",
      "\n",
      "\n",
      "Name pronoun, female name, gendered pronouns\n",
      "Test cases:      100\n",
      "Fails (rate):    0 (0.0%)\n",
      "\n",
      "\n",
      "Name pronoun, female name, gender neutral pronouns\n",
      "Test cases:      100\n",
      "Fails (rate):    0 (0.0%)\n",
      "\n",
      "\n",
      "\n",
      "\n",
      "pronoun-pronoun-name\n",
      "\n",
      "Pronoun pronoun name, gendered pronouns\n",
      "Test cases:      100\n",
      "Fails (rate):    0 (0.0%)\n",
      "\n",
      "\n",
      "Pronoun pronoun name, gender neutral pronouns\n",
      "Test cases:      100\n",
      "Fails (rate):    0 (0.0%)\n",
      "\n",
      "\n",
      "Pronoun pronoun name, mixed pronouns\n",
      "Test cases:      100\n",
      "Fails (rate):    0 (0.0%)\n",
      "\n",
      "\n",
      "\n",
      "\n"
     ]
    }
   ],
   "source": [
    "suite.summary(format_example_fn = format_sent)"
   ]
  },
  {
   "cell_type": "code",
   "execution_count": 17,
   "id": "bd46b7c6",
   "metadata": {
    "scrolled": true
   },
   "outputs": [
    {
     "name": "stdout",
     "output_type": "stream",
     "text": [
      "Running Name pronoun, gender neutral name, gendered pronouns\n",
      "Predicting 100 examples\n"
     ]
    },
    {
     "name": "stderr",
     "output_type": "stream",
     "text": [
      "100%|██████████| 100/100 [00:02<00:00, 40.80docs/s]\n"
     ]
    },
    {
     "name": "stdout",
     "output_type": "stream",
     "text": [
      "Running Name pronoun, gender neutral name, gender neutral pronouns\n",
      "Predicting 100 examples\n"
     ]
    },
    {
     "name": "stderr",
     "output_type": "stream",
     "text": [
      "100%|██████████| 100/100 [00:02<00:00, 40.68docs/s]\n"
     ]
    },
    {
     "name": "stdout",
     "output_type": "stream",
     "text": [
      "Running Name pronoun, male name, gendered pronouns\n",
      "Predicting 100 examples\n"
     ]
    },
    {
     "name": "stderr",
     "output_type": "stream",
     "text": [
      "100%|██████████| 100/100 [00:02<00:00, 40.64docs/s]\n"
     ]
    },
    {
     "name": "stdout",
     "output_type": "stream",
     "text": [
      "Running Name pronoun, male name, gender neutral pronouns\n",
      "Predicting 100 examples\n"
     ]
    },
    {
     "name": "stderr",
     "output_type": "stream",
     "text": [
      "100%|██████████| 100/100 [00:02<00:00, 40.76docs/s]\n"
     ]
    },
    {
     "name": "stdout",
     "output_type": "stream",
     "text": [
      "Running Name pronoun, female name, gendered pronouns\n",
      "Predicting 100 examples\n"
     ]
    },
    {
     "name": "stderr",
     "output_type": "stream",
     "text": [
      "100%|██████████| 100/100 [00:02<00:00, 40.71docs/s]\n"
     ]
    },
    {
     "name": "stdout",
     "output_type": "stream",
     "text": [
      "Running Name pronoun, female name, gender neutral pronouns\n",
      "Predicting 100 examples\n"
     ]
    },
    {
     "name": "stderr",
     "output_type": "stream",
     "text": [
      "100%|██████████| 100/100 [00:02<00:00, 40.77docs/s]\n"
     ]
    },
    {
     "name": "stdout",
     "output_type": "stream",
     "text": [
      "Running Pronoun pronoun, gendered pronouns\n",
      "Predicting 100 examples\n"
     ]
    },
    {
     "name": "stderr",
     "output_type": "stream",
     "text": [
      "100%|██████████| 100/100 [00:02<00:00, 40.74docs/s]\n"
     ]
    },
    {
     "name": "stdout",
     "output_type": "stream",
     "text": [
      "Running Pronoun pronoun, gender neutral pronouns\n",
      "Predicting 100 examples\n"
     ]
    },
    {
     "name": "stderr",
     "output_type": "stream",
     "text": [
      "100%|██████████| 100/100 [00:02<00:00, 40.77docs/s]\n"
     ]
    },
    {
     "name": "stdout",
     "output_type": "stream",
     "text": [
      "Running Pronoun pronoun, mixed pronouns\n",
      "Predicting 100 examples\n"
     ]
    },
    {
     "name": "stderr",
     "output_type": "stream",
     "text": [
      "100%|██████████| 100/100 [00:02<00:00, 40.71docs/s]\n"
     ]
    },
    {
     "name": "stdout",
     "output_type": "stream",
     "text": [
      "Running Pronoun pronoun name, gendered pronouns\n",
      "Predicting 100 examples\n"
     ]
    },
    {
     "name": "stderr",
     "output_type": "stream",
     "text": [
      "100%|██████████| 100/100 [00:02<00:00, 40.08docs/s]\n"
     ]
    },
    {
     "name": "stdout",
     "output_type": "stream",
     "text": [
      "Running Pronoun pronoun name, gender neutral pronouns\n",
      "Predicting 100 examples\n"
     ]
    },
    {
     "name": "stderr",
     "output_type": "stream",
     "text": [
      "100%|██████████| 100/100 [00:02<00:00, 40.58docs/s]\n"
     ]
    },
    {
     "name": "stdout",
     "output_type": "stream",
     "text": [
      "Running Pronoun pronoun name, mixed pronouns\n",
      "Predicting 100 examples\n"
     ]
    },
    {
     "name": "stderr",
     "output_type": "stream",
     "text": [
      "100%|██████████| 100/100 [00:02<00:00, 40.58docs/s]\n"
     ]
    },
    {
     "name": "stdout",
     "output_type": "stream",
     "text": [
      "Running Hen-hen ambiguity, hen plural, gendered pronouns\n",
      "Predicting 100 examples\n"
     ]
    },
    {
     "name": "stderr",
     "output_type": "stream",
     "text": [
      "100%|██████████| 100/100 [00:02<00:00, 40.65docs/s]\n"
     ]
    },
    {
     "name": "stdout",
     "output_type": "stream",
     "text": [
      "Running Hen-hen ambiguity, hen plural, gender neutral pronouns\n",
      "Predicting 100 examples\n"
     ]
    },
    {
     "name": "stderr",
     "output_type": "stream",
     "text": [
      "100%|██████████| 100/100 [00:02<00:00, 40.49docs/s]\n"
     ]
    },
    {
     "name": "stdout",
     "output_type": "stream",
     "text": [
      "Running Hen-hen ambiguity, hen singular, gendered pronouns\n",
      "Predicting 100 examples\n"
     ]
    },
    {
     "name": "stderr",
     "output_type": "stream",
     "text": [
      "100%|██████████| 100/100 [00:02<00:00, 40.59docs/s]\n"
     ]
    },
    {
     "name": "stdout",
     "output_type": "stream",
     "text": [
      "Running Hen-hen ambiguity, hen singular, gender neutral pronouns\n",
      "Predicting 100 examples\n"
     ]
    },
    {
     "name": "stderr",
     "output_type": "stream",
     "text": [
      "100%|██████████| 100/100 [00:02<00:00, 40.33docs/s]\n"
     ]
    },
    {
     "name": "stdout",
     "output_type": "stream",
     "text": [
      "Running Die-die ambiguity, gendered pronouns\n",
      "Predicting 100 examples\n"
     ]
    },
    {
     "name": "stderr",
     "output_type": "stream",
     "text": [
      "100%|██████████| 100/100 [00:02<00:00, 40.50docs/s]\n"
     ]
    },
    {
     "name": "stdout",
     "output_type": "stream",
     "text": [
      "Running Die-die ambiguity, gender neutral pronouns\n",
      "Predicting 100 examples\n"
     ]
    },
    {
     "name": "stderr",
     "output_type": "stream",
     "text": [
      "100%|██████████| 100/100 [00:02<00:00, 40.67docs/s]\n"
     ]
    }
   ],
   "source": [
    "suite.run(predict_debiased3, overwrite=True)"
   ]
  },
  {
   "cell_type": "code",
   "execution_count": 18,
   "id": "04777bdd",
   "metadata": {
    "scrolled": false
   },
   "outputs": [
    {
     "name": "stdout",
     "output_type": "stream",
     "text": [
      "die-die-amb\n",
      "\n",
      "Die-die ambiguity, gendered pronouns\n",
      "Test cases:      100\n",
      "Fails (rate):    1 (1.0%)\n",
      "\n",
      "Example fails:\n",
      "[('Jos', '-'), ('die', '(0)'), ('hier', '-'), ('net', '-'), ('werkt', '-'), ('is', '-'), ('te', '-'), ('laat', '-'), ('omdat', '-'), ('zij', '(0)'), ('een', '-'), ('lekke', '-'), ('band', '-'), ('had', '-'), ('.', '-')]\n",
      "----\n",
      "\n",
      "\n",
      "Die-die ambiguity, gender neutral pronouns\n",
      "Test cases:      100\n",
      "Fails (rate):    0 (0.0%)\n",
      "\n",
      "\n",
      "\n",
      "\n",
      "pronoun-pronoun\n",
      "\n",
      "Pronoun pronoun, gendered pronouns\n",
      "Test cases:      100\n",
      "Fails (rate):    0 (0.0%)\n",
      "\n",
      "\n",
      "Pronoun pronoun, gender neutral pronouns\n",
      "Test cases:      100\n",
      "Fails (rate):    0 (0.0%)\n",
      "\n",
      "\n",
      "Pronoun pronoun, mixed pronouns\n",
      "Test cases:      100\n",
      "Fails (rate):    0 (0.0%)\n",
      "\n",
      "\n",
      "\n",
      "\n",
      "hen-hen-amb\n",
      "\n",
      "Hen-hen ambiguity, hen plural, gendered pronouns\n",
      "Test cases:      100\n",
      "Fails (rate):    100 (100.0%)\n",
      "\n",
      "Example fails:\n",
      "[('Phoenix', '(0)'), ('gaat', '-'), ('met', '-'), ('het', '-'), ('softbalteam', '-'), ('op', '-'), ('vakantie.', '-'), ('hij', '(0)'), ('is', '-'), ('al', '-'), ('vaker', '-'), ('met', '-'), ('hen', '(0)'), ('weggeweest.', '-')]\n",
      "----\n",
      "[('Sasha', '(0)'), ('gaat', '-'), ('met', '-'), ('het', '-'), ('volleybalteam', '-'), ('op', '-'), ('vakantie.', '-'), ('zij', '(0)'), ('is', '-'), ('al', '-'), ('vaker', '-'), ('met', '-'), ('hen', '(0)'), ('weggeweest.', '-')]\n",
      "----\n",
      "[('Jazz', '(0)'), ('gaat', '-'), ('met', '-'), ('het', '-'), ('handbalteam', '-'), ('op', '-'), ('vakantie.', '-'), ('zij', '(0)'), ('is', '-'), ('al', '-'), ('vaker', '-'), ('met', '-'), ('hen', '(0)'), ('weggeweest.', '-')]\n",
      "----\n",
      "\n",
      "\n",
      "Hen-hen ambiguity, hen plural, gender neutral pronouns\n",
      "Test cases:      100\n",
      "Fails (rate):    100 (100.0%)\n",
      "\n",
      "Example fails:\n",
      "[('Harper', '(0)'), ('gaat', '-'), ('met', '-'), ('het', '-'), ('softbalteam', '-'), ('op', '-'), ('vakantie.', '-'), ('die', '(0)'), ('is', '-'), ('al', '-'), ('vaker', '-'), ('met', '-'), ('hen', '(0)'), ('weggeweest.', '-')]\n",
      "----\n",
      "[('Sil', '(0)'), ('gaat', '-'), ('met', '-'), ('het', '-'), ('softbalteam', '-'), ('op', '-'), ('vakantie.', '-'), ('hen', '(0)'), ('is', '-'), ('al', '-'), ('vaker', '-'), ('met', '-'), ('hen', '(0)'), ('weggeweest.', '-')]\n",
      "----\n",
      "[('Rowan', '(0)'), ('gaat', '-'), ('met', '-'), ('het', '-'), ('volleybalteam', '-'), ('op', '-'), ('vakantie.', '-'), ('die', '(0)'), ('is', '-'), ('al', '-'), ('vaker', '-'), ('met', '-'), ('hen', '(0)'), ('weggeweest.', '-')]\n",
      "----\n",
      "\n",
      "\n",
      "Hen-hen ambiguity, hen singular, gendered pronouns\n",
      "Test cases:      100\n",
      "Fails (rate):    50 (50.0%)\n",
      "\n",
      "Example fails:\n",
      "[('Revi', '(0)'), ('gaat', '-'), ('met', '-'), ('het', '-'), ('handbalteam', '-'), ('op', '-'), ('vakantie.', '-'), ('Zij', '(0)'), ('zijn', '-'), ('al', '-'), ('vaker', '-'), ('met', '-'), ('haar', '(0)'), ('weggeweest', '-'), ('.', '-')]\n",
      "----\n",
      "[('Moss', '(0)'), ('gaat', '-'), ('met', '-'), ('het', '-'), ('handbalteam', '-'), ('op', '-'), ('vakantie.', '-'), ('Zij', '(0)'), ('zijn', '-'), ('al', '-'), ('vaker', '-'), ('met', '-'), ('haar', '(0)'), ('weggeweest', '-'), ('.', '-')]\n",
      "----\n",
      "[('Sascha', '(0)'), ('gaat', '-'), ('met', '-'), ('het', '-'), ('basketbalteam', '-'), ('op', '-'), ('vakantie.', '-'), ('Zij', '(0)'), ('zijn', '-'), ('al', '-'), ('vaker', '-'), ('met', '-'), ('hem', '(0)'), ('weggeweest', '-'), ('.', '-')]\n",
      "----\n",
      "\n",
      "\n",
      "Hen-hen ambiguity, hen singular, gender neutral pronouns\n",
      "Test cases:      100\n",
      "Fails (rate):    60 (60.0%)\n",
      "\n",
      "Example fails:\n",
      "[('Sydney', '(0)'), ('gaat', '-'), ('met', '-'), ('het', '-'), ('honkbalteam', '-'), ('op', '-'), ('vakantie.', '-'), ('Zij', '(0)'), ('zijn', '-'), ('al', '-'), ('vaker', '-'), ('met', '-'), ('hen', '(0)'), ('weggeweest', '-'), ('.', '-')]\n",
      "----\n",
      "[('Teddy', '(0)'), ('gaat', '-'), ('met', '-'), ('het', '-'), ('voetbalteam', '-'), ('op', '-'), ('vakantie.', '-'), ('Zij', '(0)'), ('zijn', '-'), ('al', '-'), ('vaker', '-'), ('met', '-'), ('hen', '(0)'), ('weggeweest', '-'), ('.', '-')]\n",
      "----\n",
      "[('Sascha', '(0)'), ('gaat', '-'), ('met', '-'), ('het', '-'), ('hockeyteam', '-'), ('op', '-'), ('vakantie.', '-'), ('Zij', '(0)'), ('zijn', '-'), ('al', '-'), ('vaker', '-'), ('met', '-'), ('hen', '(0)'), ('weggeweest', '-'), ('.', '-')]\n",
      "----\n",
      "\n",
      "\n",
      "\n",
      "\n",
      "Name pronoun link\n",
      "\n",
      "Name pronoun, gender neutral name, gendered pronouns\n",
      "Test cases:      100\n",
      "Fails (rate):    0 (0.0%)\n",
      "\n",
      "\n",
      "Name pronoun, gender neutral name, gender neutral pronouns\n",
      "Test cases:      100\n",
      "Fails (rate):    0 (0.0%)\n",
      "\n",
      "\n",
      "Name pronoun, male name, gendered pronouns\n",
      "Test cases:      100\n",
      "Fails (rate):    0 (0.0%)\n",
      "\n",
      "\n",
      "Name pronoun, male name, gender neutral pronouns\n",
      "Test cases:      100\n",
      "Fails (rate):    0 (0.0%)\n",
      "\n",
      "\n",
      "Name pronoun, female name, gendered pronouns\n",
      "Test cases:      100\n",
      "Fails (rate):    0 (0.0%)\n",
      "\n",
      "\n",
      "Name pronoun, female name, gender neutral pronouns\n",
      "Test cases:      100\n",
      "Fails (rate):    0 (0.0%)\n",
      "\n",
      "\n",
      "\n",
      "\n",
      "pronoun-pronoun-name\n",
      "\n",
      "Pronoun pronoun name, gendered pronouns\n",
      "Test cases:      100\n",
      "Fails (rate):    0 (0.0%)\n",
      "\n",
      "\n",
      "Pronoun pronoun name, gender neutral pronouns\n",
      "Test cases:      100\n",
      "Fails (rate):    0 (0.0%)\n",
      "\n",
      "\n",
      "Pronoun pronoun name, mixed pronouns\n",
      "Test cases:      100\n",
      "Fails (rate):    0 (0.0%)\n",
      "\n",
      "\n",
      "\n",
      "\n"
     ]
    }
   ],
   "source": [
    "suite.summary(format_example_fn = format_sent)"
   ]
  },
  {
   "cell_type": "code",
   "execution_count": 14,
   "id": "702db699",
   "metadata": {
    "scrolled": true
   },
   "outputs": [
    {
     "name": "stdout",
     "output_type": "stream",
     "text": [
      "Running Name pronoun, gender neutral name, gendered pronouns\n",
      "Predicting 100 examples\n"
     ]
    },
    {
     "name": "stderr",
     "output_type": "stream",
     "text": [
      "100%|██████████| 100/100 [00:03<00:00, 26.53docs/s]\n"
     ]
    },
    {
     "name": "stdout",
     "output_type": "stream",
     "text": [
      "Running Name pronoun, gender neutral name, gender neutral pronouns\n",
      "Predicting 100 examples\n"
     ]
    },
    {
     "name": "stderr",
     "output_type": "stream",
     "text": [
      "100%|██████████| 100/100 [00:02<00:00, 40.46docs/s]\n"
     ]
    },
    {
     "name": "stdout",
     "output_type": "stream",
     "text": [
      "Running Name pronoun, male name, gendered pronouns\n",
      "Predicting 100 examples\n"
     ]
    },
    {
     "name": "stderr",
     "output_type": "stream",
     "text": [
      "100%|██████████| 100/100 [00:02<00:00, 40.44docs/s]\n"
     ]
    },
    {
     "name": "stdout",
     "output_type": "stream",
     "text": [
      "Running Name pronoun, male name, gender neutral pronouns\n",
      "Predicting 100 examples\n"
     ]
    },
    {
     "name": "stderr",
     "output_type": "stream",
     "text": [
      "100%|██████████| 100/100 [00:02<00:00, 40.31docs/s]\n"
     ]
    },
    {
     "name": "stdout",
     "output_type": "stream",
     "text": [
      "Running Name pronoun, female name, gendered pronouns\n",
      "Predicting 100 examples\n"
     ]
    },
    {
     "name": "stderr",
     "output_type": "stream",
     "text": [
      "100%|██████████| 100/100 [00:02<00:00, 40.43docs/s]\n"
     ]
    },
    {
     "name": "stdout",
     "output_type": "stream",
     "text": [
      "Running Name pronoun, female name, gender neutral pronouns\n",
      "Predicting 100 examples\n"
     ]
    },
    {
     "name": "stderr",
     "output_type": "stream",
     "text": [
      "100%|██████████| 100/100 [00:02<00:00, 40.47docs/s]\n"
     ]
    },
    {
     "name": "stdout",
     "output_type": "stream",
     "text": [
      "Running Pronoun pronoun, gendered pronouns\n",
      "Predicting 100 examples\n"
     ]
    },
    {
     "name": "stderr",
     "output_type": "stream",
     "text": [
      "100%|██████████| 100/100 [00:02<00:00, 40.52docs/s]\n"
     ]
    },
    {
     "name": "stdout",
     "output_type": "stream",
     "text": [
      "Running Pronoun pronoun, gender neutral pronouns\n",
      "Predicting 100 examples\n"
     ]
    },
    {
     "name": "stderr",
     "output_type": "stream",
     "text": [
      "100%|██████████| 100/100 [00:02<00:00, 40.39docs/s]\n"
     ]
    },
    {
     "name": "stdout",
     "output_type": "stream",
     "text": [
      "Running Pronoun pronoun, mixed pronouns\n",
      "Predicting 100 examples\n"
     ]
    },
    {
     "name": "stderr",
     "output_type": "stream",
     "text": [
      "100%|██████████| 100/100 [00:02<00:00, 40.59docs/s]\n"
     ]
    },
    {
     "name": "stdout",
     "output_type": "stream",
     "text": [
      "Running Pronoun pronoun name, gendered pronouns\n",
      "Predicting 100 examples\n"
     ]
    },
    {
     "name": "stderr",
     "output_type": "stream",
     "text": [
      "100%|██████████| 100/100 [00:02<00:00, 40.34docs/s]\n"
     ]
    },
    {
     "name": "stdout",
     "output_type": "stream",
     "text": [
      "Running Pronoun pronoun name, gender neutral pronouns\n",
      "Predicting 100 examples\n"
     ]
    },
    {
     "name": "stderr",
     "output_type": "stream",
     "text": [
      "100%|██████████| 100/100 [00:02<00:00, 40.41docs/s]\n"
     ]
    },
    {
     "name": "stdout",
     "output_type": "stream",
     "text": [
      "Running Pronoun pronoun name, mixed pronouns\n",
      "Predicting 100 examples\n"
     ]
    },
    {
     "name": "stderr",
     "output_type": "stream",
     "text": [
      "100%|██████████| 100/100 [00:02<00:00, 40.38docs/s]\n"
     ]
    },
    {
     "name": "stdout",
     "output_type": "stream",
     "text": [
      "Running Hen-hen ambiguity, hen plural, gendered pronouns\n",
      "Predicting 100 examples\n"
     ]
    },
    {
     "name": "stderr",
     "output_type": "stream",
     "text": [
      "100%|██████████| 100/100 [00:02<00:00, 40.40docs/s]\n"
     ]
    },
    {
     "name": "stdout",
     "output_type": "stream",
     "text": [
      "Running Hen-hen ambiguity, hen plural, gender neutral pronouns\n",
      "Predicting 100 examples\n"
     ]
    },
    {
     "name": "stderr",
     "output_type": "stream",
     "text": [
      "100%|██████████| 100/100 [00:02<00:00, 40.41docs/s]\n"
     ]
    },
    {
     "name": "stdout",
     "output_type": "stream",
     "text": [
      "Running Hen-hen ambiguity, hen singular, gendered pronouns\n",
      "Predicting 100 examples\n"
     ]
    },
    {
     "name": "stderr",
     "output_type": "stream",
     "text": [
      "100%|██████████| 100/100 [00:02<00:00, 40.39docs/s]\n"
     ]
    },
    {
     "name": "stdout",
     "output_type": "stream",
     "text": [
      "Running Hen-hen ambiguity, hen singular, gender neutral pronouns\n",
      "Predicting 100 examples\n"
     ]
    },
    {
     "name": "stderr",
     "output_type": "stream",
     "text": [
      "100%|██████████| 100/100 [00:02<00:00, 40.40docs/s]\n"
     ]
    },
    {
     "name": "stdout",
     "output_type": "stream",
     "text": [
      "Running Die-die ambiguity, gendered pronouns\n",
      "Predicting 100 examples\n"
     ]
    },
    {
     "name": "stderr",
     "output_type": "stream",
     "text": [
      "100%|██████████| 100/100 [00:02<00:00, 40.48docs/s]\n"
     ]
    },
    {
     "name": "stdout",
     "output_type": "stream",
     "text": [
      "Running Die-die ambiguity, gender neutral pronouns\n",
      "Predicting 100 examples\n"
     ]
    },
    {
     "name": "stderr",
     "output_type": "stream",
     "text": [
      "100%|██████████| 100/100 [00:02<00:00, 40.55docs/s]\n"
     ]
    }
   ],
   "source": [
    "suite.run(predict_debiased4, overwrite=True)"
   ]
  },
  {
   "cell_type": "code",
   "execution_count": 15,
   "id": "97f428d6",
   "metadata": {
    "scrolled": true
   },
   "outputs": [
    {
     "name": "stdout",
     "output_type": "stream",
     "text": [
      "pronoun-pronoun\n",
      "\n",
      "Pronoun pronoun, gendered pronouns\n",
      "Test cases:      100\n",
      "Fails (rate):    2 (2.0%)\n",
      "\n",
      "Example fails:\n",
      "[('hij', '-'), ('gaat', '-'), ('naar', '-'), ('haar', '-'), ('interview.', '-')]\n",
      "----\n",
      "[('hij', '-'), ('gaat', '-'), ('naar', '-'), ('haar', '-'), ('interview.', '-')]\n",
      "----\n",
      "\n",
      "\n",
      "Pronoun pronoun, gender neutral pronouns\n",
      "Test cases:      100\n",
      "Fails (rate):    0 (0.0%)\n",
      "\n",
      "\n",
      "Pronoun pronoun, mixed pronouns\n",
      "Test cases:      100\n",
      "Fails (rate):    2 (2.0%)\n",
      "\n",
      "Example fails:\n",
      "[('hij', '-'), ('gaat', '-'), ('naar', '-'), ('haar', '-'), ('interview.', '-')]\n",
      "----\n",
      "[('hij', '-'), ('gaat', '-'), ('naar', '-'), ('haar', '-'), ('interview.', '-')]\n",
      "----\n",
      "\n",
      "\n",
      "\n",
      "\n",
      "Name pronoun link\n",
      "\n",
      "Name pronoun, gender neutral name, gendered pronouns\n",
      "Test cases:      100\n",
      "Fails (rate):    1 (1.0%)\n",
      "\n",
      "Example fails:\n",
      "[('London', '-'), ('gaat', '-'), ('naar', '-'), ('zijn', '-'), ('interview.', '-')]\n",
      "----\n",
      "\n",
      "\n",
      "Name pronoun, gender neutral name, gender neutral pronouns\n",
      "Test cases:      100\n",
      "Fails (rate):    0 (0.0%)\n",
      "\n",
      "\n",
      "Name pronoun, male name, gendered pronouns\n",
      "Test cases:      100\n",
      "Fails (rate):    1 (1.0%)\n",
      "\n",
      "Example fails:\n",
      "[('Jacques', '-'), ('gaat', '-'), ('naar', '-'), ('haar', '-'), ('interview.', '-')]\n",
      "----\n",
      "\n",
      "\n",
      "Name pronoun, male name, gender neutral pronouns\n",
      "Test cases:      100\n",
      "Fails (rate):    0 (0.0%)\n",
      "\n",
      "\n",
      "Name pronoun, female name, gendered pronouns\n",
      "Test cases:      100\n",
      "Fails (rate):    0 (0.0%)\n",
      "\n",
      "\n",
      "Name pronoun, female name, gender neutral pronouns\n",
      "Test cases:      100\n",
      "Fails (rate):    0 (0.0%)\n",
      "\n",
      "\n",
      "\n",
      "\n",
      "die-die-amb\n",
      "\n",
      "Die-die ambiguity, gendered pronouns\n",
      "Test cases:      100\n",
      "Fails (rate):    1 (1.0%)\n",
      "\n",
      "Example fails:\n",
      "[('Jos', '-'), ('die', '-'), ('hier', '-'), ('net', '-'), ('werkt', '-'), ('is', '-'), ('te', '-'), ('laat', '-'), ('omdat', '-'), ('zij', '-'), ('een', '-'), ('lekke', '-'), ('band', '-'), ('had', '-'), ('.', '-')]\n",
      "----\n",
      "\n",
      "\n",
      "Die-die ambiguity, gender neutral pronouns\n",
      "Test cases:      100\n",
      "Fails (rate):    6 (6.0%)\n",
      "\n",
      "Example fails:\n",
      "[('Jip', '-'), ('die', '(0)'), ('hier', '-'), ('net', '-'), ('werkt', '-'), ('is', '-'), ('te', '-'), ('laat', '-'), ('omdat', '-'), ('die', '(0)'), ('een', '-'), ('lekke', '-'), ('band', '-'), ('had', '-'), ('.', '-')]\n",
      "----\n",
      "[('Riv', '-'), ('die', '-'), ('hier', '-'), ('net', '-'), ('werkt', '-'), ('is', '-'), ('te', '-'), ('laat', '-'), ('omdat', '-'), ('die', '-'), ('een', '-'), ('lekke', '-'), ('band', '-'), ('had', '-'), ('.', '-')]\n",
      "----\n",
      "[('Riv', '-'), ('die', '-'), ('hier', '-'), ('net', '-'), ('werkt', '-'), ('is', '-'), ('te', '-'), ('laat', '-'), ('omdat', '-'), ('die', '-'), ('een', '-'), ('lekke', '-'), ('band', '-'), ('had', '-'), ('.', '-')]\n",
      "----\n",
      "\n",
      "\n",
      "\n",
      "\n",
      "pronoun-pronoun-name\n",
      "\n",
      "Pronoun pronoun name, gendered pronouns\n",
      "Test cases:      100\n",
      "Fails (rate):    0 (0.0%)\n",
      "\n",
      "\n",
      "Pronoun pronoun name, gender neutral pronouns\n",
      "Test cases:      100\n",
      "Fails (rate):    0 (0.0%)\n",
      "\n",
      "\n",
      "Pronoun pronoun name, mixed pronouns\n",
      "Test cases:      100\n",
      "Fails (rate):    0 (0.0%)\n",
      "\n",
      "\n",
      "\n",
      "\n",
      "hen-hen-amb\n",
      "\n",
      "Hen-hen ambiguity, hen plural, gendered pronouns\n",
      "Test cases:      100\n",
      "Fails (rate):    37 (37.0%)\n",
      "\n",
      "Example fails:\n",
      "[('Lyric', '(0)'), ('gaat', '-'), ('met', '-'), ('het', '-'), ('softbalteam', '-'), ('op', '-'), ('vakantie.', '-'), ('zij', '(0)'), ('is', '-'), ('al', '-'), ('vaker', '-'), ('met', '-'), ('hen', '(0)'), ('weggeweest.', '-')]\n",
      "----\n",
      "[('Sasha', '(0)'), ('gaat', '-'), ('met', '-'), ('het', '-'), ('volleybalteam', '-'), ('op', '-'), ('vakantie.', '-'), ('zij', '(0)'), ('is', '-'), ('al', '-'), ('vaker', '-'), ('met', '-'), ('hen', '(0)'), ('weggeweest.', '-')]\n",
      "----\n",
      "[('Hunter', '(0)'), ('gaat', '-'), ('met', '-'), ('het', '-'), ('volleybalteam', '-'), ('op', '-'), ('vakantie.', '-'), ('zij', '(0)'), ('is', '-'), ('al', '-'), ('vaker', '-'), ('met', '-'), ('hen', '(0)'), ('weggeweest.', '-')]\n",
      "----\n",
      "\n",
      "\n",
      "Hen-hen ambiguity, hen plural, gender neutral pronouns\n",
      "Test cases:      100\n",
      "Fails (rate):    74 (74.0%)\n",
      "\n",
      "Example fails:\n",
      "[('Nicky', '(0)'), ('gaat', '-'), ('met', '-'), ('het', '-'), ('basketbalteam', '-'), ('op', '-'), ('vakantie.', '-'), ('die', '(0)'), ('is', '-'), ('al', '-'), ('vaker', '-'), ('met', '-'), ('hen', '(0)'), ('weggeweest.', '-')]\n",
      "----\n",
      "[('Yaniek', '(0)'), ('gaat', '-'), ('met', '-'), ('het', '-'), ('volleybalteam', '-'), ('op', '-'), ('vakantie.', '-'), ('hen', '(0)'), ('is', '-'), ('al', '-'), ('vaker', '-'), ('met', '-'), ('hen', '(0)'), ('weggeweest.', '-')]\n",
      "----\n",
      "[('Eden', '(0)'), ('gaat', '-'), ('met', '-'), ('het', '-'), ('handbalteam', '-'), ('op', '-'), ('vakantie.', '-'), ('hen', '(0)'), ('is', '-'), ('al', '-'), ('vaker', '-'), ('met', '-'), ('hen', '(0)'), ('weggeweest.', '-')]\n",
      "----\n",
      "\n",
      "\n",
      "Hen-hen ambiguity, hen singular, gendered pronouns\n",
      "Test cases:      100\n",
      "Fails (rate):    5 (5.0%)\n",
      "\n",
      "Example fails:\n",
      "[('Sydney', '-'), ('gaat', '-'), ('met', '-'), ('het', '-'), ('softbalteam', '(0)'), ('op', '-'), ('vakantie.', '-'), ('Zij', '(0)'), ('zijn', '-'), ('al', '-'), ('vaker', '-'), ('met', '-'), ('hem', '(0)'), ('weggeweest', '-'), ('.', '-')]\n",
      "----\n",
      "[('Riv', '-'), ('gaat', '-'), ('met', '-'), ('het', '-'), ('softbalteam', '(0)'), ('op', '-'), ('vakantie.', '-'), ('Zij', '(0)'), ('zijn', '-'), ('al', '-'), ('vaker', '-'), ('met', '-'), ('hem', '(0)'), ('weggeweest', '-'), ('.', '-')]\n",
      "----\n",
      "[('Everest', '-'), ('gaat', '-'), ('met', '-'), ('het', '-'), ('basketbalteam', '(0)'), ('op', '-'), ('vakantie.', '-'), ('Zij', '(0)'), ('zijn', '-'), ('al', '-'), ('vaker', '-'), ('met', '-'), ('haar', '(0)'), ('weggeweest', '-'), ('.', '-')]\n",
      "----\n",
      "\n",
      "\n",
      "Hen-hen ambiguity, hen singular, gender neutral pronouns\n",
      "Test cases:      100\n",
      "Fails (rate):    74 (74.0%)\n",
      "\n",
      "Example fails:\n",
      "[('Arbor', '-'), ('gaat', '-'), ('met', '-'), ('het', '-'), ('handbalteam', '(0)'), ('op', '-'), ('vakantie.', '-'), ('Zij', '(0)'), ('zijn', '-'), ('al', '-'), ('vaker', '-'), ('met', '-'), ('hen', '(0)'), ('weggeweest', '-'), ('.', '-')]\n",
      "----\n",
      "[('Sasha', '-'), ('gaat', '-'), ('met', '-'), ('het', '-'), ('basketbalteam', '(0)'), ('op', '-'), ('vakantie.', '-'), ('Zij', '(0)'), ('zijn', '-'), ('al', '-'), ('vaker', '-'), ('met', '-'), ('hen', '(0)'), ('weggeweest', '-'), ('.', '-')]\n",
      "----\n",
      "[('Eden', '-'), ('gaat', '-'), ('met', '-'), ('het', '-'), ('basketbalteam', '(0)'), ('op', '-'), ('vakantie.', '-'), ('Zij', '(0)'), ('zijn', '-'), ('al', '-'), ('vaker', '-'), ('met', '-'), ('hen', '(0)'), ('weggeweest', '-'), ('.', '-')]\n",
      "----\n",
      "\n",
      "\n",
      "\n",
      "\n"
     ]
    }
   ],
   "source": [
    "suite.summary(format_example_fn = format_sent)"
   ]
  },
  {
   "cell_type": "code",
   "execution_count": 16,
   "id": "ab094ae7",
   "metadata": {
    "scrolled": true
   },
   "outputs": [
    {
     "name": "stdout",
     "output_type": "stream",
     "text": [
      "Running Name pronoun, gender neutral name, gendered pronouns\n",
      "Predicting 100 examples\n"
     ]
    },
    {
     "name": "stderr",
     "output_type": "stream",
     "text": [
      "100%|██████████| 100/100 [00:02<00:00, 40.29docs/s]\n"
     ]
    },
    {
     "name": "stdout",
     "output_type": "stream",
     "text": [
      "Running Name pronoun, gender neutral name, gender neutral pronouns\n",
      "Predicting 100 examples\n"
     ]
    },
    {
     "name": "stderr",
     "output_type": "stream",
     "text": [
      "100%|██████████| 100/100 [00:02<00:00, 40.50docs/s]\n"
     ]
    },
    {
     "name": "stdout",
     "output_type": "stream",
     "text": [
      "Running Name pronoun, male name, gendered pronouns\n",
      "Predicting 100 examples\n"
     ]
    },
    {
     "name": "stderr",
     "output_type": "stream",
     "text": [
      "100%|██████████| 100/100 [00:02<00:00, 40.45docs/s]\n"
     ]
    },
    {
     "name": "stdout",
     "output_type": "stream",
     "text": [
      "Running Name pronoun, male name, gender neutral pronouns\n",
      "Predicting 100 examples\n"
     ]
    },
    {
     "name": "stderr",
     "output_type": "stream",
     "text": [
      "100%|██████████| 100/100 [00:02<00:00, 40.56docs/s]\n"
     ]
    },
    {
     "name": "stdout",
     "output_type": "stream",
     "text": [
      "Running Name pronoun, female name, gendered pronouns\n",
      "Predicting 100 examples\n"
     ]
    },
    {
     "name": "stderr",
     "output_type": "stream",
     "text": [
      "100%|██████████| 100/100 [00:02<00:00, 40.46docs/s]\n"
     ]
    },
    {
     "name": "stdout",
     "output_type": "stream",
     "text": [
      "Running Name pronoun, female name, gender neutral pronouns\n",
      "Predicting 100 examples\n"
     ]
    },
    {
     "name": "stderr",
     "output_type": "stream",
     "text": [
      "100%|██████████| 100/100 [00:02<00:00, 40.48docs/s]\n"
     ]
    },
    {
     "name": "stdout",
     "output_type": "stream",
     "text": [
      "Running Pronoun pronoun, gendered pronouns\n",
      "Predicting 100 examples\n"
     ]
    },
    {
     "name": "stderr",
     "output_type": "stream",
     "text": [
      "100%|██████████| 100/100 [00:02<00:00, 40.50docs/s]\n"
     ]
    },
    {
     "name": "stdout",
     "output_type": "stream",
     "text": [
      "Running Pronoun pronoun, gender neutral pronouns\n",
      "Predicting 100 examples\n"
     ]
    },
    {
     "name": "stderr",
     "output_type": "stream",
     "text": [
      "100%|██████████| 100/100 [00:02<00:00, 40.56docs/s]\n"
     ]
    },
    {
     "name": "stdout",
     "output_type": "stream",
     "text": [
      "Running Pronoun pronoun, mixed pronouns\n",
      "Predicting 100 examples\n"
     ]
    },
    {
     "name": "stderr",
     "output_type": "stream",
     "text": [
      "100%|██████████| 100/100 [00:02<00:00, 40.47docs/s]\n"
     ]
    },
    {
     "name": "stdout",
     "output_type": "stream",
     "text": [
      "Running Pronoun pronoun name, gendered pronouns\n",
      "Predicting 100 examples\n"
     ]
    },
    {
     "name": "stderr",
     "output_type": "stream",
     "text": [
      "100%|██████████| 100/100 [00:02<00:00, 40.40docs/s]\n"
     ]
    },
    {
     "name": "stdout",
     "output_type": "stream",
     "text": [
      "Running Pronoun pronoun name, gender neutral pronouns\n",
      "Predicting 100 examples\n"
     ]
    },
    {
     "name": "stderr",
     "output_type": "stream",
     "text": [
      "100%|██████████| 100/100 [00:02<00:00, 40.37docs/s]\n"
     ]
    },
    {
     "name": "stdout",
     "output_type": "stream",
     "text": [
      "Running Pronoun pronoun name, mixed pronouns\n",
      "Predicting 100 examples\n"
     ]
    },
    {
     "name": "stderr",
     "output_type": "stream",
     "text": [
      "100%|██████████| 100/100 [00:02<00:00, 40.30docs/s]\n"
     ]
    },
    {
     "name": "stdout",
     "output_type": "stream",
     "text": [
      "Running Hen-hen ambiguity, hen plural, gendered pronouns\n",
      "Predicting 100 examples\n"
     ]
    },
    {
     "name": "stderr",
     "output_type": "stream",
     "text": [
      "100%|██████████| 100/100 [00:02<00:00, 40.38docs/s]\n"
     ]
    },
    {
     "name": "stdout",
     "output_type": "stream",
     "text": [
      "Running Hen-hen ambiguity, hen plural, gender neutral pronouns\n",
      "Predicting 100 examples\n"
     ]
    },
    {
     "name": "stderr",
     "output_type": "stream",
     "text": [
      "100%|██████████| 100/100 [00:02<00:00, 40.35docs/s]\n"
     ]
    },
    {
     "name": "stdout",
     "output_type": "stream",
     "text": [
      "Running Hen-hen ambiguity, hen singular, gendered pronouns\n",
      "Predicting 100 examples\n"
     ]
    },
    {
     "name": "stderr",
     "output_type": "stream",
     "text": [
      "100%|██████████| 100/100 [00:02<00:00, 40.24docs/s]\n"
     ]
    },
    {
     "name": "stdout",
     "output_type": "stream",
     "text": [
      "Running Hen-hen ambiguity, hen singular, gender neutral pronouns\n",
      "Predicting 100 examples\n"
     ]
    },
    {
     "name": "stderr",
     "output_type": "stream",
     "text": [
      "100%|██████████| 100/100 [00:02<00:00, 39.98docs/s]\n"
     ]
    },
    {
     "name": "stdout",
     "output_type": "stream",
     "text": [
      "Running Die-die ambiguity, gendered pronouns\n",
      "Predicting 100 examples\n"
     ]
    },
    {
     "name": "stderr",
     "output_type": "stream",
     "text": [
      "100%|██████████| 100/100 [00:02<00:00, 40.18docs/s]\n"
     ]
    },
    {
     "name": "stdout",
     "output_type": "stream",
     "text": [
      "Running Die-die ambiguity, gender neutral pronouns\n",
      "Predicting 100 examples\n"
     ]
    },
    {
     "name": "stderr",
     "output_type": "stream",
     "text": [
      "100%|██████████| 100/100 [00:02<00:00, 40.33docs/s]\n"
     ]
    }
   ],
   "source": [
    "suite.run(predict_debiased5, overwrite=True)"
   ]
  },
  {
   "cell_type": "code",
   "execution_count": 17,
   "id": "55595cd8",
   "metadata": {
    "scrolled": true
   },
   "outputs": [
    {
     "name": "stdout",
     "output_type": "stream",
     "text": [
      "pronoun-pronoun\n",
      "\n",
      "Pronoun pronoun, gendered pronouns\n",
      "Test cases:      100\n",
      "Fails (rate):    2 (2.0%)\n",
      "\n",
      "Example fails:\n",
      "[('hij', '-'), ('gaat', '-'), ('naar', '-'), ('haar', '-'), ('interview.', '-')]\n",
      "----\n",
      "[('hij', '-'), ('gaat', '-'), ('naar', '-'), ('haar', '-'), ('interview.', '-')]\n",
      "----\n",
      "\n",
      "\n",
      "Pronoun pronoun, gender neutral pronouns\n",
      "Test cases:      100\n",
      "Fails (rate):    0 (0.0%)\n",
      "\n",
      "\n",
      "Pronoun pronoun, mixed pronouns\n",
      "Test cases:      100\n",
      "Fails (rate):    2 (2.0%)\n",
      "\n",
      "Example fails:\n",
      "[('hij', '-'), ('gaat', '-'), ('naar', '-'), ('haar', '-'), ('interview.', '-')]\n",
      "----\n",
      "[('hij', '-'), ('gaat', '-'), ('naar', '-'), ('haar', '-'), ('interview.', '-')]\n",
      "----\n",
      "\n",
      "\n",
      "\n",
      "\n",
      "Name pronoun link\n",
      "\n",
      "Name pronoun, gender neutral name, gendered pronouns\n",
      "Test cases:      100\n",
      "Fails (rate):    1 (1.0%)\n",
      "\n",
      "Example fails:\n",
      "[('London', '-'), ('gaat', '-'), ('naar', '-'), ('zijn', '-'), ('interview.', '-')]\n",
      "----\n",
      "\n",
      "\n",
      "Name pronoun, gender neutral name, gender neutral pronouns\n",
      "Test cases:      100\n",
      "Fails (rate):    0 (0.0%)\n",
      "\n",
      "\n",
      "Name pronoun, male name, gendered pronouns\n",
      "Test cases:      100\n",
      "Fails (rate):    1 (1.0%)\n",
      "\n",
      "Example fails:\n",
      "[('Wouter', '-'), ('gaat', '-'), ('naar', '-'), ('haar', '-'), ('interview.', '-')]\n",
      "----\n",
      "\n",
      "\n",
      "Name pronoun, male name, gender neutral pronouns\n",
      "Test cases:      100\n",
      "Fails (rate):    1 (1.0%)\n",
      "\n",
      "Example fails:\n",
      "[('Cor', '-'), ('gaat', '-'), ('naar', '-'), ('hun', '-'), ('interview.', '-')]\n",
      "----\n",
      "\n",
      "\n",
      "Name pronoun, female name, gendered pronouns\n",
      "Test cases:      100\n",
      "Fails (rate):    2 (2.0%)\n",
      "\n",
      "Example fails:\n",
      "[('Marieke', '-'), ('gaat', '-'), ('naar', '-'), ('zijn', '-'), ('interview.', '-')]\n",
      "----\n",
      "[('Marieke', '-'), ('gaat', '-'), ('naar', '-'), ('zijn', '-'), ('interview.', '-')]\n",
      "----\n",
      "\n",
      "\n",
      "Name pronoun, female name, gender neutral pronouns\n",
      "Test cases:      100\n",
      "Fails (rate):    0 (0.0%)\n",
      "\n",
      "\n",
      "\n",
      "\n",
      "die-die-amb\n",
      "\n",
      "Die-die ambiguity, gendered pronouns\n",
      "Test cases:      100\n",
      "Fails (rate):    1 (1.0%)\n",
      "\n",
      "Example fails:\n",
      "[('Jos', '-'), ('die', '-'), ('hier', '-'), ('net', '-'), ('werkt', '-'), ('is', '-'), ('te', '-'), ('laat', '-'), ('omdat', '-'), ('zij', '-'), ('een', '-'), ('lekke', '-'), ('band', '-'), ('had', '-'), ('.', '-')]\n",
      "----\n",
      "\n",
      "\n",
      "Die-die ambiguity, gender neutral pronouns\n",
      "Test cases:      100\n",
      "Fails (rate):    0 (0.0%)\n",
      "\n",
      "\n",
      "\n",
      "\n",
      "pronoun-pronoun-name\n",
      "\n",
      "Pronoun pronoun name, gendered pronouns\n",
      "Test cases:      100\n",
      "Fails (rate):    0 (0.0%)\n",
      "\n",
      "\n",
      "Pronoun pronoun name, gender neutral pronouns\n",
      "Test cases:      100\n",
      "Fails (rate):    0 (0.0%)\n",
      "\n",
      "\n",
      "Pronoun pronoun name, mixed pronouns\n",
      "Test cases:      100\n",
      "Fails (rate):    0 (0.0%)\n",
      "\n",
      "\n",
      "\n",
      "\n",
      "hen-hen-amb\n",
      "\n",
      "Hen-hen ambiguity, hen plural, gendered pronouns\n",
      "Test cases:      100\n",
      "Fails (rate):    71 (71.0%)\n",
      "\n",
      "Example fails:\n",
      "[('Jazz', '(0)'), ('gaat', '-'), ('met', '-'), ('het', '-'), ('handbalteam', '-'), ('op', '-'), ('vakantie.', '-'), ('hij', '(0)'), ('is', '-'), ('al', '-'), ('vaker', '-'), ('met', '-'), ('hen', '(0)'), ('weggeweest.', '-')]\n",
      "----\n",
      "[('Billie', '(0)'), ('gaat', '-'), ('met', '-'), ('het', '-'), ('volleybalteam', '(1)'), ('op', '-'), ('vakantie.', '-'), ('zij', '(1)'), ('is', '-'), ('al', '-'), ('vaker', '-'), ('met', '-'), ('hen', '(0)'), ('weggeweest.', '-')]\n",
      "----\n",
      "[('River', '(0)'), ('gaat', '-'), ('met', '-'), ('het', '-'), ('hockeyteam', '-'), ('op', '-'), ('vakantie.', '-'), ('zij', '(0)'), ('is', '-'), ('al', '-'), ('vaker', '-'), ('met', '-'), ('hen', '(0)'), ('weggeweest.', '-')]\n",
      "----\n",
      "\n",
      "\n",
      "Hen-hen ambiguity, hen plural, gender neutral pronouns\n",
      "Test cases:      100\n",
      "Fails (rate):    91 (91.0%)\n",
      "\n",
      "Example fails:\n",
      "[('Harper', '(0)'), ('gaat', '-'), ('met', '-'), ('het', '-'), ('softbalteam', '(1)'), ('op', '-'), ('vakantie.', '-'), ('die', '(1)'), ('is', '-'), ('al', '-'), ('vaker', '-'), ('met', '-'), ('hen', '(0)'), ('weggeweest.', '-')]\n",
      "----\n",
      "[('Arbor', '(0)'), ('gaat', '-'), ('met', '-'), ('het', '-'), ('voetbalteam', '(1)'), ('op', '-'), ('vakantie.', '-'), ('die', '(1)'), ('is', '-'), ('al', '-'), ('vaker', '-'), ('met', '-'), ('hen', '(0)'), ('weggeweest.', '-')]\n",
      "----\n",
      "[('Jona', '-'), ('gaat', '-'), ('met', '-'), ('het', '-'), ('honkbalteam', '(0)'), ('op', '-'), ('vakantie.', '-'), ('die', '(0)'), ('is', '-'), ('al', '-'), ('vaker', '-'), ('met', '-'), ('hen', '(0)'), ('weggeweest.', '-')]\n",
      "----\n",
      "\n",
      "\n",
      "Hen-hen ambiguity, hen singular, gendered pronouns\n",
      "Test cases:      100\n",
      "Fails (rate):    0 (0.0%)\n",
      "\n",
      "\n",
      "Hen-hen ambiguity, hen singular, gender neutral pronouns\n",
      "Test cases:      100\n",
      "Fails (rate):    14 (14.0%)\n",
      "\n",
      "Example fails:\n",
      "[('Ocean', '-'), ('gaat', '-'), ('met', '-'), ('het', '-'), ('softbalteam', '(0)'), ('op', '-'), ('vakantie.', '-'), ('Zij', '(0)'), ('zijn', '-'), ('al', '-'), ('vaker', '-'), ('met', '-'), ('hen', '(0)'), ('weggeweest', '-'), ('.', '-')]\n",
      "----\n",
      "[('Jos', '-'), ('gaat', '-'), ('met', '-'), ('het', '-'), ('softbalteam', '(0)'), ('op', '-'), ('vakantie.', '-'), ('Zij', '(0)'), ('zijn', '-'), ('al', '-'), ('vaker', '-'), ('met', '-'), ('hen', '(0)'), ('weggeweest', '-'), ('.', '-')]\n",
      "----\n",
      "[('London', '-'), ('gaat', '-'), ('met', '-'), ('het', '-'), ('hockeyteam', '(0)'), ('op', '-'), ('vakantie.', '-'), ('Zij', '(0)'), ('zijn', '-'), ('al', '-'), ('vaker', '-'), ('met', '-'), ('hen', '(0)'), ('weggeweest', '-'), ('.', '-')]\n",
      "----\n",
      "\n",
      "\n",
      "\n",
      "\n"
     ]
    }
   ],
   "source": [
    "suite.summary(format_example_fn = format_sent)"
   ]
  },
  {
   "cell_type": "code",
   "execution_count": null,
   "id": "39ad993b",
   "metadata": {},
   "outputs": [],
   "source": []
  }
 ],
 "metadata": {
  "kernelspec": {
   "display_name": "wl-coref",
   "language": "python",
   "name": "wl-coref"
  },
  "language_info": {
   "codemirror_mode": {
    "name": "ipython",
    "version": 3
   },
   "file_extension": ".py",
   "mimetype": "text/x-python",
   "name": "python",
   "nbconvert_exporter": "python",
   "pygments_lexer": "ipython3",
   "version": "3.7.16"
  }
 },
 "nbformat": 4,
 "nbformat_minor": 5
}
